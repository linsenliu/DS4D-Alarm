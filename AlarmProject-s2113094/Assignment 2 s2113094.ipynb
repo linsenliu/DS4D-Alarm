{
 "cells": [
  {
   "cell_type": "markdown",
   "metadata": {},
   "source": [
    "# Assignment 2 - Alarm Data Challenge\n",
    "\n",
    "(This text is copied in from the Course Handbook.)\n",
    "\n",
    "### Brief\n",
    "\n",
    "Carry out a structured analysis of a portion of the data provided by your data holder. This should be structured as follows. This assignment is carried out with your group project. However, each student has to hand in their ​own​ and individual analysis. Within each group, students should decide that each student is doing an independent piece of analysis on a different part of the data.\n",
    "\n",
    "* **Describe**: tell us about the data that you have. We expect to see:\n",
    "    * what is the general type of the data (tabular, network, geographical, textual etc.),\n",
    "    * how large and complex is it (rows/columns, size, variation, structure)\n",
    "    * What fields and data types are present (max/min, levels for categorical values).     \n",
    "    * Links between this data and other data (e.g. foreign keys, unique ids)\n",
    "    * Summary statistics about the data - how many people, what time frame, field averages etc.\n",
    "    * How does the data relate to the questions that the data owner has discussed with you?\n",
    "\n",
    "\n",
    "* **Explore**: carry out a deeper exploration of the data. This includes looking at individual fields/variables to see the distribution of values they take (e.g. evenly distributed, bell curves, bi-modal) or how they are distributed in time. It also includes relationships between variables in your dataset: are there correlations? In which direction? Complex curves? We would expect to see roughly:\n",
    "    * 4-5 exploratory visualisations, presented in a readable form, with an explanation about what you have found\n",
    "    * 1-2 relationships between variables analysed\n",
    "    * Ideas about trends, outliers, clusters\n",
    "    * Reference to statistics, i.e. a sense of which relationships are significant, and what claims you can back up.\n",
    "\n",
    "\n",
    "* **Reflect and Hypothesise**: What do you think might be behind the relationships and distributions that you have found? How does your data relate to the world? In short, what hypotheses came up as you explored the data, and how would you go about testing them? We would expect to see:    \n",
    "    * A 200 word reflection on the data\n",
    "    * 3-5 hypotheses with an explanation of:\n",
    "        * What your hypothesis is\n",
    "        * why you think that (referring to your graphs)\n",
    "        * How you could go about testing it (note that this may include: further studies, asking the data owner, using some advanced algorithms, checking each data point individually, etc..)\n",
    "  \n",
    "  NOTE: You don’t have to actually test the hypotheses - you just have to demonstrate that you have plausibly thought about how you would test them.\n",
    "\n",
    "\n",
    "### Submission\n",
    "\n",
    "Each student should be submit an individual Jupyter notebook, with all of the output present, which we can run. Some notes:\n",
    "* If you have installed nonstandard packages, document what they are and how to install them.\n",
    "* You only need to submit your notebook through Learn - we will organise the data separately as some of you have large/private databases.\n",
    "* Make sure you have saved your notebook *with the output*, so we can immediately see your graphs etc.\n",
    "* Make sure you document which files are used at which point in the analysis.\n",
    "* Plagiarism is treated extremely seriously! You may be working on the same data, but we would expect to see different reports. In particular, the explorations should not be the same between members of the group. Discussion is absolutely fine and encouraged - wholesale copying is not."
   ]
  },
  {
   "cell_type": "markdown",
   "metadata": {},
   "source": [
    "## Set Up"
   ]
  },
  {
   "cell_type": "code",
   "execution_count": 1,
   "metadata": {},
   "outputs": [],
   "source": [
    "# Necessary import\n",
    "import pandas as pd\n",
    "import numpy as np\n",
    "from scipy import stats, integrate\n",
    "import matplotlib.pyplot as plt\n",
    "import seaborn as sns\n",
    "%matplotlib inline"
   ]
  },
  {
   "cell_type": "markdown",
   "metadata": {},
   "source": [
    "## Describe and Initially Clean \n",
    "\n",
    "There are four data sheets for this project\n",
    "* CustomerDataAnon.xlsx\n",
    "* CC Data 2020.xlsx\n",
    "* Services Data 2020 v2.csv\n",
    "* Service type.xlsx\n",
    "\n",
    "Briefly, based on the group division of labor, I will attempt to analyse the relationship between customer-specific identities (e.g., gender, age) and alarm behavior, so the primary data tables of interest are Customer Data Anon, Services Data 2020, and Service Type.\n",
    "\n",
    "I am going to look at them first based on the information provided by the data holder and the direction I have chosen to analyse them. In the process of looking at them, I found some obvious problems with the dataset itself, such as columns with almost all null values, rows with misplaced data, etc.; I also found some problems that were not easy to correlate and analyze later, such as data types that were not easy to handle, key data with null values, etc., so I did a preliminary cleaning for these problems first."
   ]
  },
  {
   "cell_type": "markdown",
   "metadata": {},
   "source": [
    "### 1. Customer Data\n",
    "\n",
    "The table contains information about some of the Blackwood customers (gender, age, birthday, health), each customer has a unique ID. This ID can be associated with the External ID in the Service Data, in order to analyse the relationship between a particular customer group and a specific service request."
   ]
  },
  {
   "cell_type": "code",
   "execution_count": 2,
   "metadata": {},
   "outputs": [
    {
     "data": {
      "text/html": [
       "<div>\n",
       "<style scoped>\n",
       "    .dataframe tbody tr th:only-of-type {\n",
       "        vertical-align: middle;\n",
       "    }\n",
       "\n",
       "    .dataframe tbody tr th {\n",
       "        vertical-align: top;\n",
       "    }\n",
       "\n",
       "    .dataframe thead th {\n",
       "        text-align: right;\n",
       "    }\n",
       "</style>\n",
       "<table border=\"1\" class=\"dataframe\">\n",
       "  <thead>\n",
       "    <tr style=\"text-align: right;\">\n",
       "      <th></th>\n",
       "      <th>ID</th>\n",
       "      <th>Gender</th>\n",
       "      <th>DateOfBirth</th>\n",
       "      <th>Age</th>\n",
       "      <th>StaffPlanConditions</th>\n",
       "      <th>CareSysCondition</th>\n",
       "    </tr>\n",
       "  </thead>\n",
       "  <tbody>\n",
       "    <tr>\n",
       "      <th>0</th>\n",
       "      <td>4711</td>\n",
       "      <td>F</td>\n",
       "      <td>1955-06-25</td>\n",
       "      <td>65.0</td>\n",
       "      <td>NaN</td>\n",
       "      <td>Cerebral Palsy</td>\n",
       "    </tr>\n",
       "    <tr>\n",
       "      <th>1</th>\n",
       "      <td>4732</td>\n",
       "      <td>F</td>\n",
       "      <td>1958-02-27</td>\n",
       "      <td>62.0</td>\n",
       "      <td>NaN</td>\n",
       "      <td>NaN</td>\n",
       "    </tr>\n",
       "    <tr>\n",
       "      <th>2</th>\n",
       "      <td>4743</td>\n",
       "      <td>F</td>\n",
       "      <td>1966-03-02</td>\n",
       "      <td>54.0</td>\n",
       "      <td>NaN</td>\n",
       "      <td>Learning Difficulties</td>\n",
       "    </tr>\n",
       "    <tr>\n",
       "      <th>3</th>\n",
       "      <td>4745</td>\n",
       "      <td>F</td>\n",
       "      <td>1950-07-12</td>\n",
       "      <td>70.0</td>\n",
       "      <td>NaN</td>\n",
       "      <td>NaN</td>\n",
       "    </tr>\n",
       "    <tr>\n",
       "      <th>4</th>\n",
       "      <td>4763</td>\n",
       "      <td>M</td>\n",
       "      <td>1956-04-16</td>\n",
       "      <td>64.0</td>\n",
       "      <td>NaN</td>\n",
       "      <td>Cerebral Palsy</td>\n",
       "    </tr>\n",
       "  </tbody>\n",
       "</table>\n",
       "</div>"
      ],
      "text/plain": [
       "     ID Gender DateOfBirth   Age StaffPlanConditions       CareSysCondition\n",
       "0  4711      F  1955-06-25  65.0                 NaN         Cerebral Palsy\n",
       "1  4732      F  1958-02-27  62.0                 NaN                    NaN\n",
       "2  4743      F  1966-03-02  54.0                 NaN  Learning Difficulties\n",
       "3  4745      F  1950-07-12  70.0                 NaN                    NaN\n",
       "4  4763      M  1956-04-16  64.0                 NaN         Cerebral Palsy"
      ]
     },
     "execution_count": 2,
     "metadata": {},
     "output_type": "execute_result"
    }
   ],
   "source": [
    "CustomerData = pd.read_excel('CustomerDataAnon.xlsx')\n",
    "\n",
    "CustomerData.head()"
   ]
  },
  {
   "cell_type": "markdown",
   "metadata": {},
   "source": [
    "Have a look at the information in the table itself, including the number of rows, columns, data types, null values, etc."
   ]
  },
  {
   "cell_type": "code",
   "execution_count": 3,
   "metadata": {},
   "outputs": [
    {
     "data": {
      "text/plain": [
       "Index(['ID', 'Gender', 'DateOfBirth', 'Age', 'StaffPlanConditions',\n",
       "       'CareSysCondition'],\n",
       "      dtype='object')"
      ]
     },
     "execution_count": 3,
     "metadata": {},
     "output_type": "execute_result"
    }
   ],
   "source": [
    "CustomerData.columns"
   ]
  },
  {
   "cell_type": "code",
   "execution_count": 4,
   "metadata": {},
   "outputs": [
    {
     "data": {
      "text/plain": [
       "(441, 6)"
      ]
     },
     "execution_count": 4,
     "metadata": {},
     "output_type": "execute_result"
    }
   ],
   "source": [
    "CustomerData.shape"
   ]
  },
  {
   "cell_type": "code",
   "execution_count": 5,
   "metadata": {},
   "outputs": [
    {
     "name": "stdout",
     "output_type": "stream",
     "text": [
      "<class 'pandas.core.frame.DataFrame'>\n",
      "RangeIndex: 441 entries, 0 to 440\n",
      "Data columns (total 6 columns):\n",
      " #   Column               Non-Null Count  Dtype         \n",
      "---  ------               --------------  -----         \n",
      " 0   ID                   441 non-null    int64         \n",
      " 1   Gender               441 non-null    object        \n",
      " 2   DateOfBirth          440 non-null    datetime64[ns]\n",
      " 3   Age                  440 non-null    float64       \n",
      " 4   StaffPlanConditions  79 non-null     object        \n",
      " 5   CareSysCondition     352 non-null    object        \n",
      "dtypes: datetime64[ns](1), float64(1), int64(1), object(3)\n",
      "memory usage: 20.8+ KB\n"
     ]
    }
   ],
   "source": [
    "CustomerData.info()"
   ]
  },
  {
   "cell_type": "code",
   "execution_count": 6,
   "metadata": {},
   "outputs": [
    {
     "data": {
      "text/html": [
       "<div>\n",
       "<style scoped>\n",
       "    .dataframe tbody tr th:only-of-type {\n",
       "        vertical-align: middle;\n",
       "    }\n",
       "\n",
       "    .dataframe tbody tr th {\n",
       "        vertical-align: top;\n",
       "    }\n",
       "\n",
       "    .dataframe thead th {\n",
       "        text-align: right;\n",
       "    }\n",
       "</style>\n",
       "<table border=\"1\" class=\"dataframe\">\n",
       "  <thead>\n",
       "    <tr style=\"text-align: right;\">\n",
       "      <th></th>\n",
       "      <th>ID</th>\n",
       "      <th>Age</th>\n",
       "    </tr>\n",
       "  </thead>\n",
       "  <tbody>\n",
       "    <tr>\n",
       "      <th>count</th>\n",
       "      <td>441.00000</td>\n",
       "      <td>440.000000</td>\n",
       "    </tr>\n",
       "    <tr>\n",
       "      <th>mean</th>\n",
       "      <td>7620.76644</td>\n",
       "      <td>64.679545</td>\n",
       "    </tr>\n",
       "    <tr>\n",
       "      <th>std</th>\n",
       "      <td>1409.87353</td>\n",
       "      <td>19.110148</td>\n",
       "    </tr>\n",
       "    <tr>\n",
       "      <th>min</th>\n",
       "      <td>4711.00000</td>\n",
       "      <td>2.000000</td>\n",
       "    </tr>\n",
       "    <tr>\n",
       "      <th>25%</th>\n",
       "      <td>6182.00000</td>\n",
       "      <td>51.000000</td>\n",
       "    </tr>\n",
       "    <tr>\n",
       "      <th>50%</th>\n",
       "      <td>8346.00000</td>\n",
       "      <td>65.000000</td>\n",
       "    </tr>\n",
       "    <tr>\n",
       "      <th>75%</th>\n",
       "      <td>8814.00000</td>\n",
       "      <td>82.000000</td>\n",
       "    </tr>\n",
       "    <tr>\n",
       "      <th>max</th>\n",
       "      <td>9035.00000</td>\n",
       "      <td>101.000000</td>\n",
       "    </tr>\n",
       "  </tbody>\n",
       "</table>\n",
       "</div>"
      ],
      "text/plain": [
       "               ID         Age\n",
       "count   441.00000  440.000000\n",
       "mean   7620.76644   64.679545\n",
       "std    1409.87353   19.110148\n",
       "min    4711.00000    2.000000\n",
       "25%    6182.00000   51.000000\n",
       "50%    8346.00000   65.000000\n",
       "75%    8814.00000   82.000000\n",
       "max    9035.00000  101.000000"
      ]
     },
     "execution_count": 6,
     "metadata": {},
     "output_type": "execute_result"
    }
   ],
   "source": [
    "CustomerData.describe()"
   ]
  },
  {
   "cell_type": "code",
   "execution_count": 7,
   "metadata": {},
   "outputs": [],
   "source": [
    "#CustomerData['Age'].astype('int')"
   ]
  },
  {
   "cell_type": "markdown",
   "metadata": {},
   "source": [
    "Next take a look at some of the key columns."
   ]
  },
  {
   "cell_type": "code",
   "execution_count": 8,
   "metadata": {},
   "outputs": [
    {
     "data": {
      "text/plain": [
       "7741    4\n",
       "6165    4\n",
       "8305    3\n",
       "7735    3\n",
       "6264    2\n",
       "       ..\n",
       "5783    1\n",
       "8198    1\n",
       "4763    1\n",
       "7839    1\n",
       "6148    1\n",
       "Name: ID, Length: 417, dtype: int64"
      ]
     },
     "execution_count": 8,
     "metadata": {},
     "output_type": "execute_result"
    }
   ],
   "source": [
    "# Have a look at some of the key columns\n",
    "CustomerData['ID'].value_counts()"
   ]
  },
  {
   "cell_type": "markdown",
   "metadata": {},
   "source": [
    "As you can see, the table contains 417 different user IDs and there are duplicate ID records. I tried to find the cause of this and do some cleaning."
   ]
  },
  {
   "cell_type": "markdown",
   "metadata": {},
   "source": [
    "I tried removing completely duplicate rows and found that there was no duplicate data."
   ]
  },
  {
   "cell_type": "code",
   "execution_count": 9,
   "metadata": {},
   "outputs": [
    {
     "name": "stdout",
     "output_type": "stream",
     "text": [
      "Empty DataFrame\n",
      "Columns: [ID, Gender, DateOfBirth, Age, StaffPlanConditions, CareSysCondition]\n",
      "Index: []\n"
     ]
    }
   ],
   "source": [
    "CustomerData_dp = CustomerData[CustomerData.duplicated()]\n",
    "print(CustomerData_dp)\n",
    "#CustomerData1 = CustomerData.drop_duplicates(subset='ID', keep='last')\n",
    "#CustomerData1"
   ]
  },
  {
   "cell_type": "markdown",
   "metadata": {},
   "source": [
    "Based on the information provided by the data holder: ‘There may be multiple lines where a customer has more than one reported condition, Caresys and staffplan hold medical data so this is why you may get different conditions or the same condition in each.’ I think the duplicate IDs appear because they have more than one Disabling Conditions record."
   ]
  },
  {
   "cell_type": "markdown",
   "metadata": {},
   "source": [
    "So check the Disabling Conditions recorded by both agencies first."
   ]
  },
  {
   "cell_type": "code",
   "execution_count": 10,
   "metadata": {},
   "outputs": [
    {
     "data": {
      "text/plain": [
       "Epilepsy                                              8\n",
       "Dementia                                              6\n",
       "Visual Impairment                                     6\n",
       "Cerebal Palsy                                         6\n",
       "Poor mobility                                         5\n",
       "Multiple Sclerosis                                    4\n",
       "Alzheimers                                            4\n",
       "Brain Injury                                          4\n",
       "Stroke                                                4\n",
       "Arthitis                                              3\n",
       "Blind                                                 3\n",
       "Spina Bifida                                          3\n",
       "Spinal Injury                                         3\n",
       "Mentally Ill                                          2\n",
       "COPD                                                  2\n",
       "Incontinence                                          2\n",
       "Hearing Impairment                                    2\n",
       "Huntingtons                                           1\n",
       "Heart Failure                                         1\n",
       "Parkinsons                                            1\n",
       "Cancer                                                1\n",
       "Asthma                                                1\n",
       "Skin Issues                                           1\n",
       "Prone to Falls                                        1\n",
       "Insulin Controlled Diabetes                           1\n",
       "Motor Neurone                                         1\n",
       "Bi Polar                                              1\n",
       "Deaf                                                  1\n",
       "Autism                                                1\n",
       "Name: StaffPlanConditions, dtype: int64"
      ]
     },
     "execution_count": 10,
     "metadata": {},
     "output_type": "execute_result"
    }
   ],
   "source": [
    "CustomerData['StaffPlanConditions'].value_counts()"
   ]
  },
  {
   "cell_type": "code",
   "execution_count": 11,
   "metadata": {},
   "outputs": [
    {
     "data": {
      "text/plain": [
       "Elderly Care/Support        81\n",
       "Cerebral Palsy              31\n",
       "Mental Health Issues        31\n",
       "Dementia                    26\n",
       "Multiple Sclerosis          22\n",
       "Brain Injury                22\n",
       "Learning Difficulties       20\n",
       "Lifelong Mobility Issues    19\n",
       "Stroke                      15\n",
       "Epilepsy                    11\n",
       "Spina Bifida                10\n",
       "Diabetes                     8\n",
       "Cancer                       8\n",
       "COPD                         7\n",
       "Visual Impairment            6\n",
       "Spinal Injury                6\n",
       "Arthritis                    6\n",
       "Parkinsons                   5\n",
       "Huntington's                 4\n",
       "Bi Polar Disorder            3\n",
       "Amputee                      2\n",
       "Asthma                       2\n",
       "Physical Injury              2\n",
       "OCD                          2\n",
       "Addiction Issues             1\n",
       "Down Syndrome                1\n",
       "Muscular Dystrophy           1\n",
       "Name: CareSysCondition, dtype: int64"
      ]
     },
     "execution_count": 11,
     "metadata": {},
     "output_type": "execute_result"
    }
   ],
   "source": [
    "CustomerData['CareSysCondition'].value_counts()"
   ]
  },
  {
   "cell_type": "markdown",
   "metadata": {},
   "source": [
    "Create a new column to merge the two different Disabling Conditions columns."
   ]
  },
  {
   "cell_type": "code",
   "execution_count": 12,
   "metadata": {},
   "outputs": [
    {
     "data": {
      "text/html": [
       "<div>\n",
       "<style scoped>\n",
       "    .dataframe tbody tr th:only-of-type {\n",
       "        vertical-align: middle;\n",
       "    }\n",
       "\n",
       "    .dataframe tbody tr th {\n",
       "        vertical-align: top;\n",
       "    }\n",
       "\n",
       "    .dataframe thead th {\n",
       "        text-align: right;\n",
       "    }\n",
       "</style>\n",
       "<table border=\"1\" class=\"dataframe\">\n",
       "  <thead>\n",
       "    <tr style=\"text-align: right;\">\n",
       "      <th></th>\n",
       "      <th>ID</th>\n",
       "      <th>Gender</th>\n",
       "      <th>DateOfBirth</th>\n",
       "      <th>Age</th>\n",
       "      <th>StaffPlanConditions</th>\n",
       "      <th>CareSysCondition</th>\n",
       "      <th>DisablingConditions</th>\n",
       "    </tr>\n",
       "  </thead>\n",
       "  <tbody>\n",
       "    <tr>\n",
       "      <th>0</th>\n",
       "      <td>4711</td>\n",
       "      <td>F</td>\n",
       "      <td>1955-06-25</td>\n",
       "      <td>65.0</td>\n",
       "      <td>NaN</td>\n",
       "      <td>Cerebral Palsy</td>\n",
       "      <td>Cerebral Palsy</td>\n",
       "    </tr>\n",
       "    <tr>\n",
       "      <th>1</th>\n",
       "      <td>4732</td>\n",
       "      <td>F</td>\n",
       "      <td>1958-02-27</td>\n",
       "      <td>62.0</td>\n",
       "      <td>NaN</td>\n",
       "      <td>NaN</td>\n",
       "      <td>NaN</td>\n",
       "    </tr>\n",
       "    <tr>\n",
       "      <th>2</th>\n",
       "      <td>4743</td>\n",
       "      <td>F</td>\n",
       "      <td>1966-03-02</td>\n",
       "      <td>54.0</td>\n",
       "      <td>NaN</td>\n",
       "      <td>Learning Difficulties</td>\n",
       "      <td>Learning Difficulties</td>\n",
       "    </tr>\n",
       "    <tr>\n",
       "      <th>3</th>\n",
       "      <td>4745</td>\n",
       "      <td>F</td>\n",
       "      <td>1950-07-12</td>\n",
       "      <td>70.0</td>\n",
       "      <td>NaN</td>\n",
       "      <td>NaN</td>\n",
       "      <td>NaN</td>\n",
       "    </tr>\n",
       "    <tr>\n",
       "      <th>4</th>\n",
       "      <td>4763</td>\n",
       "      <td>M</td>\n",
       "      <td>1956-04-16</td>\n",
       "      <td>64.0</td>\n",
       "      <td>NaN</td>\n",
       "      <td>Cerebral Palsy</td>\n",
       "      <td>Cerebral Palsy</td>\n",
       "    </tr>\n",
       "    <tr>\n",
       "      <th>...</th>\n",
       "      <td>...</td>\n",
       "      <td>...</td>\n",
       "      <td>...</td>\n",
       "      <td>...</td>\n",
       "      <td>...</td>\n",
       "      <td>...</td>\n",
       "      <td>...</td>\n",
       "    </tr>\n",
       "    <tr>\n",
       "      <th>436</th>\n",
       "      <td>9024</td>\n",
       "      <td>M</td>\n",
       "      <td>1969-06-15</td>\n",
       "      <td>51.0</td>\n",
       "      <td>NaN</td>\n",
       "      <td>Lifelong Mobility Issues</td>\n",
       "      <td>Lifelong Mobility Issues</td>\n",
       "    </tr>\n",
       "    <tr>\n",
       "      <th>437</th>\n",
       "      <td>9032</td>\n",
       "      <td>F</td>\n",
       "      <td>1926-03-14</td>\n",
       "      <td>94.0</td>\n",
       "      <td>NaN</td>\n",
       "      <td>Elderly Care/Support</td>\n",
       "      <td>Elderly Care/Support</td>\n",
       "    </tr>\n",
       "    <tr>\n",
       "      <th>438</th>\n",
       "      <td>9033</td>\n",
       "      <td>F</td>\n",
       "      <td>1947-03-26</td>\n",
       "      <td>73.0</td>\n",
       "      <td>NaN</td>\n",
       "      <td>Elderly Care/Support</td>\n",
       "      <td>Elderly Care/Support</td>\n",
       "    </tr>\n",
       "    <tr>\n",
       "      <th>439</th>\n",
       "      <td>9034</td>\n",
       "      <td>M</td>\n",
       "      <td>1933-05-07</td>\n",
       "      <td>87.0</td>\n",
       "      <td>NaN</td>\n",
       "      <td>Cancer</td>\n",
       "      <td>Cancer</td>\n",
       "    </tr>\n",
       "    <tr>\n",
       "      <th>440</th>\n",
       "      <td>9035</td>\n",
       "      <td>F</td>\n",
       "      <td>1982-10-10</td>\n",
       "      <td>38.0</td>\n",
       "      <td>NaN</td>\n",
       "      <td>Mental Health Issues</td>\n",
       "      <td>Mental Health Issues</td>\n",
       "    </tr>\n",
       "  </tbody>\n",
       "</table>\n",
       "<p>441 rows × 7 columns</p>\n",
       "</div>"
      ],
      "text/plain": [
       "       ID Gender DateOfBirth   Age StaffPlanConditions  \\\n",
       "0    4711      F  1955-06-25  65.0                 NaN   \n",
       "1    4732      F  1958-02-27  62.0                 NaN   \n",
       "2    4743      F  1966-03-02  54.0                 NaN   \n",
       "3    4745      F  1950-07-12  70.0                 NaN   \n",
       "4    4763      M  1956-04-16  64.0                 NaN   \n",
       "..    ...    ...         ...   ...                 ...   \n",
       "436  9024      M  1969-06-15  51.0                 NaN   \n",
       "437  9032      F  1926-03-14  94.0                 NaN   \n",
       "438  9033      F  1947-03-26  73.0                 NaN   \n",
       "439  9034      M  1933-05-07  87.0                 NaN   \n",
       "440  9035      F  1982-10-10  38.0                 NaN   \n",
       "\n",
       "             CareSysCondition       DisablingConditions  \n",
       "0              Cerebral Palsy            Cerebral Palsy  \n",
       "1                         NaN                       NaN  \n",
       "2       Learning Difficulties     Learning Difficulties  \n",
       "3                         NaN                       NaN  \n",
       "4              Cerebral Palsy            Cerebral Palsy  \n",
       "..                        ...                       ...  \n",
       "436  Lifelong Mobility Issues  Lifelong Mobility Issues  \n",
       "437      Elderly Care/Support      Elderly Care/Support  \n",
       "438      Elderly Care/Support      Elderly Care/Support  \n",
       "439                    Cancer                    Cancer  \n",
       "440      Mental Health Issues      Mental Health Issues  \n",
       "\n",
       "[441 rows x 7 columns]"
      ]
     },
     "execution_count": 12,
     "metadata": {},
     "output_type": "execute_result"
    }
   ],
   "source": [
    "#CustomerData['Conditions'] = CustomerData[['StaffPlanConditions', 'CareSysCondition']].agg(', '.join, axis=1)\n",
    "CustomerData['DisablingConditions'] = CustomerData[['StaffPlanConditions', 'CareSysCondition']].stack().groupby(level=0).agg(','.join)\n",
    "CustomerData"
   ]
  },
  {
   "cell_type": "markdown",
   "metadata": {},
   "source": [
    "Since I already have the aggregated data, I can delete the records under StaffPlanConditions and CareSysCondition separately."
   ]
  },
  {
   "cell_type": "code",
   "execution_count": 13,
   "metadata": {},
   "outputs": [],
   "source": [
    "CustomerData = CustomerData.drop(columns=['StaffPlanConditions', 'CareSysCondition'])"
   ]
  },
  {
   "cell_type": "markdown",
   "metadata": {},
   "source": [
    "For the empty values in the Conditions column, I thought it meant that this customer's Disabling Conditions were undocumented or it's healthy, so I filled those null values with 'None'."
   ]
  },
  {
   "cell_type": "code",
   "execution_count": 14,
   "metadata": {},
   "outputs": [
    {
     "data": {
      "text/html": [
       "<div>\n",
       "<style scoped>\n",
       "    .dataframe tbody tr th:only-of-type {\n",
       "        vertical-align: middle;\n",
       "    }\n",
       "\n",
       "    .dataframe tbody tr th {\n",
       "        vertical-align: top;\n",
       "    }\n",
       "\n",
       "    .dataframe thead th {\n",
       "        text-align: right;\n",
       "    }\n",
       "</style>\n",
       "<table border=\"1\" class=\"dataframe\">\n",
       "  <thead>\n",
       "    <tr style=\"text-align: right;\">\n",
       "      <th></th>\n",
       "      <th>ID</th>\n",
       "      <th>Gender</th>\n",
       "      <th>DateOfBirth</th>\n",
       "      <th>Age</th>\n",
       "      <th>DisablingConditions</th>\n",
       "    </tr>\n",
       "  </thead>\n",
       "  <tbody>\n",
       "    <tr>\n",
       "      <th>0</th>\n",
       "      <td>4711</td>\n",
       "      <td>F</td>\n",
       "      <td>1955-06-25</td>\n",
       "      <td>65.0</td>\n",
       "      <td>Cerebral Palsy</td>\n",
       "    </tr>\n",
       "    <tr>\n",
       "      <th>1</th>\n",
       "      <td>4732</td>\n",
       "      <td>F</td>\n",
       "      <td>1958-02-27</td>\n",
       "      <td>62.0</td>\n",
       "      <td>None</td>\n",
       "    </tr>\n",
       "    <tr>\n",
       "      <th>2</th>\n",
       "      <td>4743</td>\n",
       "      <td>F</td>\n",
       "      <td>1966-03-02</td>\n",
       "      <td>54.0</td>\n",
       "      <td>Learning Difficulties</td>\n",
       "    </tr>\n",
       "    <tr>\n",
       "      <th>3</th>\n",
       "      <td>4745</td>\n",
       "      <td>F</td>\n",
       "      <td>1950-07-12</td>\n",
       "      <td>70.0</td>\n",
       "      <td>None</td>\n",
       "    </tr>\n",
       "    <tr>\n",
       "      <th>4</th>\n",
       "      <td>4763</td>\n",
       "      <td>M</td>\n",
       "      <td>1956-04-16</td>\n",
       "      <td>64.0</td>\n",
       "      <td>Cerebral Palsy</td>\n",
       "    </tr>\n",
       "    <tr>\n",
       "      <th>...</th>\n",
       "      <td>...</td>\n",
       "      <td>...</td>\n",
       "      <td>...</td>\n",
       "      <td>...</td>\n",
       "      <td>...</td>\n",
       "    </tr>\n",
       "    <tr>\n",
       "      <th>436</th>\n",
       "      <td>9024</td>\n",
       "      <td>M</td>\n",
       "      <td>1969-06-15</td>\n",
       "      <td>51.0</td>\n",
       "      <td>Lifelong Mobility Issues</td>\n",
       "    </tr>\n",
       "    <tr>\n",
       "      <th>437</th>\n",
       "      <td>9032</td>\n",
       "      <td>F</td>\n",
       "      <td>1926-03-14</td>\n",
       "      <td>94.0</td>\n",
       "      <td>Elderly Care/Support</td>\n",
       "    </tr>\n",
       "    <tr>\n",
       "      <th>438</th>\n",
       "      <td>9033</td>\n",
       "      <td>F</td>\n",
       "      <td>1947-03-26</td>\n",
       "      <td>73.0</td>\n",
       "      <td>Elderly Care/Support</td>\n",
       "    </tr>\n",
       "    <tr>\n",
       "      <th>439</th>\n",
       "      <td>9034</td>\n",
       "      <td>M</td>\n",
       "      <td>1933-05-07</td>\n",
       "      <td>87.0</td>\n",
       "      <td>Cancer</td>\n",
       "    </tr>\n",
       "    <tr>\n",
       "      <th>440</th>\n",
       "      <td>9035</td>\n",
       "      <td>F</td>\n",
       "      <td>1982-10-10</td>\n",
       "      <td>38.0</td>\n",
       "      <td>Mental Health Issues</td>\n",
       "    </tr>\n",
       "  </tbody>\n",
       "</table>\n",
       "<p>441 rows × 5 columns</p>\n",
       "</div>"
      ],
      "text/plain": [
       "       ID Gender DateOfBirth   Age       DisablingConditions\n",
       "0    4711      F  1955-06-25  65.0            Cerebral Palsy\n",
       "1    4732      F  1958-02-27  62.0                      None\n",
       "2    4743      F  1966-03-02  54.0     Learning Difficulties\n",
       "3    4745      F  1950-07-12  70.0                      None\n",
       "4    4763      M  1956-04-16  64.0            Cerebral Palsy\n",
       "..    ...    ...         ...   ...                       ...\n",
       "436  9024      M  1969-06-15  51.0  Lifelong Mobility Issues\n",
       "437  9032      F  1926-03-14  94.0      Elderly Care/Support\n",
       "438  9033      F  1947-03-26  73.0      Elderly Care/Support\n",
       "439  9034      M  1933-05-07  87.0                    Cancer\n",
       "440  9035      F  1982-10-10  38.0      Mental Health Issues\n",
       "\n",
       "[441 rows x 5 columns]"
      ]
     },
     "execution_count": 14,
     "metadata": {},
     "output_type": "execute_result"
    }
   ],
   "source": [
    "CustomerData['DisablingConditions'] = CustomerData['DisablingConditions'].fillna('None')\n",
    "CustomerData"
   ]
  },
  {
   "cell_type": "markdown",
   "metadata": {},
   "source": [
    "Now, I'm looking at the information in that data table again and I see that there are null values in the Date of Birth and Age columns."
   ]
  },
  {
   "cell_type": "code",
   "execution_count": 15,
   "metadata": {},
   "outputs": [
    {
     "name": "stdout",
     "output_type": "stream",
     "text": [
      "<class 'pandas.core.frame.DataFrame'>\n",
      "RangeIndex: 441 entries, 0 to 440\n",
      "Data columns (total 5 columns):\n",
      " #   Column               Non-Null Count  Dtype         \n",
      "---  ------               --------------  -----         \n",
      " 0   ID                   441 non-null    int64         \n",
      " 1   Gender               441 non-null    object        \n",
      " 2   DateOfBirth          440 non-null    datetime64[ns]\n",
      " 3   Age                  440 non-null    float64       \n",
      " 4   DisablingConditions  441 non-null    object        \n",
      "dtypes: datetime64[ns](1), float64(1), int64(1), object(2)\n",
      "memory usage: 17.4+ KB\n"
     ]
    }
   ],
   "source": [
    "CustomerData.info()"
   ]
  },
  {
   "cell_type": "code",
   "execution_count": 16,
   "metadata": {},
   "outputs": [
    {
     "data": {
      "text/html": [
       "<div>\n",
       "<style scoped>\n",
       "    .dataframe tbody tr th:only-of-type {\n",
       "        vertical-align: middle;\n",
       "    }\n",
       "\n",
       "    .dataframe tbody tr th {\n",
       "        vertical-align: top;\n",
       "    }\n",
       "\n",
       "    .dataframe thead th {\n",
       "        text-align: right;\n",
       "    }\n",
       "</style>\n",
       "<table border=\"1\" class=\"dataframe\">\n",
       "  <thead>\n",
       "    <tr style=\"text-align: right;\">\n",
       "      <th></th>\n",
       "      <th>ID</th>\n",
       "      <th>Gender</th>\n",
       "      <th>DateOfBirth</th>\n",
       "      <th>Age</th>\n",
       "      <th>DisablingConditions</th>\n",
       "    </tr>\n",
       "  </thead>\n",
       "  <tbody>\n",
       "    <tr>\n",
       "      <th>174</th>\n",
       "      <td>7839</td>\n",
       "      <td>U</td>\n",
       "      <td>NaT</td>\n",
       "      <td>NaN</td>\n",
       "      <td>None</td>\n",
       "    </tr>\n",
       "  </tbody>\n",
       "</table>\n",
       "</div>"
      ],
      "text/plain": [
       "       ID Gender DateOfBirth  Age DisablingConditions\n",
       "174  7839      U         NaT  NaN                None"
      ]
     },
     "execution_count": 16,
     "metadata": {},
     "output_type": "execute_result"
    }
   ],
   "source": [
    "CustomerData[CustomerData.isnull().T.any()]"
   ]
  },
  {
   "cell_type": "markdown",
   "metadata": {},
   "source": [
    "With the above line of code, I noticed that both null values appear on the same line and that this record does not have a specific record for Gender and Disabling Conditions. I reckoned that this line of information didn't make sense for my project and decided to delete it."
   ]
  },
  {
   "cell_type": "code",
   "execution_count": 17,
   "metadata": {},
   "outputs": [],
   "source": [
    "CustomerData = CustomerData.dropna(axis=0, how='any')"
   ]
  },
  {
   "cell_type": "markdown",
   "metadata": {},
   "source": [
    "Next, I merged the different Disabling Conditions based on the same ID, gender, date of birth, and age to get a mostly clean data table."
   ]
  },
  {
   "cell_type": "code",
   "execution_count": 18,
   "metadata": {},
   "outputs": [
    {
     "data": {
      "text/html": [
       "<div>\n",
       "<style scoped>\n",
       "    .dataframe tbody tr th:only-of-type {\n",
       "        vertical-align: middle;\n",
       "    }\n",
       "\n",
       "    .dataframe tbody tr th {\n",
       "        vertical-align: top;\n",
       "    }\n",
       "\n",
       "    .dataframe thead th {\n",
       "        text-align: right;\n",
       "    }\n",
       "</style>\n",
       "<table border=\"1\" class=\"dataframe\">\n",
       "  <thead>\n",
       "    <tr style=\"text-align: right;\">\n",
       "      <th></th>\n",
       "      <th>ID</th>\n",
       "      <th>Gender</th>\n",
       "      <th>DateOfBirth</th>\n",
       "      <th>Age</th>\n",
       "      <th>DisablingConditions</th>\n",
       "    </tr>\n",
       "  </thead>\n",
       "  <tbody>\n",
       "    <tr>\n",
       "      <th>0</th>\n",
       "      <td>4711</td>\n",
       "      <td>F</td>\n",
       "      <td>1955-06-25</td>\n",
       "      <td>65.0</td>\n",
       "      <td>Cerebral Palsy</td>\n",
       "    </tr>\n",
       "    <tr>\n",
       "      <th>1</th>\n",
       "      <td>4732</td>\n",
       "      <td>F</td>\n",
       "      <td>1958-02-27</td>\n",
       "      <td>62.0</td>\n",
       "      <td>None</td>\n",
       "    </tr>\n",
       "    <tr>\n",
       "      <th>2</th>\n",
       "      <td>4743</td>\n",
       "      <td>F</td>\n",
       "      <td>1966-03-02</td>\n",
       "      <td>54.0</td>\n",
       "      <td>Learning Difficulties</td>\n",
       "    </tr>\n",
       "    <tr>\n",
       "      <th>3</th>\n",
       "      <td>4745</td>\n",
       "      <td>F</td>\n",
       "      <td>1950-07-12</td>\n",
       "      <td>70.0</td>\n",
       "      <td>None</td>\n",
       "    </tr>\n",
       "    <tr>\n",
       "      <th>4</th>\n",
       "      <td>4763</td>\n",
       "      <td>M</td>\n",
       "      <td>1956-04-16</td>\n",
       "      <td>64.0</td>\n",
       "      <td>Cerebral Palsy</td>\n",
       "    </tr>\n",
       "    <tr>\n",
       "      <th>...</th>\n",
       "      <td>...</td>\n",
       "      <td>...</td>\n",
       "      <td>...</td>\n",
       "      <td>...</td>\n",
       "      <td>...</td>\n",
       "    </tr>\n",
       "    <tr>\n",
       "      <th>411</th>\n",
       "      <td>9024</td>\n",
       "      <td>M</td>\n",
       "      <td>1969-06-15</td>\n",
       "      <td>51.0</td>\n",
       "      <td>Lifelong Mobility Issues</td>\n",
       "    </tr>\n",
       "    <tr>\n",
       "      <th>412</th>\n",
       "      <td>9032</td>\n",
       "      <td>F</td>\n",
       "      <td>1926-03-14</td>\n",
       "      <td>94.0</td>\n",
       "      <td>Elderly Care/Support</td>\n",
       "    </tr>\n",
       "    <tr>\n",
       "      <th>413</th>\n",
       "      <td>9033</td>\n",
       "      <td>F</td>\n",
       "      <td>1947-03-26</td>\n",
       "      <td>73.0</td>\n",
       "      <td>Elderly Care/Support</td>\n",
       "    </tr>\n",
       "    <tr>\n",
       "      <th>414</th>\n",
       "      <td>9034</td>\n",
       "      <td>M</td>\n",
       "      <td>1933-05-07</td>\n",
       "      <td>87.0</td>\n",
       "      <td>Cancer</td>\n",
       "    </tr>\n",
       "    <tr>\n",
       "      <th>415</th>\n",
       "      <td>9035</td>\n",
       "      <td>F</td>\n",
       "      <td>1982-10-10</td>\n",
       "      <td>38.0</td>\n",
       "      <td>Mental Health Issues</td>\n",
       "    </tr>\n",
       "  </tbody>\n",
       "</table>\n",
       "<p>416 rows × 5 columns</p>\n",
       "</div>"
      ],
      "text/plain": [
       "       ID Gender DateOfBirth   Age       DisablingConditions\n",
       "0    4711      F  1955-06-25  65.0            Cerebral Palsy\n",
       "1    4732      F  1958-02-27  62.0                      None\n",
       "2    4743      F  1966-03-02  54.0     Learning Difficulties\n",
       "3    4745      F  1950-07-12  70.0                      None\n",
       "4    4763      M  1956-04-16  64.0            Cerebral Palsy\n",
       "..    ...    ...         ...   ...                       ...\n",
       "411  9024      M  1969-06-15  51.0  Lifelong Mobility Issues\n",
       "412  9032      F  1926-03-14  94.0      Elderly Care/Support\n",
       "413  9033      F  1947-03-26  73.0      Elderly Care/Support\n",
       "414  9034      M  1933-05-07  87.0                    Cancer\n",
       "415  9035      F  1982-10-10  38.0      Mental Health Issues\n",
       "\n",
       "[416 rows x 5 columns]"
      ]
     },
     "execution_count": 18,
     "metadata": {},
     "output_type": "execute_result"
    }
   ],
   "source": [
    "CustomerData = CustomerData.groupby(['ID', 'Gender', 'DateOfBirth','Age'])['DisablingConditions'].agg(', '.join).reset_index()\n",
    "CustomerData"
   ]
  },
  {
   "cell_type": "markdown",
   "metadata": {},
   "source": [
    "We can get more accurate information such as sex ratio, age distribution, etc. from this clean data sheet. These will be shown further on."
   ]
  },
  {
   "cell_type": "code",
   "execution_count": 19,
   "metadata": {},
   "outputs": [
    {
     "data": {
      "text/plain": [
       "F    223\n",
       "M    185\n",
       "U      8\n",
       "Name: Gender, dtype: int64"
      ]
     },
     "execution_count": 19,
     "metadata": {},
     "output_type": "execute_result"
    }
   ],
   "source": [
    "CustomerData['Gender'].value_counts()"
   ]
  },
  {
   "cell_type": "code",
   "execution_count": 20,
   "metadata": {},
   "outputs": [
    {
     "data": {
      "text/plain": [
       "Elderly Care/Support                                                                                                                                  79\n",
       "None                                                                                                                                                  70\n",
       "Mental Health Issues                                                                                                                                  31\n",
       "Cerebral Palsy                                                                                                                                        20\n",
       "Lifelong Mobility Issues                                                                                                                              17\n",
       "                                                                                                                                                      ..\n",
       "Mentally Ill                                      ,Brain Injury                                                                                        1\n",
       "Autism                                            ,Learning Difficulties, Epilepsy                                          ,Learning Difficulties     1\n",
       "Brain Injury                                      ,Brain Injury, Insulin Controlled Diabetes                       ,Brain Injury                       1\n",
       "Huntingtons                                       ,Huntington's, Prone to Falls                                    ,Huntington's                       1\n",
       "COPD                                              ,Dementia, Dementia                                          ,Dementia                               1\n",
       "Name: DisablingConditions, Length: 73, dtype: int64"
      ]
     },
     "execution_count": 20,
     "metadata": {},
     "output_type": "execute_result"
    }
   ],
   "source": [
    "CustomerData['DisablingConditions'].value_counts()"
   ]
  },
  {
   "cell_type": "code",
   "execution_count": 21,
   "metadata": {},
   "outputs": [
    {
     "data": {
      "text/plain": [
       "84.0     16\n",
       "51.0     13\n",
       "82.0     13\n",
       "90.0     12\n",
       "76.0     12\n",
       "         ..\n",
       "101.0     1\n",
       "6.0       1\n",
       "77.0      1\n",
       "36.0      1\n",
       "99.0      1\n",
       "Name: Age, Length: 82, dtype: int64"
      ]
     },
     "execution_count": 21,
     "metadata": {},
     "output_type": "execute_result"
    }
   ],
   "source": [
    "CustomerData['Age'].value_counts()"
   ]
  },
  {
   "cell_type": "markdown",
   "metadata": {},
   "source": [
    "I converted some columns of data types for easier subsequent processing."
   ]
  },
  {
   "cell_type": "code",
   "execution_count": 22,
   "metadata": {},
   "outputs": [
    {
     "data": {
      "text/html": [
       "<div>\n",
       "<style scoped>\n",
       "    .dataframe tbody tr th:only-of-type {\n",
       "        vertical-align: middle;\n",
       "    }\n",
       "\n",
       "    .dataframe tbody tr th {\n",
       "        vertical-align: top;\n",
       "    }\n",
       "\n",
       "    .dataframe thead th {\n",
       "        text-align: right;\n",
       "    }\n",
       "</style>\n",
       "<table border=\"1\" class=\"dataframe\">\n",
       "  <thead>\n",
       "    <tr style=\"text-align: right;\">\n",
       "      <th></th>\n",
       "      <th>ID</th>\n",
       "      <th>Gender</th>\n",
       "      <th>DateOfBirth</th>\n",
       "      <th>Age</th>\n",
       "      <th>DisablingConditions</th>\n",
       "    </tr>\n",
       "  </thead>\n",
       "  <tbody>\n",
       "    <tr>\n",
       "      <th>0</th>\n",
       "      <td>4711</td>\n",
       "      <td>F</td>\n",
       "      <td>1955-06-25</td>\n",
       "      <td>65</td>\n",
       "      <td>Cerebral Palsy</td>\n",
       "    </tr>\n",
       "    <tr>\n",
       "      <th>1</th>\n",
       "      <td>4732</td>\n",
       "      <td>F</td>\n",
       "      <td>1958-02-27</td>\n",
       "      <td>62</td>\n",
       "      <td>None</td>\n",
       "    </tr>\n",
       "    <tr>\n",
       "      <th>2</th>\n",
       "      <td>4743</td>\n",
       "      <td>F</td>\n",
       "      <td>1966-03-02</td>\n",
       "      <td>54</td>\n",
       "      <td>Learning Difficulties</td>\n",
       "    </tr>\n",
       "    <tr>\n",
       "      <th>3</th>\n",
       "      <td>4745</td>\n",
       "      <td>F</td>\n",
       "      <td>1950-07-12</td>\n",
       "      <td>70</td>\n",
       "      <td>None</td>\n",
       "    </tr>\n",
       "    <tr>\n",
       "      <th>4</th>\n",
       "      <td>4763</td>\n",
       "      <td>M</td>\n",
       "      <td>1956-04-16</td>\n",
       "      <td>64</td>\n",
       "      <td>Cerebral Palsy</td>\n",
       "    </tr>\n",
       "  </tbody>\n",
       "</table>\n",
       "</div>"
      ],
      "text/plain": [
       "     ID Gender DateOfBirth  Age    DisablingConditions\n",
       "0  4711      F  1955-06-25   65         Cerebral Palsy\n",
       "1  4732      F  1958-02-27   62                   None\n",
       "2  4743      F  1966-03-02   54  Learning Difficulties\n",
       "3  4745      F  1950-07-12   70                   None\n",
       "4  4763      M  1956-04-16   64         Cerebral Palsy"
      ]
     },
     "execution_count": 22,
     "metadata": {},
     "output_type": "execute_result"
    }
   ],
   "source": [
    "# Convert ID to int (de-floating) and then to str\n",
    "CustomerData['ID'] = CustomerData['ID'].astype('int16').astype('str')\n",
    "# Convert Age to int\n",
    "CustomerData['Age'] = CustomerData['Age'].astype('int16')\n",
    "CustomerData_cl = CustomerData.reset_index(drop=True)\n",
    "CustomerData_cl.head()"
   ]
  },
  {
   "cell_type": "markdown",
   "metadata": {},
   "source": [
    "Finally, check the ID to make sure there are no duplicates, which means I've successfully merged the appropriate data for my needs. Now we can move on to the next table."
   ]
  },
  {
   "cell_type": "code",
   "execution_count": 23,
   "metadata": {},
   "outputs": [
    {
     "data": {
      "text/plain": [
       "8518    1\n",
       "4775    1\n",
       "5709    1\n",
       "8645    1\n",
       "8383    1\n",
       "       ..\n",
       "9007    1\n",
       "8479    1\n",
       "8326    1\n",
       "8880    1\n",
       "8849    1\n",
       "Name: ID, Length: 416, dtype: int64"
      ]
     },
     "execution_count": 23,
     "metadata": {},
     "output_type": "execute_result"
    }
   ],
   "source": [
    "CustomerData_cl['ID'].value_counts()"
   ]
  },
  {
   "cell_type": "markdown",
   "metadata": {},
   "source": [
    "### 2. Services Data\n",
    "\n",
    "The table is mainly based on different service items, which describe the status of the service, the service object (ID), and the start and end time of the service, respectively. In addition, according to the information provided by the data holder, each external customer has a unique External ID, which is a key identifier that can be associated with the ID in the Customer Data."
   ]
  },
  {
   "cell_type": "code",
   "execution_count": 24,
   "metadata": {
    "scrolled": false
   },
   "outputs": [
    {
     "name": "stderr",
     "output_type": "stream",
     "text": [
      "/opt/anaconda3/lib/python3.8/site-packages/IPython/core/interactiveshell.py:3071: DtypeWarning: Columns (4,10) have mixed types.Specify dtype option on import or set low_memory=False.\n",
      "  has_raised = await self.run_ast_nodes(code_ast.body, cell_name,\n"
     ]
    },
    {
     "data": {
      "text/html": [
       "<div>\n",
       "<style scoped>\n",
       "    .dataframe tbody tr th:only-of-type {\n",
       "        vertical-align: middle;\n",
       "    }\n",
       "\n",
       "    .dataframe tbody tr th {\n",
       "        vertical-align: top;\n",
       "    }\n",
       "\n",
       "    .dataframe thead th {\n",
       "        text-align: right;\n",
       "    }\n",
       "</style>\n",
       "<table border=\"1\" class=\"dataframe\">\n",
       "  <thead>\n",
       "    <tr style=\"text-align: right;\">\n",
       "      <th></th>\n",
       "      <th>ServiceName</th>\n",
       "      <th>VisitorID</th>\n",
       "      <th>Unnamed: 2</th>\n",
       "      <th>Status</th>\n",
       "      <th>ExternalID</th>\n",
       "      <th>StartTime</th>\n",
       "      <th>EndTime</th>\n",
       "      <th>FirstActiveTime</th>\n",
       "      <th>FirstResponsibleTime</th>\n",
       "      <th>FirstCompletedTime</th>\n",
       "      <th>AcceptDuration</th>\n",
       "      <th>ComplateDuration</th>\n",
       "      <th>TotalDuration</th>\n",
       "      <th>Unnamed: 13</th>\n",
       "    </tr>\n",
       "  </thead>\n",
       "  <tbody>\n",
       "    <tr>\n",
       "      <th>0</th>\n",
       "      <td>Personal Care</td>\n",
       "      <td>B03347CE-9AB6-4A2B-8866-D9940F57B298</td>\n",
       "      <td>NaN</td>\n",
       "      <td>planned</td>\n",
       "      <td>7741</td>\n",
       "      <td>29/10/2018 00:00</td>\n",
       "      <td>29/10/2018 00:30</td>\n",
       "      <td>NaN</td>\n",
       "      <td>NaN</td>\n",
       "      <td>NaN</td>\n",
       "      <td>0</td>\n",
       "      <td>0</td>\n",
       "      <td>0</td>\n",
       "      <td>NaN</td>\n",
       "    </tr>\n",
       "    <tr>\n",
       "      <th>1</th>\n",
       "      <td>Personal Care</td>\n",
       "      <td>B03347CE-9AB6-4A2B-8866-D9940F57B298</td>\n",
       "      <td>NaN</td>\n",
       "      <td>planned</td>\n",
       "      <td>7741</td>\n",
       "      <td>29/10/2018 00:00</td>\n",
       "      <td>29/10/2018 00:30</td>\n",
       "      <td>NaN</td>\n",
       "      <td>NaN</td>\n",
       "      <td>NaN</td>\n",
       "      <td>0</td>\n",
       "      <td>0</td>\n",
       "      <td>0</td>\n",
       "      <td>NaN</td>\n",
       "    </tr>\n",
       "    <tr>\n",
       "      <th>2</th>\n",
       "      <td>Customer in Hospital</td>\n",
       "      <td>BEE22A4A-C5C9-4008-BD71-BB311E08CDB4</td>\n",
       "      <td>NaN</td>\n",
       "      <td>planned</td>\n",
       "      <td>5087</td>\n",
       "      <td>29/10/2018 00:00</td>\n",
       "      <td>02/11/2018 00:00</td>\n",
       "      <td>NaN</td>\n",
       "      <td>NaN</td>\n",
       "      <td>NaN</td>\n",
       "      <td>0</td>\n",
       "      <td>0</td>\n",
       "      <td>0</td>\n",
       "      <td>NaN</td>\n",
       "    </tr>\n",
       "    <tr>\n",
       "      <th>3</th>\n",
       "      <td>Pull Cord Alarm</td>\n",
       "      <td>50082C31-0384-4B63-AD5C-DFEFEA5386B8</td>\n",
       "      <td>NaN</td>\n",
       "      <td>completed</td>\n",
       "      <td>5283</td>\n",
       "      <td>29/10/2018 00:15</td>\n",
       "      <td>29/10/2018 00:30</td>\n",
       "      <td>29/10/2018 00:15</td>\n",
       "      <td>29/10/2018 00:46</td>\n",
       "      <td>29/10/2018 00:46</td>\n",
       "      <td>1893</td>\n",
       "      <td>2</td>\n",
       "      <td>1895</td>\n",
       "      <td>NaN</td>\n",
       "    </tr>\n",
       "    <tr>\n",
       "      <th>4</th>\n",
       "      <td>Personal Care</td>\n",
       "      <td>7BDF8891-004F-46DF-8FA5-1D623B36D6F7</td>\n",
       "      <td>NaN</td>\n",
       "      <td>planned</td>\n",
       "      <td>5537</td>\n",
       "      <td>29/10/2018 00:30</td>\n",
       "      <td>29/10/2018 01:00</td>\n",
       "      <td>NaN</td>\n",
       "      <td>NaN</td>\n",
       "      <td>NaN</td>\n",
       "      <td>0</td>\n",
       "      <td>0</td>\n",
       "      <td>0</td>\n",
       "      <td>NaN</td>\n",
       "    </tr>\n",
       "  </tbody>\n",
       "</table>\n",
       "</div>"
      ],
      "text/plain": [
       "            ServiceName                             VisitorID  Unnamed: 2  \\\n",
       "0         Personal Care  B03347CE-9AB6-4A2B-8866-D9940F57B298         NaN   \n",
       "1         Personal Care  B03347CE-9AB6-4A2B-8866-D9940F57B298         NaN   \n",
       "2  Customer in Hospital  BEE22A4A-C5C9-4008-BD71-BB311E08CDB4         NaN   \n",
       "3       Pull Cord Alarm  50082C31-0384-4B63-AD5C-DFEFEA5386B8         NaN   \n",
       "4         Personal Care  7BDF8891-004F-46DF-8FA5-1D623B36D6F7         NaN   \n",
       "\n",
       "      Status ExternalID         StartTime           EndTime   FirstActiveTime  \\\n",
       "0    planned       7741  29/10/2018 00:00  29/10/2018 00:30               NaN   \n",
       "1    planned       7741  29/10/2018 00:00  29/10/2018 00:30               NaN   \n",
       "2    planned       5087  29/10/2018 00:00  02/11/2018 00:00               NaN   \n",
       "3  completed       5283  29/10/2018 00:15  29/10/2018 00:30  29/10/2018 00:15   \n",
       "4    planned       5537  29/10/2018 00:30  29/10/2018 01:00               NaN   \n",
       "\n",
       "  FirstResponsibleTime FirstCompletedTime AcceptDuration  ComplateDuration  \\\n",
       "0                  NaN                NaN              0                 0   \n",
       "1                  NaN                NaN              0                 0   \n",
       "2                  NaN                NaN              0                 0   \n",
       "3     29/10/2018 00:46   29/10/2018 00:46           1893                 2   \n",
       "4                  NaN                NaN              0                 0   \n",
       "\n",
       "   TotalDuration  Unnamed: 13  \n",
       "0              0          NaN  \n",
       "1              0          NaN  \n",
       "2              0          NaN  \n",
       "3           1895          NaN  \n",
       "4              0          NaN  "
      ]
     },
     "execution_count": 24,
     "metadata": {},
     "output_type": "execute_result"
    }
   ],
   "source": [
    "ServicesData = pd.read_csv('Services Data 2020 v2.csv')\n",
    "\n",
    "ServicesData.head()"
   ]
  },
  {
   "cell_type": "markdown",
   "metadata": {},
   "source": [
    "Since there was an alert related to low_memory, I'd like to see information about the data table itself, including the number of rows, columns, data types, null values, memory size occupied, etc."
   ]
  },
  {
   "cell_type": "code",
   "execution_count": 25,
   "metadata": {},
   "outputs": [
    {
     "data": {
      "text/plain": [
       "Index(['ServiceName', 'VisitorID', 'Unnamed: 2', 'Status', 'ExternalID',\n",
       "       'StartTime', 'EndTime', 'FirstActiveTime', 'FirstResponsibleTime',\n",
       "       'FirstCompletedTime', 'AcceptDuration', 'ComplateDuration',\n",
       "       'TotalDuration', 'Unnamed: 13'],\n",
       "      dtype='object')"
      ]
     },
     "execution_count": 25,
     "metadata": {},
     "output_type": "execute_result"
    }
   ],
   "source": [
    "ServicesData.columns"
   ]
  },
  {
   "cell_type": "code",
   "execution_count": 26,
   "metadata": {},
   "outputs": [
    {
     "data": {
      "text/plain": [
       "(1048575, 14)"
      ]
     },
     "execution_count": 26,
     "metadata": {},
     "output_type": "execute_result"
    }
   ],
   "source": [
    "ServicesData.shape"
   ]
  },
  {
   "cell_type": "code",
   "execution_count": 27,
   "metadata": {
    "scrolled": false
   },
   "outputs": [
    {
     "name": "stdout",
     "output_type": "stream",
     "text": [
      "<class 'pandas.core.frame.DataFrame'>\n",
      "RangeIndex: 1048575 entries, 0 to 1048574\n",
      "Data columns (total 14 columns):\n",
      " #   Column                Non-Null Count    Dtype  \n",
      "---  ------                --------------    -----  \n",
      " 0   ServiceName           1048575 non-null  object \n",
      " 1   VisitorID             1048575 non-null  object \n",
      " 2   Unnamed: 2            0 non-null        float64\n",
      " 3   Status                1048575 non-null  object \n",
      " 4   ExternalID            1010134 non-null  object \n",
      " 5   StartTime             1048575 non-null  object \n",
      " 6   EndTime               1048575 non-null  object \n",
      " 7   FirstActiveTime       434321 non-null   object \n",
      " 8   FirstResponsibleTime  620223 non-null   object \n",
      " 9   FirstCompletedTime    601734 non-null   object \n",
      " 10  AcceptDuration        1048574 non-null  object \n",
      " 11  ComplateDuration      1048575 non-null  int64  \n",
      " 12  TotalDuration         1048575 non-null  int64  \n",
      " 13  Unnamed: 13           4 non-null        float64\n",
      "dtypes: float64(2), int64(2), object(10)\n",
      "memory usage: 112.0+ MB\n"
     ]
    }
   ],
   "source": [
    "ServicesData.info()"
   ]
  },
  {
   "cell_type": "code",
   "execution_count": 28,
   "metadata": {},
   "outputs": [
    {
     "data": {
      "text/html": [
       "<div>\n",
       "<style scoped>\n",
       "    .dataframe tbody tr th:only-of-type {\n",
       "        vertical-align: middle;\n",
       "    }\n",
       "\n",
       "    .dataframe tbody tr th {\n",
       "        vertical-align: top;\n",
       "    }\n",
       "\n",
       "    .dataframe thead th {\n",
       "        text-align: right;\n",
       "    }\n",
       "</style>\n",
       "<table border=\"1\" class=\"dataframe\">\n",
       "  <thead>\n",
       "    <tr style=\"text-align: right;\">\n",
       "      <th></th>\n",
       "      <th>Unnamed: 2</th>\n",
       "      <th>ComplateDuration</th>\n",
       "      <th>TotalDuration</th>\n",
       "      <th>Unnamed: 13</th>\n",
       "    </tr>\n",
       "  </thead>\n",
       "  <tbody>\n",
       "    <tr>\n",
       "      <th>count</th>\n",
       "      <td>0.0</td>\n",
       "      <td>1.048575e+06</td>\n",
       "      <td>1.048575e+06</td>\n",
       "      <td>4.00</td>\n",
       "    </tr>\n",
       "    <tr>\n",
       "      <th>mean</th>\n",
       "      <td>NaN</td>\n",
       "      <td>2.745107e+03</td>\n",
       "      <td>9.218389e+04</td>\n",
       "      <td>9030.75</td>\n",
       "    </tr>\n",
       "    <tr>\n",
       "      <th>std</th>\n",
       "      <td>NaN</td>\n",
       "      <td>1.634014e+05</td>\n",
       "      <td>3.269199e+05</td>\n",
       "      <td>18061.50</td>\n",
       "    </tr>\n",
       "    <tr>\n",
       "      <th>min</th>\n",
       "      <td>NaN</td>\n",
       "      <td>0.000000e+00</td>\n",
       "      <td>0.000000e+00</td>\n",
       "      <td>0.00</td>\n",
       "    </tr>\n",
       "    <tr>\n",
       "      <th>25%</th>\n",
       "      <td>NaN</td>\n",
       "      <td>0.000000e+00</td>\n",
       "      <td>0.000000e+00</td>\n",
       "      <td>0.00</td>\n",
       "    </tr>\n",
       "    <tr>\n",
       "      <th>50%</th>\n",
       "      <td>NaN</td>\n",
       "      <td>0.000000e+00</td>\n",
       "      <td>0.000000e+00</td>\n",
       "      <td>0.00</td>\n",
       "    </tr>\n",
       "    <tr>\n",
       "      <th>75%</th>\n",
       "      <td>NaN</td>\n",
       "      <td>4.400000e+01</td>\n",
       "      <td>5.400000e+01</td>\n",
       "      <td>9030.75</td>\n",
       "    </tr>\n",
       "    <tr>\n",
       "      <th>max</th>\n",
       "      <td>NaN</td>\n",
       "      <td>4.713999e+07</td>\n",
       "      <td>4.714000e+07</td>\n",
       "      <td>36123.00</td>\n",
       "    </tr>\n",
       "  </tbody>\n",
       "</table>\n",
       "</div>"
      ],
      "text/plain": [
       "       Unnamed: 2  ComplateDuration  TotalDuration  Unnamed: 13\n",
       "count         0.0      1.048575e+06   1.048575e+06         4.00\n",
       "mean          NaN      2.745107e+03   9.218389e+04      9030.75\n",
       "std           NaN      1.634014e+05   3.269199e+05     18061.50\n",
       "min           NaN      0.000000e+00   0.000000e+00         0.00\n",
       "25%           NaN      0.000000e+00   0.000000e+00         0.00\n",
       "50%           NaN      0.000000e+00   0.000000e+00         0.00\n",
       "75%           NaN      4.400000e+01   5.400000e+01      9030.75\n",
       "max           NaN      4.713999e+07   4.714000e+07     36123.00"
      ]
     },
     "execution_count": 28,
     "metadata": {},
     "output_type": "execute_result"
    }
   ],
   "source": [
    "ServicesData.describe()"
   ]
  },
  {
   "cell_type": "markdown",
   "metadata": {},
   "source": [
    "As you can see from some of the output above, Unnamed:2 is all null, so I've removed it first. Also, Unnamed: 13 is very strange in that it only has four non-null values, so I'll find them and see what's going on."
   ]
  },
  {
   "cell_type": "code",
   "execution_count": 29,
   "metadata": {},
   "outputs": [
    {
     "data": {
      "text/html": [
       "<div>\n",
       "<style scoped>\n",
       "    .dataframe tbody tr th:only-of-type {\n",
       "        vertical-align: middle;\n",
       "    }\n",
       "\n",
       "    .dataframe tbody tr th {\n",
       "        vertical-align: top;\n",
       "    }\n",
       "\n",
       "    .dataframe thead th {\n",
       "        text-align: right;\n",
       "    }\n",
       "</style>\n",
       "<table border=\"1\" class=\"dataframe\">\n",
       "  <thead>\n",
       "    <tr style=\"text-align: right;\">\n",
       "      <th></th>\n",
       "      <th>ServiceName</th>\n",
       "      <th>VisitorID</th>\n",
       "      <th>Status</th>\n",
       "      <th>ExternalID</th>\n",
       "      <th>StartTime</th>\n",
       "      <th>EndTime</th>\n",
       "      <th>FirstActiveTime</th>\n",
       "      <th>FirstResponsibleTime</th>\n",
       "      <th>FirstCompletedTime</th>\n",
       "      <th>AcceptDuration</th>\n",
       "      <th>ComplateDuration</th>\n",
       "      <th>TotalDuration</th>\n",
       "      <th>Unnamed: 13</th>\n",
       "    </tr>\n",
       "  </thead>\n",
       "  <tbody>\n",
       "    <tr>\n",
       "      <th>0</th>\n",
       "      <td>Personal Care</td>\n",
       "      <td>B03347CE-9AB6-4A2B-8866-D9940F57B298</td>\n",
       "      <td>planned</td>\n",
       "      <td>7741</td>\n",
       "      <td>29/10/2018 00:00</td>\n",
       "      <td>29/10/2018 00:30</td>\n",
       "      <td>NaN</td>\n",
       "      <td>NaN</td>\n",
       "      <td>NaN</td>\n",
       "      <td>0</td>\n",
       "      <td>0</td>\n",
       "      <td>0</td>\n",
       "      <td>NaN</td>\n",
       "    </tr>\n",
       "    <tr>\n",
       "      <th>1</th>\n",
       "      <td>Personal Care</td>\n",
       "      <td>B03347CE-9AB6-4A2B-8866-D9940F57B298</td>\n",
       "      <td>planned</td>\n",
       "      <td>7741</td>\n",
       "      <td>29/10/2018 00:00</td>\n",
       "      <td>29/10/2018 00:30</td>\n",
       "      <td>NaN</td>\n",
       "      <td>NaN</td>\n",
       "      <td>NaN</td>\n",
       "      <td>0</td>\n",
       "      <td>0</td>\n",
       "      <td>0</td>\n",
       "      <td>NaN</td>\n",
       "    </tr>\n",
       "    <tr>\n",
       "      <th>2</th>\n",
       "      <td>Customer in Hospital</td>\n",
       "      <td>BEE22A4A-C5C9-4008-BD71-BB311E08CDB4</td>\n",
       "      <td>planned</td>\n",
       "      <td>5087</td>\n",
       "      <td>29/10/2018 00:00</td>\n",
       "      <td>02/11/2018 00:00</td>\n",
       "      <td>NaN</td>\n",
       "      <td>NaN</td>\n",
       "      <td>NaN</td>\n",
       "      <td>0</td>\n",
       "      <td>0</td>\n",
       "      <td>0</td>\n",
       "      <td>NaN</td>\n",
       "    </tr>\n",
       "    <tr>\n",
       "      <th>3</th>\n",
       "      <td>Pull Cord Alarm</td>\n",
       "      <td>50082C31-0384-4B63-AD5C-DFEFEA5386B8</td>\n",
       "      <td>completed</td>\n",
       "      <td>5283</td>\n",
       "      <td>29/10/2018 00:15</td>\n",
       "      <td>29/10/2018 00:30</td>\n",
       "      <td>29/10/2018 00:15</td>\n",
       "      <td>29/10/2018 00:46</td>\n",
       "      <td>29/10/2018 00:46</td>\n",
       "      <td>1893</td>\n",
       "      <td>2</td>\n",
       "      <td>1895</td>\n",
       "      <td>NaN</td>\n",
       "    </tr>\n",
       "    <tr>\n",
       "      <th>4</th>\n",
       "      <td>Personal Care</td>\n",
       "      <td>7BDF8891-004F-46DF-8FA5-1D623B36D6F7</td>\n",
       "      <td>planned</td>\n",
       "      <td>5537</td>\n",
       "      <td>29/10/2018 00:30</td>\n",
       "      <td>29/10/2018 01:00</td>\n",
       "      <td>NaN</td>\n",
       "      <td>NaN</td>\n",
       "      <td>NaN</td>\n",
       "      <td>0</td>\n",
       "      <td>0</td>\n",
       "      <td>0</td>\n",
       "      <td>NaN</td>\n",
       "    </tr>\n",
       "  </tbody>\n",
       "</table>\n",
       "</div>"
      ],
      "text/plain": [
       "            ServiceName                             VisitorID     Status  \\\n",
       "0         Personal Care  B03347CE-9AB6-4A2B-8866-D9940F57B298    planned   \n",
       "1         Personal Care  B03347CE-9AB6-4A2B-8866-D9940F57B298    planned   \n",
       "2  Customer in Hospital  BEE22A4A-C5C9-4008-BD71-BB311E08CDB4    planned   \n",
       "3       Pull Cord Alarm  50082C31-0384-4B63-AD5C-DFEFEA5386B8  completed   \n",
       "4         Personal Care  7BDF8891-004F-46DF-8FA5-1D623B36D6F7    planned   \n",
       "\n",
       "  ExternalID         StartTime           EndTime   FirstActiveTime  \\\n",
       "0       7741  29/10/2018 00:00  29/10/2018 00:30               NaN   \n",
       "1       7741  29/10/2018 00:00  29/10/2018 00:30               NaN   \n",
       "2       5087  29/10/2018 00:00  02/11/2018 00:00               NaN   \n",
       "3       5283  29/10/2018 00:15  29/10/2018 00:30  29/10/2018 00:15   \n",
       "4       5537  29/10/2018 00:30  29/10/2018 01:00               NaN   \n",
       "\n",
       "  FirstResponsibleTime FirstCompletedTime AcceptDuration  ComplateDuration  \\\n",
       "0                  NaN                NaN              0                 0   \n",
       "1                  NaN                NaN              0                 0   \n",
       "2                  NaN                NaN              0                 0   \n",
       "3     29/10/2018 00:46   29/10/2018 00:46           1893                 2   \n",
       "4                  NaN                NaN              0                 0   \n",
       "\n",
       "   TotalDuration  Unnamed: 13  \n",
       "0              0          NaN  \n",
       "1              0          NaN  \n",
       "2              0          NaN  \n",
       "3           1895          NaN  \n",
       "4              0          NaN  "
      ]
     },
     "execution_count": 29,
     "metadata": {},
     "output_type": "execute_result"
    }
   ],
   "source": [
    "# Delete the all-null value column Unnamed: 2\n",
    "ServicesData = ServicesData.dropna(axis=1,how='all') \n",
    "ServicesData.head()"
   ]
  },
  {
   "cell_type": "code",
   "execution_count": 30,
   "metadata": {},
   "outputs": [
    {
     "data": {
      "text/html": [
       "<div>\n",
       "<style scoped>\n",
       "    .dataframe tbody tr th:only-of-type {\n",
       "        vertical-align: middle;\n",
       "    }\n",
       "\n",
       "    .dataframe tbody tr th {\n",
       "        vertical-align: top;\n",
       "    }\n",
       "\n",
       "    .dataframe thead th {\n",
       "        text-align: right;\n",
       "    }\n",
       "</style>\n",
       "<table border=\"1\" class=\"dataframe\">\n",
       "  <thead>\n",
       "    <tr style=\"text-align: right;\">\n",
       "      <th></th>\n",
       "      <th>ServiceName</th>\n",
       "      <th>VisitorID</th>\n",
       "      <th>Status</th>\n",
       "      <th>ExternalID</th>\n",
       "      <th>StartTime</th>\n",
       "      <th>EndTime</th>\n",
       "      <th>FirstActiveTime</th>\n",
       "      <th>FirstResponsibleTime</th>\n",
       "      <th>FirstCompletedTime</th>\n",
       "      <th>AcceptDuration</th>\n",
       "      <th>ComplateDuration</th>\n",
       "      <th>TotalDuration</th>\n",
       "      <th>Unnamed: 13</th>\n",
       "    </tr>\n",
       "  </thead>\n",
       "  <tbody>\n",
       "    <tr>\n",
       "      <th>84243</th>\n",
       "      <td>Help to go to bed</td>\n",
       "      <td>extra assistance</td>\n",
       "      <td>Margaret Reid</td>\n",
       "      <td>completed</td>\n",
       "      <td>5534</td>\n",
       "      <td>28/12/2018 22:43</td>\n",
       "      <td>28/12/2018 22:58</td>\n",
       "      <td>NaN</td>\n",
       "      <td>28/12/2018 23:02</td>\n",
       "      <td>28/12/2018 23:02</td>\n",
       "      <td>0</td>\n",
       "      <td>1</td>\n",
       "      <td>0.0</td>\n",
       "    </tr>\n",
       "    <tr>\n",
       "      <th>152369</th>\n",
       "      <td>Help to go to bed</td>\n",
       "      <td>extra assistance</td>\n",
       "      <td>Margaret Reid</td>\n",
       "      <td>completed</td>\n",
       "      <td>5539</td>\n",
       "      <td>10/02/2019 16:52</td>\n",
       "      <td>10/02/2019 17:07</td>\n",
       "      <td>NaN</td>\n",
       "      <td>10/02/2019 16:55</td>\n",
       "      <td>10/02/2019 16:55</td>\n",
       "      <td>0</td>\n",
       "      <td>1</td>\n",
       "      <td>0.0</td>\n",
       "    </tr>\n",
       "    <tr>\n",
       "      <th>817323</th>\n",
       "      <td>Help to go to bed</td>\n",
       "      <td>extra assistance</td>\n",
       "      <td></td>\n",
       "      <td>active</td>\n",
       "      <td>5347</td>\n",
       "      <td>29/04/2020 16:14</td>\n",
       "      <td>29/04/2020 16:29</td>\n",
       "      <td>29/04/2020 16:15</td>\n",
       "      <td>NaN</td>\n",
       "      <td>NaN</td>\n",
       "      <td>0</td>\n",
       "      <td>0</td>\n",
       "      <td>0.0</td>\n",
       "    </tr>\n",
       "    <tr>\n",
       "      <th>969937</th>\n",
       "      <td>Help to go to bed</td>\n",
       "      <td>extra assistance</td>\n",
       "      <td></td>\n",
       "      <td>completed</td>\n",
       "      <td>5293</td>\n",
       "      <td>16/08/2020 01:21</td>\n",
       "      <td>16/08/2020 01:36</td>\n",
       "      <td>16/08/2020 01:21</td>\n",
       "      <td>16/08/2020 11:23</td>\n",
       "      <td>16/08/2020 11:23</td>\n",
       "      <td>36123</td>\n",
       "      <td>0</td>\n",
       "      <td>36123.0</td>\n",
       "    </tr>\n",
       "  </tbody>\n",
       "</table>\n",
       "</div>"
      ],
      "text/plain": [
       "              ServiceName          VisitorID         Status ExternalID  \\\n",
       "84243   Help to go to bed   extra assistance  Margaret Reid  completed   \n",
       "152369  Help to go to bed   extra assistance  Margaret Reid  completed   \n",
       "817323  Help to go to bed   extra assistance                    active   \n",
       "969937  Help to go to bed   extra assistance                 completed   \n",
       "\n",
       "       StartTime           EndTime   FirstActiveTime FirstResponsibleTime  \\\n",
       "84243       5534  28/12/2018 22:43  28/12/2018 22:58                  NaN   \n",
       "152369      5539  10/02/2019 16:52  10/02/2019 17:07                  NaN   \n",
       "817323      5347  29/04/2020 16:14  29/04/2020 16:29     29/04/2020 16:15   \n",
       "969937      5293  16/08/2020 01:21  16/08/2020 01:36     16/08/2020 01:21   \n",
       "\n",
       "       FirstCompletedTime    AcceptDuration  ComplateDuration  TotalDuration  \\\n",
       "84243    28/12/2018 23:02  28/12/2018 23:02                 0              1   \n",
       "152369   10/02/2019 16:55  10/02/2019 16:55                 0              1   \n",
       "817323                NaN               NaN                 0              0   \n",
       "969937   16/08/2020 11:23  16/08/2020 11:23             36123              0   \n",
       "\n",
       "        Unnamed: 13  \n",
       "84243           0.0  \n",
       "152369          0.0  \n",
       "817323          0.0  \n",
       "969937      36123.0  "
      ]
     },
     "execution_count": 30,
     "metadata": {},
     "output_type": "execute_result"
    }
   ],
   "source": [
    "# View Unnamed: 13 rows with non-null values in the column\n",
    "ServicesData[ServicesData['Unnamed: 13'].notna()]"
   ]
  },
  {
   "cell_type": "markdown",
   "metadata": {},
   "source": [
    "Upon review, I found that these four rows of data have data misalignment issues and two of them contain employee name data that was not deleted clean (Data holder previously described this data as private and should be deleted). Since none of the four rows of data are related to Alarm data and will not be used in my project, I considered deleting them for now. Finally, I deleted the column Unnamed: 13 with a completely null value as well."
   ]
  },
  {
   "cell_type": "code",
   "execution_count": 31,
   "metadata": {},
   "outputs": [],
   "source": [
    "# Delete the rows with non-null values in column Unnamed: 13\n",
    "ServicesData = ServicesData.drop(labels=[84243, 152369, 817323, 969937], axis=0)\n",
    "\n",
    "# Delete the column Unnamed: 13\n",
    "ServicesData = ServicesData.dropna(axis=1,how='all') "
   ]
  },
  {
   "cell_type": "code",
   "execution_count": 32,
   "metadata": {},
   "outputs": [
    {
     "name": "stdout",
     "output_type": "stream",
     "text": [
      "<class 'pandas.core.frame.DataFrame'>\n",
      "Int64Index: 1048571 entries, 0 to 1048574\n",
      "Data columns (total 12 columns):\n",
      " #   Column                Non-Null Count    Dtype \n",
      "---  ------                --------------    ----- \n",
      " 0   ServiceName           1048571 non-null  object\n",
      " 1   VisitorID             1048571 non-null  object\n",
      " 2   Status                1048571 non-null  object\n",
      " 3   ExternalID            1010130 non-null  object\n",
      " 4   StartTime             1048571 non-null  object\n",
      " 5   EndTime               1048571 non-null  object\n",
      " 6   FirstActiveTime       434317 non-null   object\n",
      " 7   FirstResponsibleTime  620221 non-null   object\n",
      " 8   FirstCompletedTime    601731 non-null   object\n",
      " 9   AcceptDuration        1048571 non-null  object\n",
      " 10  ComplateDuration      1048571 non-null  int64 \n",
      " 11  TotalDuration         1048571 non-null  int64 \n",
      "dtypes: int64(2), object(10)\n",
      "memory usage: 104.0+ MB\n"
     ]
    }
   ],
   "source": [
    "ServicesData.info()"
   ]
  },
  {
   "cell_type": "markdown",
   "metadata": {},
   "source": [
    "External ID is a unique identifier that can be associated with Customer Data. I decided to delete the rows in this column that have null values because they cannot be associated with Customer Data and lack value in my analysis. Deleting it also reduces the amount of redundant data and facilitates subsequent processing and analysis."
   ]
  },
  {
   "cell_type": "code",
   "execution_count": 33,
   "metadata": {},
   "outputs": [
    {
     "data": {
      "text/plain": [
       "(1010130, 12)"
      ]
     },
     "execution_count": 33,
     "metadata": {},
     "output_type": "execute_result"
    }
   ],
   "source": [
    "# Clean the row with a null External ID\n",
    "ServicesData = ServicesData.dropna(axis=0, subset=['ExternalID'])\n",
    "ServicesData.shape"
   ]
  },
  {
   "cell_type": "markdown",
   "metadata": {},
   "source": [
    "Next I converted some columns with data type ‘object’ to a more convenient data type for subsequent processing, such as int and datetime.\n",
    "\n",
    "When converting to int, I chose to convert them to int16 because data in the millions of rows is slower to process and the current data does not require high data precision. Reducing the precision will reduce memory usage and increase processing speed."
   ]
  },
  {
   "cell_type": "code",
   "execution_count": 34,
   "metadata": {},
   "outputs": [],
   "source": [
    "# Convert columns related to duration, such as AcceptDuration, to int16\n",
    "ServicesData['AcceptDuration'] = ServicesData['AcceptDuration'].astype('int16', errors='ignore')\n",
    "ServicesData['ComplateDuration'] = ServicesData['ComplateDuration'].astype('int16', errors='ignore')\n",
    "ServicesData['TotalDuration'] = ServicesData['TotalDuration'].astype('int16', errors='ignore')"
   ]
  },
  {
   "cell_type": "code",
   "execution_count": 35,
   "metadata": {},
   "outputs": [],
   "source": [
    "# Convert ExternalID to int and then to str to facilitate the association with CostumorData datasets later\n",
    "ServicesData['ExternalID'] = ServicesData['ExternalID'].astype('int16').astype('str')"
   ]
  },
  {
   "cell_type": "code",
   "execution_count": 36,
   "metadata": {},
   "outputs": [],
   "source": [
    "# Convert time-related columns to datetime.\n",
    "ServicesData['StartTime'] = pd.to_datetime(ServicesData['StartTime'], infer_datetime_format=True)\n",
    "ServicesData['EndTime'] = pd.to_datetime(ServicesData['EndTime'], infer_datetime_format=True)\n",
    "ServicesData['FirstActiveTime'] = pd.to_datetime(ServicesData['FirstActiveTime'], infer_datetime_format=True)\n",
    "ServicesData['FirstResponsibleTime'] = pd.to_datetime(ServicesData['FirstResponsibleTime'], infer_datetime_format=True)\n",
    "ServicesData['FirstCompletedTime'] = pd.to_datetime(ServicesData['FirstCompletedTime'], infer_datetime_format=True)"
   ]
  },
  {
   "cell_type": "markdown",
   "metadata": {},
   "source": [
    "Now let's take a look at the results and you can see that they have been converted to a data type that is easy to process later."
   ]
  },
  {
   "cell_type": "code",
   "execution_count": 37,
   "metadata": {},
   "outputs": [
    {
     "name": "stdout",
     "output_type": "stream",
     "text": [
      "<class 'pandas.core.frame.DataFrame'>\n",
      "Int64Index: 1010130 entries, 0 to 1048574\n",
      "Data columns (total 12 columns):\n",
      " #   Column                Non-Null Count    Dtype         \n",
      "---  ------                --------------    -----         \n",
      " 0   ServiceName           1010130 non-null  object        \n",
      " 1   VisitorID             1010130 non-null  object        \n",
      " 2   Status                1010130 non-null  object        \n",
      " 3   ExternalID            1010130 non-null  object        \n",
      " 4   StartTime             1010130 non-null  datetime64[ns]\n",
      " 5   EndTime               1010130 non-null  datetime64[ns]\n",
      " 6   FirstActiveTime       398258 non-null   datetime64[ns]\n",
      " 7   FirstResponsibleTime  590644 non-null   datetime64[ns]\n",
      " 8   FirstCompletedTime    573411 non-null   datetime64[ns]\n",
      " 9   AcceptDuration        1010130 non-null  int16         \n",
      " 10  ComplateDuration      1010130 non-null  int16         \n",
      " 11  TotalDuration         1010130 non-null  int16         \n",
      "dtypes: datetime64[ns](5), int16(3), object(4)\n",
      "memory usage: 82.8+ MB\n"
     ]
    },
    {
     "data": {
      "text/html": [
       "<div>\n",
       "<style scoped>\n",
       "    .dataframe tbody tr th:only-of-type {\n",
       "        vertical-align: middle;\n",
       "    }\n",
       "\n",
       "    .dataframe tbody tr th {\n",
       "        vertical-align: top;\n",
       "    }\n",
       "\n",
       "    .dataframe thead th {\n",
       "        text-align: right;\n",
       "    }\n",
       "</style>\n",
       "<table border=\"1\" class=\"dataframe\">\n",
       "  <thead>\n",
       "    <tr style=\"text-align: right;\">\n",
       "      <th></th>\n",
       "      <th>ServiceName</th>\n",
       "      <th>VisitorID</th>\n",
       "      <th>Status</th>\n",
       "      <th>ExternalID</th>\n",
       "      <th>StartTime</th>\n",
       "      <th>EndTime</th>\n",
       "      <th>FirstActiveTime</th>\n",
       "      <th>FirstResponsibleTime</th>\n",
       "      <th>FirstCompletedTime</th>\n",
       "      <th>AcceptDuration</th>\n",
       "      <th>ComplateDuration</th>\n",
       "      <th>TotalDuration</th>\n",
       "    </tr>\n",
       "  </thead>\n",
       "  <tbody>\n",
       "    <tr>\n",
       "      <th>0</th>\n",
       "      <td>Personal Care</td>\n",
       "      <td>B03347CE-9AB6-4A2B-8866-D9940F57B298</td>\n",
       "      <td>planned</td>\n",
       "      <td>7741</td>\n",
       "      <td>2018-10-29 00:00:00</td>\n",
       "      <td>2018-10-29 00:30:00</td>\n",
       "      <td>NaT</td>\n",
       "      <td>NaT</td>\n",
       "      <td>NaT</td>\n",
       "      <td>0</td>\n",
       "      <td>0</td>\n",
       "      <td>0</td>\n",
       "    </tr>\n",
       "    <tr>\n",
       "      <th>1</th>\n",
       "      <td>Personal Care</td>\n",
       "      <td>B03347CE-9AB6-4A2B-8866-D9940F57B298</td>\n",
       "      <td>planned</td>\n",
       "      <td>7741</td>\n",
       "      <td>2018-10-29 00:00:00</td>\n",
       "      <td>2018-10-29 00:30:00</td>\n",
       "      <td>NaT</td>\n",
       "      <td>NaT</td>\n",
       "      <td>NaT</td>\n",
       "      <td>0</td>\n",
       "      <td>0</td>\n",
       "      <td>0</td>\n",
       "    </tr>\n",
       "    <tr>\n",
       "      <th>2</th>\n",
       "      <td>Customer in Hospital</td>\n",
       "      <td>BEE22A4A-C5C9-4008-BD71-BB311E08CDB4</td>\n",
       "      <td>planned</td>\n",
       "      <td>5087</td>\n",
       "      <td>2018-10-29 00:00:00</td>\n",
       "      <td>2018-11-02 00:00:00</td>\n",
       "      <td>NaT</td>\n",
       "      <td>NaT</td>\n",
       "      <td>NaT</td>\n",
       "      <td>0</td>\n",
       "      <td>0</td>\n",
       "      <td>0</td>\n",
       "    </tr>\n",
       "    <tr>\n",
       "      <th>3</th>\n",
       "      <td>Pull Cord Alarm</td>\n",
       "      <td>50082C31-0384-4B63-AD5C-DFEFEA5386B8</td>\n",
       "      <td>completed</td>\n",
       "      <td>5283</td>\n",
       "      <td>2018-10-29 00:15:00</td>\n",
       "      <td>2018-10-29 00:30:00</td>\n",
       "      <td>2018-10-29 00:15:00</td>\n",
       "      <td>2018-10-29 00:46:00</td>\n",
       "      <td>2018-10-29 00:46:00</td>\n",
       "      <td>1893</td>\n",
       "      <td>2</td>\n",
       "      <td>1895</td>\n",
       "    </tr>\n",
       "    <tr>\n",
       "      <th>4</th>\n",
       "      <td>Personal Care</td>\n",
       "      <td>7BDF8891-004F-46DF-8FA5-1D623B36D6F7</td>\n",
       "      <td>planned</td>\n",
       "      <td>5537</td>\n",
       "      <td>2018-10-29 00:30:00</td>\n",
       "      <td>2018-10-29 01:00:00</td>\n",
       "      <td>NaT</td>\n",
       "      <td>NaT</td>\n",
       "      <td>NaT</td>\n",
       "      <td>0</td>\n",
       "      <td>0</td>\n",
       "      <td>0</td>\n",
       "    </tr>\n",
       "  </tbody>\n",
       "</table>\n",
       "</div>"
      ],
      "text/plain": [
       "            ServiceName                             VisitorID     Status  \\\n",
       "0         Personal Care  B03347CE-9AB6-4A2B-8866-D9940F57B298    planned   \n",
       "1         Personal Care  B03347CE-9AB6-4A2B-8866-D9940F57B298    planned   \n",
       "2  Customer in Hospital  BEE22A4A-C5C9-4008-BD71-BB311E08CDB4    planned   \n",
       "3       Pull Cord Alarm  50082C31-0384-4B63-AD5C-DFEFEA5386B8  completed   \n",
       "4         Personal Care  7BDF8891-004F-46DF-8FA5-1D623B36D6F7    planned   \n",
       "\n",
       "  ExternalID           StartTime             EndTime     FirstActiveTime  \\\n",
       "0       7741 2018-10-29 00:00:00 2018-10-29 00:30:00                 NaT   \n",
       "1       7741 2018-10-29 00:00:00 2018-10-29 00:30:00                 NaT   \n",
       "2       5087 2018-10-29 00:00:00 2018-11-02 00:00:00                 NaT   \n",
       "3       5283 2018-10-29 00:15:00 2018-10-29 00:30:00 2018-10-29 00:15:00   \n",
       "4       5537 2018-10-29 00:30:00 2018-10-29 01:00:00                 NaT   \n",
       "\n",
       "  FirstResponsibleTime  FirstCompletedTime  AcceptDuration  ComplateDuration  \\\n",
       "0                  NaT                 NaT               0                 0   \n",
       "1                  NaT                 NaT               0                 0   \n",
       "2                  NaT                 NaT               0                 0   \n",
       "3  2018-10-29 00:46:00 2018-10-29 00:46:00            1893                 2   \n",
       "4                  NaT                 NaT               0                 0   \n",
       "\n",
       "   TotalDuration  \n",
       "0              0  \n",
       "1              0  \n",
       "2              0  \n",
       "3           1895  \n",
       "4              0  "
      ]
     },
     "execution_count": 37,
     "metadata": {},
     "output_type": "execute_result"
    }
   ],
   "source": [
    "ServicesData.info()\n",
    "ServicesData.head()"
   ]
  },
  {
   "cell_type": "code",
   "execution_count": 38,
   "metadata": {},
   "outputs": [
    {
     "data": {
      "text/html": [
       "<div>\n",
       "<style scoped>\n",
       "    .dataframe tbody tr th:only-of-type {\n",
       "        vertical-align: middle;\n",
       "    }\n",
       "\n",
       "    .dataframe tbody tr th {\n",
       "        vertical-align: top;\n",
       "    }\n",
       "\n",
       "    .dataframe thead th {\n",
       "        text-align: right;\n",
       "    }\n",
       "</style>\n",
       "<table border=\"1\" class=\"dataframe\">\n",
       "  <thead>\n",
       "    <tr style=\"text-align: right;\">\n",
       "      <th></th>\n",
       "      <th>ServiceName</th>\n",
       "      <th>VisitorID</th>\n",
       "      <th>Status</th>\n",
       "      <th>ExternalID</th>\n",
       "      <th>StartTime</th>\n",
       "      <th>EndTime</th>\n",
       "      <th>FirstActiveTime</th>\n",
       "      <th>FirstResponsibleTime</th>\n",
       "      <th>FirstCompletedTime</th>\n",
       "      <th>AcceptDuration</th>\n",
       "      <th>ComplateDuration</th>\n",
       "      <th>TotalDuration</th>\n",
       "    </tr>\n",
       "  </thead>\n",
       "  <tbody>\n",
       "    <tr>\n",
       "      <th>0</th>\n",
       "      <td>Personal Care</td>\n",
       "      <td>B03347CE-9AB6-4A2B-8866-D9940F57B298</td>\n",
       "      <td>planned</td>\n",
       "      <td>7741</td>\n",
       "      <td>2018-10-29 00:00:00</td>\n",
       "      <td>2018-10-29 00:30:00</td>\n",
       "      <td>NaT</td>\n",
       "      <td>NaT</td>\n",
       "      <td>NaT</td>\n",
       "      <td>0</td>\n",
       "      <td>0</td>\n",
       "      <td>0</td>\n",
       "    </tr>\n",
       "    <tr>\n",
       "      <th>1</th>\n",
       "      <td>Personal Care</td>\n",
       "      <td>B03347CE-9AB6-4A2B-8866-D9940F57B298</td>\n",
       "      <td>planned</td>\n",
       "      <td>7741</td>\n",
       "      <td>2018-10-29 00:00:00</td>\n",
       "      <td>2018-10-29 00:30:00</td>\n",
       "      <td>NaT</td>\n",
       "      <td>NaT</td>\n",
       "      <td>NaT</td>\n",
       "      <td>0</td>\n",
       "      <td>0</td>\n",
       "      <td>0</td>\n",
       "    </tr>\n",
       "    <tr>\n",
       "      <th>2</th>\n",
       "      <td>Customer in Hospital</td>\n",
       "      <td>BEE22A4A-C5C9-4008-BD71-BB311E08CDB4</td>\n",
       "      <td>planned</td>\n",
       "      <td>5087</td>\n",
       "      <td>2018-10-29 00:00:00</td>\n",
       "      <td>2018-11-02 00:00:00</td>\n",
       "      <td>NaT</td>\n",
       "      <td>NaT</td>\n",
       "      <td>NaT</td>\n",
       "      <td>0</td>\n",
       "      <td>0</td>\n",
       "      <td>0</td>\n",
       "    </tr>\n",
       "    <tr>\n",
       "      <th>3</th>\n",
       "      <td>Pull Cord Alarm</td>\n",
       "      <td>50082C31-0384-4B63-AD5C-DFEFEA5386B8</td>\n",
       "      <td>completed</td>\n",
       "      <td>5283</td>\n",
       "      <td>2018-10-29 00:15:00</td>\n",
       "      <td>2018-10-29 00:30:00</td>\n",
       "      <td>2018-10-29 00:15:00</td>\n",
       "      <td>2018-10-29 00:46:00</td>\n",
       "      <td>2018-10-29 00:46:00</td>\n",
       "      <td>1893</td>\n",
       "      <td>2</td>\n",
       "      <td>1895</td>\n",
       "    </tr>\n",
       "    <tr>\n",
       "      <th>4</th>\n",
       "      <td>Personal Care</td>\n",
       "      <td>7BDF8891-004F-46DF-8FA5-1D623B36D6F7</td>\n",
       "      <td>planned</td>\n",
       "      <td>5537</td>\n",
       "      <td>2018-10-29 00:30:00</td>\n",
       "      <td>2018-10-29 01:00:00</td>\n",
       "      <td>NaT</td>\n",
       "      <td>NaT</td>\n",
       "      <td>NaT</td>\n",
       "      <td>0</td>\n",
       "      <td>0</td>\n",
       "      <td>0</td>\n",
       "    </tr>\n",
       "    <tr>\n",
       "      <th>...</th>\n",
       "      <td>...</td>\n",
       "      <td>...</td>\n",
       "      <td>...</td>\n",
       "      <td>...</td>\n",
       "      <td>...</td>\n",
       "      <td>...</td>\n",
       "      <td>...</td>\n",
       "      <td>...</td>\n",
       "      <td>...</td>\n",
       "      <td>...</td>\n",
       "      <td>...</td>\n",
       "      <td>...</td>\n",
       "    </tr>\n",
       "    <tr>\n",
       "      <th>1048570</th>\n",
       "      <td>Alarm</td>\n",
       "      <td>B86A1DA3-85A9-468A-90FE-D50BCA54268D</td>\n",
       "      <td>completed</td>\n",
       "      <td>8734</td>\n",
       "      <td>2020-10-06 18:06:00</td>\n",
       "      <td>2020-10-06 18:16:00</td>\n",
       "      <td>2020-10-06 18:06:00</td>\n",
       "      <td>2020-10-06 18:49:00</td>\n",
       "      <td>2020-10-06 18:49:00</td>\n",
       "      <td>2576</td>\n",
       "      <td>1</td>\n",
       "      <td>2577</td>\n",
       "    </tr>\n",
       "    <tr>\n",
       "      <th>1048571</th>\n",
       "      <td>Alarm</td>\n",
       "      <td>B86A1DA3-85A9-468A-90FE-D50BCA54268D</td>\n",
       "      <td>completed</td>\n",
       "      <td>8734</td>\n",
       "      <td>2020-10-06 18:07:00</td>\n",
       "      <td>2020-10-06 18:17:00</td>\n",
       "      <td>2020-10-06 18:07:00</td>\n",
       "      <td>2020-10-06 18:49:00</td>\n",
       "      <td>2020-10-06 18:49:00</td>\n",
       "      <td>2568</td>\n",
       "      <td>2</td>\n",
       "      <td>2570</td>\n",
       "    </tr>\n",
       "    <tr>\n",
       "      <th>1048572</th>\n",
       "      <td>e-Expert low Battery</td>\n",
       "      <td>BFEB78EF-A1B4-4D22-9821-7768C47C4558</td>\n",
       "      <td>active</td>\n",
       "      <td>5876</td>\n",
       "      <td>2020-10-06 18:07:00</td>\n",
       "      <td>2020-10-06 18:12:00</td>\n",
       "      <td>2020-10-06 18:07:00</td>\n",
       "      <td>NaT</td>\n",
       "      <td>NaT</td>\n",
       "      <td>0</td>\n",
       "      <td>0</td>\n",
       "      <td>0</td>\n",
       "    </tr>\n",
       "    <tr>\n",
       "      <th>1048573</th>\n",
       "      <td>Alarm</td>\n",
       "      <td>938D0FA8-63FE-41C3-93AC-2994495F146B</td>\n",
       "      <td>active</td>\n",
       "      <td>5347</td>\n",
       "      <td>2020-10-06 18:12:00</td>\n",
       "      <td>2020-10-06 18:42:00</td>\n",
       "      <td>2020-10-06 18:12:00</td>\n",
       "      <td>NaT</td>\n",
       "      <td>NaT</td>\n",
       "      <td>0</td>\n",
       "      <td>0</td>\n",
       "      <td>0</td>\n",
       "    </tr>\n",
       "    <tr>\n",
       "      <th>1048574</th>\n",
       "      <td>Personal Care</td>\n",
       "      <td>C2BA0DDB-D831-4ACF-8901-CF0C8916CC4B</td>\n",
       "      <td>completed</td>\n",
       "      <td>5677</td>\n",
       "      <td>2020-10-06 18:15:00</td>\n",
       "      <td>2020-10-06 18:45:00</td>\n",
       "      <td>2020-09-29 09:22:00</td>\n",
       "      <td>2020-10-06 18:01:00</td>\n",
       "      <td>2020-10-06 18:16:00</td>\n",
       "      <td>-19447</td>\n",
       "      <td>883</td>\n",
       "      <td>-18564</td>\n",
       "    </tr>\n",
       "  </tbody>\n",
       "</table>\n",
       "<p>1010130 rows × 12 columns</p>\n",
       "</div>"
      ],
      "text/plain": [
       "                  ServiceName                             VisitorID  \\\n",
       "0               Personal Care  B03347CE-9AB6-4A2B-8866-D9940F57B298   \n",
       "1               Personal Care  B03347CE-9AB6-4A2B-8866-D9940F57B298   \n",
       "2        Customer in Hospital  BEE22A4A-C5C9-4008-BD71-BB311E08CDB4   \n",
       "3             Pull Cord Alarm  50082C31-0384-4B63-AD5C-DFEFEA5386B8   \n",
       "4               Personal Care  7BDF8891-004F-46DF-8FA5-1D623B36D6F7   \n",
       "...                       ...                                   ...   \n",
       "1048570                 Alarm  B86A1DA3-85A9-468A-90FE-D50BCA54268D   \n",
       "1048571                 Alarm  B86A1DA3-85A9-468A-90FE-D50BCA54268D   \n",
       "1048572  e-Expert low Battery  BFEB78EF-A1B4-4D22-9821-7768C47C4558   \n",
       "1048573                 Alarm  938D0FA8-63FE-41C3-93AC-2994495F146B   \n",
       "1048574         Personal Care  C2BA0DDB-D831-4ACF-8901-CF0C8916CC4B   \n",
       "\n",
       "            Status ExternalID           StartTime             EndTime  \\\n",
       "0          planned       7741 2018-10-29 00:00:00 2018-10-29 00:30:00   \n",
       "1          planned       7741 2018-10-29 00:00:00 2018-10-29 00:30:00   \n",
       "2          planned       5087 2018-10-29 00:00:00 2018-11-02 00:00:00   \n",
       "3        completed       5283 2018-10-29 00:15:00 2018-10-29 00:30:00   \n",
       "4          planned       5537 2018-10-29 00:30:00 2018-10-29 01:00:00   \n",
       "...            ...        ...                 ...                 ...   \n",
       "1048570  completed       8734 2020-10-06 18:06:00 2020-10-06 18:16:00   \n",
       "1048571  completed       8734 2020-10-06 18:07:00 2020-10-06 18:17:00   \n",
       "1048572     active       5876 2020-10-06 18:07:00 2020-10-06 18:12:00   \n",
       "1048573     active       5347 2020-10-06 18:12:00 2020-10-06 18:42:00   \n",
       "1048574  completed       5677 2020-10-06 18:15:00 2020-10-06 18:45:00   \n",
       "\n",
       "            FirstActiveTime FirstResponsibleTime  FirstCompletedTime  \\\n",
       "0                       NaT                  NaT                 NaT   \n",
       "1                       NaT                  NaT                 NaT   \n",
       "2                       NaT                  NaT                 NaT   \n",
       "3       2018-10-29 00:15:00  2018-10-29 00:46:00 2018-10-29 00:46:00   \n",
       "4                       NaT                  NaT                 NaT   \n",
       "...                     ...                  ...                 ...   \n",
       "1048570 2020-10-06 18:06:00  2020-10-06 18:49:00 2020-10-06 18:49:00   \n",
       "1048571 2020-10-06 18:07:00  2020-10-06 18:49:00 2020-10-06 18:49:00   \n",
       "1048572 2020-10-06 18:07:00                  NaT                 NaT   \n",
       "1048573 2020-10-06 18:12:00                  NaT                 NaT   \n",
       "1048574 2020-09-29 09:22:00  2020-10-06 18:01:00 2020-10-06 18:16:00   \n",
       "\n",
       "         AcceptDuration  ComplateDuration  TotalDuration  \n",
       "0                     0                 0              0  \n",
       "1                     0                 0              0  \n",
       "2                     0                 0              0  \n",
       "3                  1893                 2           1895  \n",
       "4                     0                 0              0  \n",
       "...                 ...               ...            ...  \n",
       "1048570            2576                 1           2577  \n",
       "1048571            2568                 2           2570  \n",
       "1048572               0                 0              0  \n",
       "1048573               0                 0              0  \n",
       "1048574          -19447               883         -18564  \n",
       "\n",
       "[1010130 rows x 12 columns]"
      ]
     },
     "execution_count": 38,
     "metadata": {},
     "output_type": "execute_result"
    }
   ],
   "source": [
    "ServicesData.sort_values(by='StartTime')"
   ]
  },
  {
   "cell_type": "markdown",
   "metadata": {},
   "source": [
    "Next, due to the large dataset, I chose to load the first 1000 rows of data first to look at some key columns."
   ]
  },
  {
   "cell_type": "code",
   "execution_count": 39,
   "metadata": {},
   "outputs": [],
   "source": [
    "# Get the first 1000 rows of data\n",
    "ServicesData1000 = ServicesData[0:1000]"
   ]
  },
  {
   "cell_type": "code",
   "execution_count": 40,
   "metadata": {
    "scrolled": false
   },
   "outputs": [
    {
     "data": {
      "text/plain": [
       "Personal Care                             581\n",
       "Travel                                    124\n",
       "Housing Support                            73\n",
       "Unpaid Break                               69\n",
       "Medication                                 23\n",
       "Pull Cord Alarm                            17\n",
       "Alarm                                      10\n",
       "Welfare Check                              10\n",
       "Personal Care - FEMALES ONLY                9\n",
       "OFFLINE!!!!                                 8\n",
       "Personal Care & Housing Support             8\n",
       "Domestic Support                            8\n",
       "Care Plan Review                            7\n",
       "Annual Leave                                7\n",
       "Domestic Duties                             6\n",
       "SVQ Time                                    6\n",
       "Mandatory E-Learning                        5\n",
       "Assist in Care Home                         5\n",
       "Supervision                                 5\n",
       "ALARM - Physical Response NOT Required      4\n",
       "Customer in Hospital                        4\n",
       "Wrist Alarm                                 3\n",
       "Unpaid Leave                                2\n",
       "Special Leave                               2\n",
       "Personal Care - MALE ONLY                   2\n",
       "ALARM - Physical Response Required          1\n",
       "Medication Collection/Delivery              1\n",
       "Name: ServiceName, dtype: int64"
      ]
     },
     "execution_count": 40,
     "metadata": {},
     "output_type": "execute_result"
    }
   ],
   "source": [
    "# Have a look at some of the key columns\n",
    "ServicesData1000['ServiceName'].value_counts()"
   ]
  },
  {
   "cell_type": "markdown",
   "metadata": {},
   "source": [
    "In the first 1000 lines, we can see that the service with the most occurrences is Personal Care, and that there are many types of Alarm and different case spellings."
   ]
  },
  {
   "cell_type": "code",
   "execution_count": 41,
   "metadata": {},
   "outputs": [
    {
     "data": {
      "text/plain": [
       "planned        589\n",
       "completed      309\n",
       "deleted         78\n",
       "active          16\n",
       "stopped          4\n",
       "in progress      4\n",
       "Name: Status, dtype: int64"
      ]
     },
     "execution_count": 41,
     "metadata": {},
     "output_type": "execute_result"
    }
   ],
   "source": [
    "ServicesData1000['Status'].value_counts()"
   ]
  },
  {
   "cell_type": "markdown",
   "metadata": {},
   "source": [
    "In the first 1000 lines, there are six different service status."
   ]
  },
  {
   "cell_type": "code",
   "execution_count": 42,
   "metadata": {},
   "outputs": [
    {
     "data": {
      "text/plain": [
       "1111    239\n",
       "5534     21\n",
       "7741     20\n",
       "5977     16\n",
       "5537     15\n",
       "       ... \n",
       "5778      1\n",
       "7311      1\n",
       "5474      1\n",
       "8635      1\n",
       "4774      1\n",
       "Name: ExternalID, Length: 256, dtype: int64"
      ]
     },
     "execution_count": 42,
     "metadata": {},
     "output_type": "execute_result"
    }
   ],
   "source": [
    "ServicesData1000['ExternalID'].value_counts()"
   ]
  },
  {
   "cell_type": "markdown",
   "metadata": {},
   "source": [
    "There are many IDs that appear many times in the first 1000 lines."
   ]
  },
  {
   "cell_type": "code",
   "execution_count": 43,
   "metadata": {},
   "outputs": [
    {
     "data": {
      "text/plain": [
       "0   2018-10-29 00:00:00\n",
       "1   2018-10-29 00:00:00\n",
       "2   2018-10-29 00:00:00\n",
       "3   2018-10-29 00:15:00\n",
       "4   2018-10-29 00:30:00\n",
       "Name: StartTime, dtype: datetime64[ns]"
      ]
     },
     "execution_count": 43,
     "metadata": {},
     "output_type": "execute_result"
    }
   ],
   "source": [
    "ServicesData['StartTime'].head()"
   ]
  },
  {
   "cell_type": "code",
   "execution_count": 44,
   "metadata": {},
   "outputs": [
    {
     "data": {
      "text/plain": [
       "1048570   2020-10-06 18:06:00\n",
       "1048571   2020-10-06 18:07:00\n",
       "1048572   2020-10-06 18:07:00\n",
       "1048573   2020-10-06 18:12:00\n",
       "1048574   2020-10-06 18:15:00\n",
       "Name: StartTime, dtype: datetime64[ns]"
      ]
     },
     "execution_count": 44,
     "metadata": {},
     "output_type": "execute_result"
    }
   ],
   "source": [
    "ServicesData['StartTime'].tail()"
   ]
  },
  {
   "cell_type": "markdown",
   "metadata": {},
   "source": [
    "By looking at the beginning and end of the StartTime list, we can roughly guess that the table covers the period from 2018-10-29 to 2020-06-10."
   ]
  },
  {
   "cell_type": "markdown",
   "metadata": {},
   "source": [
    "Once we had an overall picture of the dataset, we began further data cleaning and extraction."
   ]
  },
  {
   "cell_type": "code",
   "execution_count": 45,
   "metadata": {},
   "outputs": [
    {
     "name": "stdout",
     "output_type": "stream",
     "text": [
      "(1010130, 12)\n",
      "(944628, 12)\n"
     ]
    }
   ],
   "source": [
    "# Checking for and removing duplicate data\n",
    "print(ServicesData.shape)\n",
    "ServicesData_dp = ServicesData[ServicesData.duplicated()]\n",
    "#print(ServicesData_dp)\n",
    "ServicesData_cl = ServicesData.drop_duplicates()\n",
    "print(ServicesData_cl.shape)"
   ]
  },
  {
   "cell_type": "markdown",
   "metadata": {},
   "source": [
    "After that I tried to extract the type of service that needs attention in my project, i.e. data related to Alarm. Based on my earlier findings, I chose case insensitivity here."
   ]
  },
  {
   "cell_type": "code",
   "execution_count": 46,
   "metadata": {},
   "outputs": [
    {
     "name": "stdout",
     "output_type": "stream",
     "text": [
      "(58690, 12)\n"
     ]
    },
    {
     "data": {
      "text/html": [
       "<div>\n",
       "<style scoped>\n",
       "    .dataframe tbody tr th:only-of-type {\n",
       "        vertical-align: middle;\n",
       "    }\n",
       "\n",
       "    .dataframe tbody tr th {\n",
       "        vertical-align: top;\n",
       "    }\n",
       "\n",
       "    .dataframe thead th {\n",
       "        text-align: right;\n",
       "    }\n",
       "</style>\n",
       "<table border=\"1\" class=\"dataframe\">\n",
       "  <thead>\n",
       "    <tr style=\"text-align: right;\">\n",
       "      <th></th>\n",
       "      <th>ServiceName</th>\n",
       "      <th>VisitorID</th>\n",
       "      <th>Status</th>\n",
       "      <th>ExternalID</th>\n",
       "      <th>StartTime</th>\n",
       "      <th>EndTime</th>\n",
       "      <th>FirstActiveTime</th>\n",
       "      <th>FirstResponsibleTime</th>\n",
       "      <th>FirstCompletedTime</th>\n",
       "      <th>AcceptDuration</th>\n",
       "      <th>ComplateDuration</th>\n",
       "      <th>TotalDuration</th>\n",
       "    </tr>\n",
       "  </thead>\n",
       "  <tbody>\n",
       "    <tr>\n",
       "      <th>3</th>\n",
       "      <td>Pull Cord Alarm</td>\n",
       "      <td>50082C31-0384-4B63-AD5C-DFEFEA5386B8</td>\n",
       "      <td>completed</td>\n",
       "      <td>5283</td>\n",
       "      <td>2018-10-29 00:15:00</td>\n",
       "      <td>2018-10-29 00:30:00</td>\n",
       "      <td>2018-10-29 00:15:00</td>\n",
       "      <td>2018-10-29 00:46:00</td>\n",
       "      <td>2018-10-29 00:46:00</td>\n",
       "      <td>1893</td>\n",
       "      <td>2</td>\n",
       "      <td>1895</td>\n",
       "    </tr>\n",
       "    <tr>\n",
       "      <th>6</th>\n",
       "      <td>Alarm</td>\n",
       "      <td>ABEF7EDD-2009-45A5-9CEB-313743887AC9</td>\n",
       "      <td>completed</td>\n",
       "      <td>5977</td>\n",
       "      <td>2018-10-29 00:44:00</td>\n",
       "      <td>2018-10-29 00:54:00</td>\n",
       "      <td>2018-10-29 00:44:00</td>\n",
       "      <td>2018-10-29 00:45:00</td>\n",
       "      <td>2018-10-29 00:46:00</td>\n",
       "      <td>48</td>\n",
       "      <td>60</td>\n",
       "      <td>108</td>\n",
       "    </tr>\n",
       "    <tr>\n",
       "      <th>7</th>\n",
       "      <td>Alarm</td>\n",
       "      <td>ABEF7EDD-2009-45A5-9CEB-313743887AC9</td>\n",
       "      <td>completed</td>\n",
       "      <td>5977</td>\n",
       "      <td>2018-10-29 00:44:00</td>\n",
       "      <td>2018-10-29 00:54:00</td>\n",
       "      <td>2018-10-29 00:44:00</td>\n",
       "      <td>2018-10-29 00:46:00</td>\n",
       "      <td>2018-10-29 00:46:00</td>\n",
       "      <td>110</td>\n",
       "      <td>3</td>\n",
       "      <td>113</td>\n",
       "    </tr>\n",
       "    <tr>\n",
       "      <th>8</th>\n",
       "      <td>Alarm</td>\n",
       "      <td>BDDCED38-9336-4A18-AA9D-29F16218EDFD</td>\n",
       "      <td>completed</td>\n",
       "      <td>8639</td>\n",
       "      <td>2018-10-29 00:55:00</td>\n",
       "      <td>2018-10-29 01:05:00</td>\n",
       "      <td>2018-10-29 00:55:00</td>\n",
       "      <td>2018-10-29 00:56:00</td>\n",
       "      <td>2018-10-29 01:07:00</td>\n",
       "      <td>38</td>\n",
       "      <td>677</td>\n",
       "      <td>715</td>\n",
       "    </tr>\n",
       "    <tr>\n",
       "      <th>9</th>\n",
       "      <td>ALARM - Physical Response NOT Required</td>\n",
       "      <td>BDDCED38-9336-4A18-AA9D-29F16218EDFD</td>\n",
       "      <td>completed</td>\n",
       "      <td>8639</td>\n",
       "      <td>2018-10-29 00:55:00</td>\n",
       "      <td>2018-10-29 01:05:00</td>\n",
       "      <td>2018-10-29 00:55:00</td>\n",
       "      <td>2018-10-29 00:56:00</td>\n",
       "      <td>2018-10-29 01:07:00</td>\n",
       "      <td>38</td>\n",
       "      <td>677</td>\n",
       "      <td>715</td>\n",
       "    </tr>\n",
       "  </tbody>\n",
       "</table>\n",
       "</div>"
      ],
      "text/plain": [
       "                              ServiceName  \\\n",
       "3                         Pull Cord Alarm   \n",
       "6                                   Alarm   \n",
       "7                                   Alarm   \n",
       "8                                   Alarm   \n",
       "9  ALARM - Physical Response NOT Required   \n",
       "\n",
       "                              VisitorID     Status ExternalID  \\\n",
       "3  50082C31-0384-4B63-AD5C-DFEFEA5386B8  completed       5283   \n",
       "6  ABEF7EDD-2009-45A5-9CEB-313743887AC9  completed       5977   \n",
       "7  ABEF7EDD-2009-45A5-9CEB-313743887AC9  completed       5977   \n",
       "8  BDDCED38-9336-4A18-AA9D-29F16218EDFD  completed       8639   \n",
       "9  BDDCED38-9336-4A18-AA9D-29F16218EDFD  completed       8639   \n",
       "\n",
       "            StartTime             EndTime     FirstActiveTime  \\\n",
       "3 2018-10-29 00:15:00 2018-10-29 00:30:00 2018-10-29 00:15:00   \n",
       "6 2018-10-29 00:44:00 2018-10-29 00:54:00 2018-10-29 00:44:00   \n",
       "7 2018-10-29 00:44:00 2018-10-29 00:54:00 2018-10-29 00:44:00   \n",
       "8 2018-10-29 00:55:00 2018-10-29 01:05:00 2018-10-29 00:55:00   \n",
       "9 2018-10-29 00:55:00 2018-10-29 01:05:00 2018-10-29 00:55:00   \n",
       "\n",
       "  FirstResponsibleTime  FirstCompletedTime  AcceptDuration  ComplateDuration  \\\n",
       "3  2018-10-29 00:46:00 2018-10-29 00:46:00            1893                 2   \n",
       "6  2018-10-29 00:45:00 2018-10-29 00:46:00              48                60   \n",
       "7  2018-10-29 00:46:00 2018-10-29 00:46:00             110                 3   \n",
       "8  2018-10-29 00:56:00 2018-10-29 01:07:00              38               677   \n",
       "9  2018-10-29 00:56:00 2018-10-29 01:07:00              38               677   \n",
       "\n",
       "   TotalDuration  \n",
       "3           1895  \n",
       "6            108  \n",
       "7            113  \n",
       "8            715  \n",
       "9            715  "
      ]
     },
     "execution_count": 46,
     "metadata": {},
     "output_type": "execute_result"
    }
   ],
   "source": [
    "# Get all the lines related to ‘Alarm’\n",
    "AlarmServices = ServicesData_cl['ServiceName'].str.contains(pat='alarm', case=False, regex=False)\n",
    "AlarmData = ServicesData_cl[AlarmServices]\n",
    "print(AlarmData.shape)\n",
    "AlarmData.head()"
   ]
  },
  {
   "cell_type": "markdown",
   "metadata": {},
   "source": [
    "Then I removed rows that End Time earlier than Star Time because it didn't make sense: normally, the start time should be earlier than the end time. I couldn't find a reasonable explanation for this anomaly, so I decided to remove it."
   ]
  },
  {
   "cell_type": "code",
   "execution_count": 47,
   "metadata": {},
   "outputs": [],
   "source": [
    "#AlarmData_cl = AlarmData[AlarmData['StartTime']>AlarmData['EndTime']].reset_index(drop=True)\n",
    "#AlarmData_cl"
   ]
  },
  {
   "cell_type": "code",
   "execution_count": 48,
   "metadata": {},
   "outputs": [
    {
     "name": "stdout",
     "output_type": "stream",
     "text": [
      "(58642, 12)\n"
     ]
    },
    {
     "data": {
      "text/html": [
       "<div>\n",
       "<style scoped>\n",
       "    .dataframe tbody tr th:only-of-type {\n",
       "        vertical-align: middle;\n",
       "    }\n",
       "\n",
       "    .dataframe tbody tr th {\n",
       "        vertical-align: top;\n",
       "    }\n",
       "\n",
       "    .dataframe thead th {\n",
       "        text-align: right;\n",
       "    }\n",
       "</style>\n",
       "<table border=\"1\" class=\"dataframe\">\n",
       "  <thead>\n",
       "    <tr style=\"text-align: right;\">\n",
       "      <th></th>\n",
       "      <th>ServiceName</th>\n",
       "      <th>VisitorID</th>\n",
       "      <th>Status</th>\n",
       "      <th>ExternalID</th>\n",
       "      <th>StartTime</th>\n",
       "      <th>EndTime</th>\n",
       "      <th>FirstActiveTime</th>\n",
       "      <th>FirstResponsibleTime</th>\n",
       "      <th>FirstCompletedTime</th>\n",
       "      <th>AcceptDuration</th>\n",
       "      <th>ComplateDuration</th>\n",
       "      <th>TotalDuration</th>\n",
       "    </tr>\n",
       "  </thead>\n",
       "  <tbody>\n",
       "    <tr>\n",
       "      <th>0</th>\n",
       "      <td>Pull Cord Alarm</td>\n",
       "      <td>50082C31-0384-4B63-AD5C-DFEFEA5386B8</td>\n",
       "      <td>completed</td>\n",
       "      <td>5283</td>\n",
       "      <td>2018-10-29 00:15:00</td>\n",
       "      <td>2018-10-29 00:30:00</td>\n",
       "      <td>2018-10-29 00:15:00</td>\n",
       "      <td>2018-10-29 00:46:00</td>\n",
       "      <td>2018-10-29 00:46:00</td>\n",
       "      <td>1893</td>\n",
       "      <td>2</td>\n",
       "      <td>1895</td>\n",
       "    </tr>\n",
       "    <tr>\n",
       "      <th>1</th>\n",
       "      <td>Alarm</td>\n",
       "      <td>ABEF7EDD-2009-45A5-9CEB-313743887AC9</td>\n",
       "      <td>completed</td>\n",
       "      <td>5977</td>\n",
       "      <td>2018-10-29 00:44:00</td>\n",
       "      <td>2018-10-29 00:54:00</td>\n",
       "      <td>2018-10-29 00:44:00</td>\n",
       "      <td>2018-10-29 00:45:00</td>\n",
       "      <td>2018-10-29 00:46:00</td>\n",
       "      <td>48</td>\n",
       "      <td>60</td>\n",
       "      <td>108</td>\n",
       "    </tr>\n",
       "    <tr>\n",
       "      <th>2</th>\n",
       "      <td>Alarm</td>\n",
       "      <td>ABEF7EDD-2009-45A5-9CEB-313743887AC9</td>\n",
       "      <td>completed</td>\n",
       "      <td>5977</td>\n",
       "      <td>2018-10-29 00:44:00</td>\n",
       "      <td>2018-10-29 00:54:00</td>\n",
       "      <td>2018-10-29 00:44:00</td>\n",
       "      <td>2018-10-29 00:46:00</td>\n",
       "      <td>2018-10-29 00:46:00</td>\n",
       "      <td>110</td>\n",
       "      <td>3</td>\n",
       "      <td>113</td>\n",
       "    </tr>\n",
       "    <tr>\n",
       "      <th>3</th>\n",
       "      <td>Alarm</td>\n",
       "      <td>BDDCED38-9336-4A18-AA9D-29F16218EDFD</td>\n",
       "      <td>completed</td>\n",
       "      <td>8639</td>\n",
       "      <td>2018-10-29 00:55:00</td>\n",
       "      <td>2018-10-29 01:05:00</td>\n",
       "      <td>2018-10-29 00:55:00</td>\n",
       "      <td>2018-10-29 00:56:00</td>\n",
       "      <td>2018-10-29 01:07:00</td>\n",
       "      <td>38</td>\n",
       "      <td>677</td>\n",
       "      <td>715</td>\n",
       "    </tr>\n",
       "    <tr>\n",
       "      <th>4</th>\n",
       "      <td>ALARM - Physical Response NOT Required</td>\n",
       "      <td>BDDCED38-9336-4A18-AA9D-29F16218EDFD</td>\n",
       "      <td>completed</td>\n",
       "      <td>8639</td>\n",
       "      <td>2018-10-29 00:55:00</td>\n",
       "      <td>2018-10-29 01:05:00</td>\n",
       "      <td>2018-10-29 00:55:00</td>\n",
       "      <td>2018-10-29 00:56:00</td>\n",
       "      <td>2018-10-29 01:07:00</td>\n",
       "      <td>38</td>\n",
       "      <td>677</td>\n",
       "      <td>715</td>\n",
       "    </tr>\n",
       "  </tbody>\n",
       "</table>\n",
       "</div>"
      ],
      "text/plain": [
       "                              ServiceName  \\\n",
       "0                         Pull Cord Alarm   \n",
       "1                                   Alarm   \n",
       "2                                   Alarm   \n",
       "3                                   Alarm   \n",
       "4  ALARM - Physical Response NOT Required   \n",
       "\n",
       "                              VisitorID     Status ExternalID  \\\n",
       "0  50082C31-0384-4B63-AD5C-DFEFEA5386B8  completed       5283   \n",
       "1  ABEF7EDD-2009-45A5-9CEB-313743887AC9  completed       5977   \n",
       "2  ABEF7EDD-2009-45A5-9CEB-313743887AC9  completed       5977   \n",
       "3  BDDCED38-9336-4A18-AA9D-29F16218EDFD  completed       8639   \n",
       "4  BDDCED38-9336-4A18-AA9D-29F16218EDFD  completed       8639   \n",
       "\n",
       "            StartTime             EndTime     FirstActiveTime  \\\n",
       "0 2018-10-29 00:15:00 2018-10-29 00:30:00 2018-10-29 00:15:00   \n",
       "1 2018-10-29 00:44:00 2018-10-29 00:54:00 2018-10-29 00:44:00   \n",
       "2 2018-10-29 00:44:00 2018-10-29 00:54:00 2018-10-29 00:44:00   \n",
       "3 2018-10-29 00:55:00 2018-10-29 01:05:00 2018-10-29 00:55:00   \n",
       "4 2018-10-29 00:55:00 2018-10-29 01:05:00 2018-10-29 00:55:00   \n",
       "\n",
       "  FirstResponsibleTime  FirstCompletedTime  AcceptDuration  ComplateDuration  \\\n",
       "0  2018-10-29 00:46:00 2018-10-29 00:46:00            1893                 2   \n",
       "1  2018-10-29 00:45:00 2018-10-29 00:46:00              48                60   \n",
       "2  2018-10-29 00:46:00 2018-10-29 00:46:00             110                 3   \n",
       "3  2018-10-29 00:56:00 2018-10-29 01:07:00              38               677   \n",
       "4  2018-10-29 00:56:00 2018-10-29 01:07:00              38               677   \n",
       "\n",
       "   TotalDuration  \n",
       "0           1895  \n",
       "1            108  \n",
       "2            113  \n",
       "3            715  \n",
       "4            715  "
      ]
     },
     "execution_count": 48,
     "metadata": {},
     "output_type": "execute_result"
    }
   ],
   "source": [
    "# Removing anomalous datetime\n",
    "AlarmData_cl = AlarmData[AlarmData['StartTime']<=AlarmData['EndTime']].reset_index(drop=True)\n",
    "print(AlarmData_cl.shape)\n",
    "AlarmData_cl.head()"
   ]
  },
  {
   "cell_type": "markdown",
   "metadata": {},
   "source": [
    "Next, we review the information in this data table again and look at some key columns."
   ]
  },
  {
   "cell_type": "code",
   "execution_count": 49,
   "metadata": {},
   "outputs": [
    {
     "name": "stdout",
     "output_type": "stream",
     "text": [
      "<class 'pandas.core.frame.DataFrame'>\n",
      "RangeIndex: 58642 entries, 0 to 58641\n",
      "Data columns (total 12 columns):\n",
      " #   Column                Non-Null Count  Dtype         \n",
      "---  ------                --------------  -----         \n",
      " 0   ServiceName           58642 non-null  object        \n",
      " 1   VisitorID             58642 non-null  object        \n",
      " 2   Status                58642 non-null  object        \n",
      " 3   ExternalID            58642 non-null  object        \n",
      " 4   StartTime             58642 non-null  datetime64[ns]\n",
      " 5   EndTime               58642 non-null  datetime64[ns]\n",
      " 6   FirstActiveTime       57471 non-null  datetime64[ns]\n",
      " 7   FirstResponsibleTime  51277 non-null  datetime64[ns]\n",
      " 8   FirstCompletedTime    49816 non-null  datetime64[ns]\n",
      " 9   AcceptDuration        58642 non-null  int16         \n",
      " 10  ComplateDuration      58642 non-null  int16         \n",
      " 11  TotalDuration         58642 non-null  int16         \n",
      "dtypes: datetime64[ns](5), int16(3), object(4)\n",
      "memory usage: 4.4+ MB\n"
     ]
    }
   ],
   "source": [
    "AlarmData_cl.info()"
   ]
  },
  {
   "cell_type": "code",
   "execution_count": 50,
   "metadata": {},
   "outputs": [
    {
     "data": {
      "text/plain": [
       "Alarm                                           25545\n",
       "Wrist Alarm                                     21743\n",
       "Pull Cord Alarm                                  4881\n",
       "ALARM - Physical Response NOT Required           4177\n",
       "Footprint alarm                                  1078\n",
       "Fire Alarm                                        679\n",
       "Alarm Testing                                     243\n",
       "ALARM - Physical Response Required                174\n",
       "Wifi Watch Alarm Low  Battery                      28\n",
       "Helenvale Alarm                                    27\n",
       "Door Alarm Battery Low                             24\n",
       "Smart Watch Alarm                                  20\n",
       "Wrist Alarm Battery                                10\n",
       "Alarm System                                        6\n",
       "Installation - BeNext Alarm Watch                   3\n",
       "Installation - CC System with Alarm & Z-Wave        2\n",
       "Community Alarm                                     1\n",
       "PHONE ALARM                                         1\n",
       "Name: ServiceName, dtype: int64"
      ]
     },
     "execution_count": 50,
     "metadata": {},
     "output_type": "execute_result"
    }
   ],
   "source": [
    "AlarmData_cl['ServiceName'].value_counts()"
   ]
  },
  {
   "cell_type": "code",
   "execution_count": 51,
   "metadata": {},
   "outputs": [
    {
     "data": {
      "text/plain": [
       "8734    15670\n",
       "8739     9444\n",
       "8731     2310\n",
       "6008     2148\n",
       "8729     1817\n",
       "        ...  \n",
       "6002        1\n",
       "4772        1\n",
       "7921        1\n",
       "5616        1\n",
       "6233        1\n",
       "Name: ExternalID, Length: 222, dtype: int64"
      ]
     },
     "execution_count": 51,
     "metadata": {},
     "output_type": "execute_result"
    }
   ],
   "source": [
    "AlarmData_cl['ExternalID'].value_counts()"
   ]
  },
  {
   "cell_type": "markdown",
   "metadata": {},
   "source": [
    "At this point, the table has been initially cleaned and I will next extract the information relevant to my project and correlate it with other tables.\n",
    "\n",
    "UPDATE: During my next analysis I found that the table still has a lot of cleanable parts."
   ]
  },
  {
   "cell_type": "code",
   "execution_count": 52,
   "metadata": {},
   "outputs": [],
   "source": [
    "# AlarmData_ID = AlarmData_cl['ExternalID'].value_counts()\n",
    "# AlarmData_ID.describe()"
   ]
  },
  {
   "cell_type": "markdown",
   "metadata": {},
   "source": [
    "### 3. Service Type\n",
    "\n",
    "The table presents the type of service provided by service centers in different areas, and it gives me an idea of the hours of service in different service centers, which may affect the alarm behavior of users in a particular area, but perhaps it would be more useful to link it to the location data in CC Data.\n"
   ]
  },
  {
   "cell_type": "code",
   "execution_count": 53,
   "metadata": {},
   "outputs": [
    {
     "data": {
      "text/html": [
       "<div>\n",
       "<style scoped>\n",
       "    .dataframe tbody tr th:only-of-type {\n",
       "        vertical-align: middle;\n",
       "    }\n",
       "\n",
       "    .dataframe tbody tr th {\n",
       "        vertical-align: top;\n",
       "    }\n",
       "\n",
       "    .dataframe thead th {\n",
       "        text-align: right;\n",
       "    }\n",
       "</style>\n",
       "<table border=\"1\" class=\"dataframe\">\n",
       "  <thead>\n",
       "    <tr style=\"text-align: right;\">\n",
       "      <th></th>\n",
       "      <th>Centres</th>\n",
       "      <th>Servicetype</th>\n",
       "    </tr>\n",
       "  </thead>\n",
       "  <tbody>\n",
       "    <tr>\n",
       "      <th>0</th>\n",
       "      <td>Aberdeen C@H</td>\n",
       "      <td>Care in customers own home service operates fr...</td>\n",
       "    </tr>\n",
       "    <tr>\n",
       "      <th>1</th>\n",
       "      <td>Aberdeen Raeden Court CH</td>\n",
       "      <td>Care home staffed 24/7 with on demand care, mo...</td>\n",
       "    </tr>\n",
       "    <tr>\n",
       "      <th>2</th>\n",
       "      <td>Belses Gardens Care Home</td>\n",
       "      <td>Care home staffed 24/7 with on demand care, mo...</td>\n",
       "    </tr>\n",
       "    <tr>\n",
       "      <th>3</th>\n",
       "      <td>All Broom except houses</td>\n",
       "      <td>Care home staffed 24/7 with on demand care, mo...</td>\n",
       "    </tr>\n",
       "    <tr>\n",
       "      <th>4</th>\n",
       "      <td>Broom Houses</td>\n",
       "      <td>Care within own homes but with 24 hour alarm s...</td>\n",
       "    </tr>\n",
       "    <tr>\n",
       "      <th>5</th>\n",
       "      <td>Dundee</td>\n",
       "      <td>Care in customers own home service operates fr...</td>\n",
       "    </tr>\n",
       "    <tr>\n",
       "      <th>6</th>\n",
       "      <td>Tayside</td>\n",
       "      <td>Care in customers own home service operates fr...</td>\n",
       "    </tr>\n",
       "    <tr>\n",
       "      <th>7</th>\n",
       "      <td>Charleston</td>\n",
       "      <td>Care in customers own home service operates fr...</td>\n",
       "    </tr>\n",
       "    <tr>\n",
       "      <th>8</th>\n",
       "      <td>Edinburgh All</td>\n",
       "      <td>Care in customers own home service operates fr...</td>\n",
       "    </tr>\n",
       "    <tr>\n",
       "      <th>9</th>\n",
       "      <td>Edinburgh Night Support</td>\n",
       "      <td>only operates between 10pm and 7am, staff only...</td>\n",
       "    </tr>\n",
       "    <tr>\n",
       "      <th>10</th>\n",
       "      <td>LFC All</td>\n",
       "      <td>Care in customers own home service operates fr...</td>\n",
       "    </tr>\n",
       "    <tr>\n",
       "      <th>11</th>\n",
       "      <td>Sth Ayrshire St Leo</td>\n",
       "      <td>mixed but most have 24/7 care</td>\n",
       "    </tr>\n",
       "  </tbody>\n",
       "</table>\n",
       "</div>"
      ],
      "text/plain": [
       "                     Centres  \\\n",
       "0               Aberdeen C@H   \n",
       "1   Aberdeen Raeden Court CH   \n",
       "2   Belses Gardens Care Home   \n",
       "3    All Broom except houses   \n",
       "4               Broom Houses   \n",
       "5                     Dundee   \n",
       "6                    Tayside   \n",
       "7                 Charleston   \n",
       "8              Edinburgh All   \n",
       "9    Edinburgh Night Support   \n",
       "10                   LFC All   \n",
       "11       Sth Ayrshire St Leo   \n",
       "\n",
       "                                          Servicetype  \n",
       "0   Care in customers own home service operates fr...  \n",
       "1   Care home staffed 24/7 with on demand care, mo...  \n",
       "2   Care home staffed 24/7 with on demand care, mo...  \n",
       "3   Care home staffed 24/7 with on demand care, mo...  \n",
       "4   Care within own homes but with 24 hour alarm s...  \n",
       "5   Care in customers own home service operates fr...  \n",
       "6   Care in customers own home service operates fr...  \n",
       "7   Care in customers own home service operates fr...  \n",
       "8   Care in customers own home service operates fr...  \n",
       "9   only operates between 10pm and 7am, staff only...  \n",
       "10  Care in customers own home service operates fr...  \n",
       "11                      mixed but most have 24/7 care  "
      ]
     },
     "execution_count": 53,
     "metadata": {},
     "output_type": "execute_result"
    }
   ],
   "source": [
    "ServicesType = pd.read_excel('Service type.xlsx', usecols=[1,3], header=1, names=['Centres','Servicetype'])\n",
    "\n",
    "ServicesType"
   ]
  },
  {
   "cell_type": "markdown",
   "metadata": {},
   "source": [
    "## Explore"
   ]
  },
  {
   "cell_type": "markdown",
   "metadata": {},
   "source": [
    "First, I select the column in Alarm Data that I want to focus my analysis on later."
   ]
  },
  {
   "cell_type": "code",
   "execution_count": 54,
   "metadata": {},
   "outputs": [
    {
     "data": {
      "text/html": [
       "<div>\n",
       "<style scoped>\n",
       "    .dataframe tbody tr th:only-of-type {\n",
       "        vertical-align: middle;\n",
       "    }\n",
       "\n",
       "    .dataframe tbody tr th {\n",
       "        vertical-align: top;\n",
       "    }\n",
       "\n",
       "    .dataframe thead th {\n",
       "        text-align: right;\n",
       "    }\n",
       "</style>\n",
       "<table border=\"1\" class=\"dataframe\">\n",
       "  <thead>\n",
       "    <tr style=\"text-align: right;\">\n",
       "      <th></th>\n",
       "      <th>ExternalID</th>\n",
       "      <th>ServiceName</th>\n",
       "      <th>StartTime</th>\n",
       "      <th>Status</th>\n",
       "    </tr>\n",
       "  </thead>\n",
       "  <tbody>\n",
       "    <tr>\n",
       "      <th>0</th>\n",
       "      <td>5283</td>\n",
       "      <td>Pull Cord Alarm</td>\n",
       "      <td>2018-10-29 00:15:00</td>\n",
       "      <td>completed</td>\n",
       "    </tr>\n",
       "    <tr>\n",
       "      <th>1</th>\n",
       "      <td>5977</td>\n",
       "      <td>Alarm</td>\n",
       "      <td>2018-10-29 00:44:00</td>\n",
       "      <td>completed</td>\n",
       "    </tr>\n",
       "    <tr>\n",
       "      <th>2</th>\n",
       "      <td>5977</td>\n",
       "      <td>Alarm</td>\n",
       "      <td>2018-10-29 00:44:00</td>\n",
       "      <td>completed</td>\n",
       "    </tr>\n",
       "    <tr>\n",
       "      <th>3</th>\n",
       "      <td>8639</td>\n",
       "      <td>Alarm</td>\n",
       "      <td>2018-10-29 00:55:00</td>\n",
       "      <td>completed</td>\n",
       "    </tr>\n",
       "    <tr>\n",
       "      <th>4</th>\n",
       "      <td>8639</td>\n",
       "      <td>ALARM - Physical Response NOT Required</td>\n",
       "      <td>2018-10-29 00:55:00</td>\n",
       "      <td>completed</td>\n",
       "    </tr>\n",
       "    <tr>\n",
       "      <th>...</th>\n",
       "      <td>...</td>\n",
       "      <td>...</td>\n",
       "      <td>...</td>\n",
       "      <td>...</td>\n",
       "    </tr>\n",
       "    <tr>\n",
       "      <th>58637</th>\n",
       "      <td>8734</td>\n",
       "      <td>Alarm</td>\n",
       "      <td>2020-10-06 18:04:00</td>\n",
       "      <td>active</td>\n",
       "    </tr>\n",
       "    <tr>\n",
       "      <th>58638</th>\n",
       "      <td>5283</td>\n",
       "      <td>Alarm</td>\n",
       "      <td>2020-10-06 18:06:00</td>\n",
       "      <td>active</td>\n",
       "    </tr>\n",
       "    <tr>\n",
       "      <th>58639</th>\n",
       "      <td>8734</td>\n",
       "      <td>Alarm</td>\n",
       "      <td>2020-10-06 18:06:00</td>\n",
       "      <td>completed</td>\n",
       "    </tr>\n",
       "    <tr>\n",
       "      <th>58640</th>\n",
       "      <td>8734</td>\n",
       "      <td>Alarm</td>\n",
       "      <td>2020-10-06 18:07:00</td>\n",
       "      <td>completed</td>\n",
       "    </tr>\n",
       "    <tr>\n",
       "      <th>58641</th>\n",
       "      <td>5347</td>\n",
       "      <td>Alarm</td>\n",
       "      <td>2020-10-06 18:12:00</td>\n",
       "      <td>active</td>\n",
       "    </tr>\n",
       "  </tbody>\n",
       "</table>\n",
       "<p>58642 rows × 4 columns</p>\n",
       "</div>"
      ],
      "text/plain": [
       "      ExternalID                             ServiceName           StartTime  \\\n",
       "0           5283                         Pull Cord Alarm 2018-10-29 00:15:00   \n",
       "1           5977                                   Alarm 2018-10-29 00:44:00   \n",
       "2           5977                                   Alarm 2018-10-29 00:44:00   \n",
       "3           8639                                   Alarm 2018-10-29 00:55:00   \n",
       "4           8639  ALARM - Physical Response NOT Required 2018-10-29 00:55:00   \n",
       "...          ...                                     ...                 ...   \n",
       "58637       8734                                   Alarm 2020-10-06 18:04:00   \n",
       "58638       5283                                   Alarm 2020-10-06 18:06:00   \n",
       "58639       8734                                   Alarm 2020-10-06 18:06:00   \n",
       "58640       8734                                   Alarm 2020-10-06 18:07:00   \n",
       "58641       5347                                   Alarm 2020-10-06 18:12:00   \n",
       "\n",
       "          Status  \n",
       "0      completed  \n",
       "1      completed  \n",
       "2      completed  \n",
       "3      completed  \n",
       "4      completed  \n",
       "...          ...  \n",
       "58637     active  \n",
       "58638     active  \n",
       "58639  completed  \n",
       "58640  completed  \n",
       "58641     active  \n",
       "\n",
       "[58642 rows x 4 columns]"
      ]
     },
     "execution_count": 54,
     "metadata": {},
     "output_type": "execute_result"
    }
   ],
   "source": [
    "AlarmData_cl = AlarmData_cl[['ExternalID', 'ServiceName', 'StartTime', 'Status']]\n",
    "AlarmData_cl"
   ]
  },
  {
   "cell_type": "markdown",
   "metadata": {},
   "source": [
    "Due to the high precision of Start Time's data, I have added two new columns that pinpoint the date to the month and day for later analysis."
   ]
  },
  {
   "cell_type": "code",
   "execution_count": 55,
   "metadata": {
    "scrolled": true
   },
   "outputs": [
    {
     "data": {
      "text/html": [
       "<div>\n",
       "<style scoped>\n",
       "    .dataframe tbody tr th:only-of-type {\n",
       "        vertical-align: middle;\n",
       "    }\n",
       "\n",
       "    .dataframe tbody tr th {\n",
       "        vertical-align: top;\n",
       "    }\n",
       "\n",
       "    .dataframe thead th {\n",
       "        text-align: right;\n",
       "    }\n",
       "</style>\n",
       "<table border=\"1\" class=\"dataframe\">\n",
       "  <thead>\n",
       "    <tr style=\"text-align: right;\">\n",
       "      <th></th>\n",
       "      <th>ExternalID</th>\n",
       "      <th>ServiceName</th>\n",
       "      <th>StartTime</th>\n",
       "      <th>Status</th>\n",
       "      <th>MonthYear</th>\n",
       "      <th>DayMonthYear</th>\n",
       "    </tr>\n",
       "  </thead>\n",
       "  <tbody>\n",
       "    <tr>\n",
       "      <th>0</th>\n",
       "      <td>5283</td>\n",
       "      <td>Pull Cord Alarm</td>\n",
       "      <td>2018-10-29 00:15:00</td>\n",
       "      <td>completed</td>\n",
       "      <td>2018-10</td>\n",
       "      <td>2018-10-29</td>\n",
       "    </tr>\n",
       "    <tr>\n",
       "      <th>1</th>\n",
       "      <td>5977</td>\n",
       "      <td>Alarm</td>\n",
       "      <td>2018-10-29 00:44:00</td>\n",
       "      <td>completed</td>\n",
       "      <td>2018-10</td>\n",
       "      <td>2018-10-29</td>\n",
       "    </tr>\n",
       "    <tr>\n",
       "      <th>2</th>\n",
       "      <td>5977</td>\n",
       "      <td>Alarm</td>\n",
       "      <td>2018-10-29 00:44:00</td>\n",
       "      <td>completed</td>\n",
       "      <td>2018-10</td>\n",
       "      <td>2018-10-29</td>\n",
       "    </tr>\n",
       "    <tr>\n",
       "      <th>3</th>\n",
       "      <td>8639</td>\n",
       "      <td>Alarm</td>\n",
       "      <td>2018-10-29 00:55:00</td>\n",
       "      <td>completed</td>\n",
       "      <td>2018-10</td>\n",
       "      <td>2018-10-29</td>\n",
       "    </tr>\n",
       "    <tr>\n",
       "      <th>4</th>\n",
       "      <td>8639</td>\n",
       "      <td>ALARM - Physical Response NOT Required</td>\n",
       "      <td>2018-10-29 00:55:00</td>\n",
       "      <td>completed</td>\n",
       "      <td>2018-10</td>\n",
       "      <td>2018-10-29</td>\n",
       "    </tr>\n",
       "    <tr>\n",
       "      <th>...</th>\n",
       "      <td>...</td>\n",
       "      <td>...</td>\n",
       "      <td>...</td>\n",
       "      <td>...</td>\n",
       "      <td>...</td>\n",
       "      <td>...</td>\n",
       "    </tr>\n",
       "    <tr>\n",
       "      <th>58637</th>\n",
       "      <td>8734</td>\n",
       "      <td>Alarm</td>\n",
       "      <td>2020-10-06 18:04:00</td>\n",
       "      <td>active</td>\n",
       "      <td>2020-10</td>\n",
       "      <td>2020-10-06</td>\n",
       "    </tr>\n",
       "    <tr>\n",
       "      <th>58638</th>\n",
       "      <td>5283</td>\n",
       "      <td>Alarm</td>\n",
       "      <td>2020-10-06 18:06:00</td>\n",
       "      <td>active</td>\n",
       "      <td>2020-10</td>\n",
       "      <td>2020-10-06</td>\n",
       "    </tr>\n",
       "    <tr>\n",
       "      <th>58639</th>\n",
       "      <td>8734</td>\n",
       "      <td>Alarm</td>\n",
       "      <td>2020-10-06 18:06:00</td>\n",
       "      <td>completed</td>\n",
       "      <td>2020-10</td>\n",
       "      <td>2020-10-06</td>\n",
       "    </tr>\n",
       "    <tr>\n",
       "      <th>58640</th>\n",
       "      <td>8734</td>\n",
       "      <td>Alarm</td>\n",
       "      <td>2020-10-06 18:07:00</td>\n",
       "      <td>completed</td>\n",
       "      <td>2020-10</td>\n",
       "      <td>2020-10-06</td>\n",
       "    </tr>\n",
       "    <tr>\n",
       "      <th>58641</th>\n",
       "      <td>5347</td>\n",
       "      <td>Alarm</td>\n",
       "      <td>2020-10-06 18:12:00</td>\n",
       "      <td>active</td>\n",
       "      <td>2020-10</td>\n",
       "      <td>2020-10-06</td>\n",
       "    </tr>\n",
       "  </tbody>\n",
       "</table>\n",
       "<p>58642 rows × 6 columns</p>\n",
       "</div>"
      ],
      "text/plain": [
       "      ExternalID                             ServiceName           StartTime  \\\n",
       "0           5283                         Pull Cord Alarm 2018-10-29 00:15:00   \n",
       "1           5977                                   Alarm 2018-10-29 00:44:00   \n",
       "2           5977                                   Alarm 2018-10-29 00:44:00   \n",
       "3           8639                                   Alarm 2018-10-29 00:55:00   \n",
       "4           8639  ALARM - Physical Response NOT Required 2018-10-29 00:55:00   \n",
       "...          ...                                     ...                 ...   \n",
       "58637       8734                                   Alarm 2020-10-06 18:04:00   \n",
       "58638       5283                                   Alarm 2020-10-06 18:06:00   \n",
       "58639       8734                                   Alarm 2020-10-06 18:06:00   \n",
       "58640       8734                                   Alarm 2020-10-06 18:07:00   \n",
       "58641       5347                                   Alarm 2020-10-06 18:12:00   \n",
       "\n",
       "          Status MonthYear DayMonthYear  \n",
       "0      completed   2018-10   2018-10-29  \n",
       "1      completed   2018-10   2018-10-29  \n",
       "2      completed   2018-10   2018-10-29  \n",
       "3      completed   2018-10   2018-10-29  \n",
       "4      completed   2018-10   2018-10-29  \n",
       "...          ...       ...          ...  \n",
       "58637     active   2020-10   2020-10-06  \n",
       "58638     active   2020-10   2020-10-06  \n",
       "58639  completed   2020-10   2020-10-06  \n",
       "58640  completed   2020-10   2020-10-06  \n",
       "58641     active   2020-10   2020-10-06  \n",
       "\n",
       "[58642 rows x 6 columns]"
      ]
     },
     "execution_count": 55,
     "metadata": {},
     "output_type": "execute_result"
    }
   ],
   "source": [
    "AlarmData_cl['MonthYear'] = AlarmData_cl['StartTime'].dt.to_period('M')\n",
    "AlarmData_cl['DayMonthYear'] = AlarmData_cl['StartTime'].dt.to_period('D')\n",
    "AlarmData_cl"
   ]
  },
  {
   "cell_type": "code",
   "execution_count": 56,
   "metadata": {},
   "outputs": [],
   "source": [
    "# AlarmData_cl['StartTime'].value_counts()"
   ]
  },
  {
   "cell_type": "markdown",
   "metadata": {},
   "source": [
    "Change the ID column of the Customer Data (Clean) table to External ID and merge it with the Alarm Data (Clean) table afterwards."
   ]
  },
  {
   "cell_type": "code",
   "execution_count": 57,
   "metadata": {},
   "outputs": [
    {
     "data": {
      "text/html": [
       "<div>\n",
       "<style scoped>\n",
       "    .dataframe tbody tr th:only-of-type {\n",
       "        vertical-align: middle;\n",
       "    }\n",
       "\n",
       "    .dataframe tbody tr th {\n",
       "        vertical-align: top;\n",
       "    }\n",
       "\n",
       "    .dataframe thead th {\n",
       "        text-align: right;\n",
       "    }\n",
       "</style>\n",
       "<table border=\"1\" class=\"dataframe\">\n",
       "  <thead>\n",
       "    <tr style=\"text-align: right;\">\n",
       "      <th></th>\n",
       "      <th>ExternalID</th>\n",
       "      <th>Gender</th>\n",
       "      <th>DateOfBirth</th>\n",
       "      <th>Age</th>\n",
       "      <th>DisablingConditions</th>\n",
       "    </tr>\n",
       "  </thead>\n",
       "  <tbody>\n",
       "    <tr>\n",
       "      <th>0</th>\n",
       "      <td>4711</td>\n",
       "      <td>F</td>\n",
       "      <td>1955-06-25</td>\n",
       "      <td>65</td>\n",
       "      <td>Cerebral Palsy</td>\n",
       "    </tr>\n",
       "    <tr>\n",
       "      <th>1</th>\n",
       "      <td>4732</td>\n",
       "      <td>F</td>\n",
       "      <td>1958-02-27</td>\n",
       "      <td>62</td>\n",
       "      <td>None</td>\n",
       "    </tr>\n",
       "    <tr>\n",
       "      <th>2</th>\n",
       "      <td>4743</td>\n",
       "      <td>F</td>\n",
       "      <td>1966-03-02</td>\n",
       "      <td>54</td>\n",
       "      <td>Learning Difficulties</td>\n",
       "    </tr>\n",
       "    <tr>\n",
       "      <th>3</th>\n",
       "      <td>4745</td>\n",
       "      <td>F</td>\n",
       "      <td>1950-07-12</td>\n",
       "      <td>70</td>\n",
       "      <td>None</td>\n",
       "    </tr>\n",
       "    <tr>\n",
       "      <th>4</th>\n",
       "      <td>4763</td>\n",
       "      <td>M</td>\n",
       "      <td>1956-04-16</td>\n",
       "      <td>64</td>\n",
       "      <td>Cerebral Palsy</td>\n",
       "    </tr>\n",
       "  </tbody>\n",
       "</table>\n",
       "</div>"
      ],
      "text/plain": [
       "  ExternalID Gender DateOfBirth  Age    DisablingConditions\n",
       "0       4711      F  1955-06-25   65         Cerebral Palsy\n",
       "1       4732      F  1958-02-27   62                   None\n",
       "2       4743      F  1966-03-02   54  Learning Difficulties\n",
       "3       4745      F  1950-07-12   70                   None\n",
       "4       4763      M  1956-04-16   64         Cerebral Palsy"
      ]
     },
     "execution_count": 57,
     "metadata": {},
     "output_type": "execute_result"
    }
   ],
   "source": [
    "CustomerData_cl = CustomerData_cl.rename(columns={'ID': 'ExternalID'})\n",
    "CustomerData_cl.head()"
   ]
  },
  {
   "cell_type": "code",
   "execution_count": 58,
   "metadata": {},
   "outputs": [
    {
     "data": {
      "text/html": [
       "<div>\n",
       "<style scoped>\n",
       "    .dataframe tbody tr th:only-of-type {\n",
       "        vertical-align: middle;\n",
       "    }\n",
       "\n",
       "    .dataframe tbody tr th {\n",
       "        vertical-align: top;\n",
       "    }\n",
       "\n",
       "    .dataframe thead th {\n",
       "        text-align: right;\n",
       "    }\n",
       "</style>\n",
       "<table border=\"1\" class=\"dataframe\">\n",
       "  <thead>\n",
       "    <tr style=\"text-align: right;\">\n",
       "      <th></th>\n",
       "      <th>ExternalID</th>\n",
       "      <th>ServiceName</th>\n",
       "      <th>StartTime</th>\n",
       "      <th>Status</th>\n",
       "      <th>MonthYear</th>\n",
       "      <th>DayMonthYear</th>\n",
       "      <th>Gender</th>\n",
       "      <th>DateOfBirth</th>\n",
       "      <th>Age</th>\n",
       "      <th>DisablingConditions</th>\n",
       "    </tr>\n",
       "  </thead>\n",
       "  <tbody>\n",
       "    <tr>\n",
       "      <th>0</th>\n",
       "      <td>5283</td>\n",
       "      <td>Pull Cord Alarm</td>\n",
       "      <td>2018-10-29 00:15:00</td>\n",
       "      <td>completed</td>\n",
       "      <td>2018-10</td>\n",
       "      <td>2018-10-29</td>\n",
       "      <td>F</td>\n",
       "      <td>1950-10-30</td>\n",
       "      <td>70</td>\n",
       "      <td>Epilepsy</td>\n",
       "    </tr>\n",
       "    <tr>\n",
       "      <th>1</th>\n",
       "      <td>5283</td>\n",
       "      <td>Pull Cord Alarm</td>\n",
       "      <td>2018-10-29 03:05:00</td>\n",
       "      <td>completed</td>\n",
       "      <td>2018-10</td>\n",
       "      <td>2018-10-29</td>\n",
       "      <td>F</td>\n",
       "      <td>1950-10-30</td>\n",
       "      <td>70</td>\n",
       "      <td>Epilepsy</td>\n",
       "    </tr>\n",
       "    <tr>\n",
       "      <th>2</th>\n",
       "      <td>5283</td>\n",
       "      <td>Pull Cord Alarm</td>\n",
       "      <td>2018-10-29 03:25:00</td>\n",
       "      <td>completed</td>\n",
       "      <td>2018-10</td>\n",
       "      <td>2018-10-29</td>\n",
       "      <td>F</td>\n",
       "      <td>1950-10-30</td>\n",
       "      <td>70</td>\n",
       "      <td>Epilepsy</td>\n",
       "    </tr>\n",
       "    <tr>\n",
       "      <th>3</th>\n",
       "      <td>5283</td>\n",
       "      <td>Pull Cord Alarm</td>\n",
       "      <td>2018-10-29 03:41:00</td>\n",
       "      <td>completed</td>\n",
       "      <td>2018-10</td>\n",
       "      <td>2018-10-29</td>\n",
       "      <td>F</td>\n",
       "      <td>1950-10-30</td>\n",
       "      <td>70</td>\n",
       "      <td>Epilepsy</td>\n",
       "    </tr>\n",
       "    <tr>\n",
       "      <th>4</th>\n",
       "      <td>5283</td>\n",
       "      <td>Pull Cord Alarm</td>\n",
       "      <td>2018-10-29 03:59:00</td>\n",
       "      <td>completed</td>\n",
       "      <td>2018-10</td>\n",
       "      <td>2018-10-29</td>\n",
       "      <td>F</td>\n",
       "      <td>1950-10-30</td>\n",
       "      <td>70</td>\n",
       "      <td>Epilepsy</td>\n",
       "    </tr>\n",
       "    <tr>\n",
       "      <th>...</th>\n",
       "      <td>...</td>\n",
       "      <td>...</td>\n",
       "      <td>...</td>\n",
       "      <td>...</td>\n",
       "      <td>...</td>\n",
       "      <td>...</td>\n",
       "      <td>...</td>\n",
       "      <td>...</td>\n",
       "      <td>...</td>\n",
       "      <td>...</td>\n",
       "    </tr>\n",
       "    <tr>\n",
       "      <th>53923</th>\n",
       "      <td>8866</td>\n",
       "      <td>ALARM - Physical Response NOT Required</td>\n",
       "      <td>2020-10-01 22:09:00</td>\n",
       "      <td>completed</td>\n",
       "      <td>2020-10</td>\n",
       "      <td>2020-10-01</td>\n",
       "      <td>M</td>\n",
       "      <td>1966-02-27</td>\n",
       "      <td>54</td>\n",
       "      <td>Diabetes</td>\n",
       "    </tr>\n",
       "    <tr>\n",
       "      <th>53924</th>\n",
       "      <td>8866</td>\n",
       "      <td>ALARM - Physical Response NOT Required</td>\n",
       "      <td>2020-10-03 23:22:00</td>\n",
       "      <td>completed</td>\n",
       "      <td>2020-10</td>\n",
       "      <td>2020-10-03</td>\n",
       "      <td>M</td>\n",
       "      <td>1966-02-27</td>\n",
       "      <td>54</td>\n",
       "      <td>Diabetes</td>\n",
       "    </tr>\n",
       "    <tr>\n",
       "      <th>53925</th>\n",
       "      <td>8866</td>\n",
       "      <td>Alarm</td>\n",
       "      <td>2020-10-03 23:22:00</td>\n",
       "      <td>completed</td>\n",
       "      <td>2020-10</td>\n",
       "      <td>2020-10-03</td>\n",
       "      <td>M</td>\n",
       "      <td>1966-02-27</td>\n",
       "      <td>54</td>\n",
       "      <td>Diabetes</td>\n",
       "    </tr>\n",
       "    <tr>\n",
       "      <th>53926</th>\n",
       "      <td>8949</td>\n",
       "      <td>Alarm Testing</td>\n",
       "      <td>2020-10-05 15:20:00</td>\n",
       "      <td>completed</td>\n",
       "      <td>2020-10</td>\n",
       "      <td>2020-10-05</td>\n",
       "      <td>M</td>\n",
       "      <td>1972-01-19</td>\n",
       "      <td>48</td>\n",
       "      <td>Cancer</td>\n",
       "    </tr>\n",
       "    <tr>\n",
       "      <th>53927</th>\n",
       "      <td>8949</td>\n",
       "      <td>Alarm</td>\n",
       "      <td>2020-10-05 15:20:00</td>\n",
       "      <td>completed</td>\n",
       "      <td>2020-10</td>\n",
       "      <td>2020-10-05</td>\n",
       "      <td>M</td>\n",
       "      <td>1972-01-19</td>\n",
       "      <td>48</td>\n",
       "      <td>Cancer</td>\n",
       "    </tr>\n",
       "  </tbody>\n",
       "</table>\n",
       "<p>53928 rows × 10 columns</p>\n",
       "</div>"
      ],
      "text/plain": [
       "      ExternalID                             ServiceName           StartTime  \\\n",
       "0           5283                         Pull Cord Alarm 2018-10-29 00:15:00   \n",
       "1           5283                         Pull Cord Alarm 2018-10-29 03:05:00   \n",
       "2           5283                         Pull Cord Alarm 2018-10-29 03:25:00   \n",
       "3           5283                         Pull Cord Alarm 2018-10-29 03:41:00   \n",
       "4           5283                         Pull Cord Alarm 2018-10-29 03:59:00   \n",
       "...          ...                                     ...                 ...   \n",
       "53923       8866  ALARM - Physical Response NOT Required 2020-10-01 22:09:00   \n",
       "53924       8866  ALARM - Physical Response NOT Required 2020-10-03 23:22:00   \n",
       "53925       8866                                   Alarm 2020-10-03 23:22:00   \n",
       "53926       8949                           Alarm Testing 2020-10-05 15:20:00   \n",
       "53927       8949                                   Alarm 2020-10-05 15:20:00   \n",
       "\n",
       "          Status MonthYear DayMonthYear Gender DateOfBirth  Age  \\\n",
       "0      completed   2018-10   2018-10-29      F  1950-10-30   70   \n",
       "1      completed   2018-10   2018-10-29      F  1950-10-30   70   \n",
       "2      completed   2018-10   2018-10-29      F  1950-10-30   70   \n",
       "3      completed   2018-10   2018-10-29      F  1950-10-30   70   \n",
       "4      completed   2018-10   2018-10-29      F  1950-10-30   70   \n",
       "...          ...       ...          ...    ...         ...  ...   \n",
       "53923  completed   2020-10   2020-10-01      M  1966-02-27   54   \n",
       "53924  completed   2020-10   2020-10-03      M  1966-02-27   54   \n",
       "53925  completed   2020-10   2020-10-03      M  1966-02-27   54   \n",
       "53926  completed   2020-10   2020-10-05      M  1972-01-19   48   \n",
       "53927  completed   2020-10   2020-10-05      M  1972-01-19   48   \n",
       "\n",
       "      DisablingConditions  \n",
       "0                Epilepsy  \n",
       "1                Epilepsy  \n",
       "2                Epilepsy  \n",
       "3                Epilepsy  \n",
       "4                Epilepsy  \n",
       "...                   ...  \n",
       "53923            Diabetes  \n",
       "53924            Diabetes  \n",
       "53925            Diabetes  \n",
       "53926              Cancer  \n",
       "53927              Cancer  \n",
       "\n",
       "[53928 rows x 10 columns]"
      ]
     },
     "execution_count": 58,
     "metadata": {},
     "output_type": "execute_result"
    }
   ],
   "source": [
    "ACData = pd.merge(AlarmData_cl, CustomerData_cl, how='inner', on=['ExternalID'])\n",
    "ACData"
   ]
  },
  {
   "cell_type": "markdown",
   "metadata": {},
   "source": [
    "View the Age column."
   ]
  },
  {
   "cell_type": "code",
   "execution_count": 59,
   "metadata": {},
   "outputs": [
    {
     "data": {
      "text/plain": [
       "count    53928.000000\n",
       "mean        52.886219\n",
       "std         11.261149\n",
       "min         19.000000\n",
       "25%         43.000000\n",
       "50%         51.000000\n",
       "75%         61.000000\n",
       "max         96.000000\n",
       "Name: Age, dtype: float64"
      ]
     },
     "execution_count": 59,
     "metadata": {},
     "output_type": "execute_result"
    }
   ],
   "source": [
    "ACData['Age'].describe()"
   ]
  },
  {
   "cell_type": "markdown",
   "metadata": {},
   "source": [
    "Divide Age into groups for subsequent analysis."
   ]
  },
  {
   "cell_type": "code",
   "execution_count": 60,
   "metadata": {},
   "outputs": [
    {
     "data": {
      "text/html": [
       "<div>\n",
       "<style scoped>\n",
       "    .dataframe tbody tr th:only-of-type {\n",
       "        vertical-align: middle;\n",
       "    }\n",
       "\n",
       "    .dataframe tbody tr th {\n",
       "        vertical-align: top;\n",
       "    }\n",
       "\n",
       "    .dataframe thead th {\n",
       "        text-align: right;\n",
       "    }\n",
       "</style>\n",
       "<table border=\"1\" class=\"dataframe\">\n",
       "  <thead>\n",
       "    <tr style=\"text-align: right;\">\n",
       "      <th></th>\n",
       "      <th>ExternalID</th>\n",
       "      <th>ServiceName</th>\n",
       "      <th>StartTime</th>\n",
       "      <th>Status</th>\n",
       "      <th>MonthYear</th>\n",
       "      <th>DayMonthYear</th>\n",
       "      <th>Gender</th>\n",
       "      <th>DateOfBirth</th>\n",
       "      <th>Age</th>\n",
       "      <th>DisablingConditions</th>\n",
       "      <th>AgeGroup</th>\n",
       "    </tr>\n",
       "  </thead>\n",
       "  <tbody>\n",
       "    <tr>\n",
       "      <th>0</th>\n",
       "      <td>5283</td>\n",
       "      <td>Pull Cord Alarm</td>\n",
       "      <td>2018-10-29 00:15:00</td>\n",
       "      <td>completed</td>\n",
       "      <td>2018-10</td>\n",
       "      <td>2018-10-29</td>\n",
       "      <td>F</td>\n",
       "      <td>1950-10-30</td>\n",
       "      <td>70</td>\n",
       "      <td>Epilepsy</td>\n",
       "      <td>70~79</td>\n",
       "    </tr>\n",
       "    <tr>\n",
       "      <th>1</th>\n",
       "      <td>5283</td>\n",
       "      <td>Pull Cord Alarm</td>\n",
       "      <td>2018-10-29 03:05:00</td>\n",
       "      <td>completed</td>\n",
       "      <td>2018-10</td>\n",
       "      <td>2018-10-29</td>\n",
       "      <td>F</td>\n",
       "      <td>1950-10-30</td>\n",
       "      <td>70</td>\n",
       "      <td>Epilepsy</td>\n",
       "      <td>70~79</td>\n",
       "    </tr>\n",
       "    <tr>\n",
       "      <th>2</th>\n",
       "      <td>5283</td>\n",
       "      <td>Pull Cord Alarm</td>\n",
       "      <td>2018-10-29 03:25:00</td>\n",
       "      <td>completed</td>\n",
       "      <td>2018-10</td>\n",
       "      <td>2018-10-29</td>\n",
       "      <td>F</td>\n",
       "      <td>1950-10-30</td>\n",
       "      <td>70</td>\n",
       "      <td>Epilepsy</td>\n",
       "      <td>70~79</td>\n",
       "    </tr>\n",
       "    <tr>\n",
       "      <th>3</th>\n",
       "      <td>5283</td>\n",
       "      <td>Pull Cord Alarm</td>\n",
       "      <td>2018-10-29 03:41:00</td>\n",
       "      <td>completed</td>\n",
       "      <td>2018-10</td>\n",
       "      <td>2018-10-29</td>\n",
       "      <td>F</td>\n",
       "      <td>1950-10-30</td>\n",
       "      <td>70</td>\n",
       "      <td>Epilepsy</td>\n",
       "      <td>70~79</td>\n",
       "    </tr>\n",
       "    <tr>\n",
       "      <th>4</th>\n",
       "      <td>5283</td>\n",
       "      <td>Pull Cord Alarm</td>\n",
       "      <td>2018-10-29 03:59:00</td>\n",
       "      <td>completed</td>\n",
       "      <td>2018-10</td>\n",
       "      <td>2018-10-29</td>\n",
       "      <td>F</td>\n",
       "      <td>1950-10-30</td>\n",
       "      <td>70</td>\n",
       "      <td>Epilepsy</td>\n",
       "      <td>70~79</td>\n",
       "    </tr>\n",
       "    <tr>\n",
       "      <th>...</th>\n",
       "      <td>...</td>\n",
       "      <td>...</td>\n",
       "      <td>...</td>\n",
       "      <td>...</td>\n",
       "      <td>...</td>\n",
       "      <td>...</td>\n",
       "      <td>...</td>\n",
       "      <td>...</td>\n",
       "      <td>...</td>\n",
       "      <td>...</td>\n",
       "      <td>...</td>\n",
       "    </tr>\n",
       "    <tr>\n",
       "      <th>53923</th>\n",
       "      <td>8866</td>\n",
       "      <td>ALARM - Physical Response NOT Required</td>\n",
       "      <td>2020-10-01 22:09:00</td>\n",
       "      <td>completed</td>\n",
       "      <td>2020-10</td>\n",
       "      <td>2020-10-01</td>\n",
       "      <td>M</td>\n",
       "      <td>1966-02-27</td>\n",
       "      <td>54</td>\n",
       "      <td>Diabetes</td>\n",
       "      <td>50~59</td>\n",
       "    </tr>\n",
       "    <tr>\n",
       "      <th>53924</th>\n",
       "      <td>8866</td>\n",
       "      <td>ALARM - Physical Response NOT Required</td>\n",
       "      <td>2020-10-03 23:22:00</td>\n",
       "      <td>completed</td>\n",
       "      <td>2020-10</td>\n",
       "      <td>2020-10-03</td>\n",
       "      <td>M</td>\n",
       "      <td>1966-02-27</td>\n",
       "      <td>54</td>\n",
       "      <td>Diabetes</td>\n",
       "      <td>50~59</td>\n",
       "    </tr>\n",
       "    <tr>\n",
       "      <th>53925</th>\n",
       "      <td>8866</td>\n",
       "      <td>Alarm</td>\n",
       "      <td>2020-10-03 23:22:00</td>\n",
       "      <td>completed</td>\n",
       "      <td>2020-10</td>\n",
       "      <td>2020-10-03</td>\n",
       "      <td>M</td>\n",
       "      <td>1966-02-27</td>\n",
       "      <td>54</td>\n",
       "      <td>Diabetes</td>\n",
       "      <td>50~59</td>\n",
       "    </tr>\n",
       "    <tr>\n",
       "      <th>53926</th>\n",
       "      <td>8949</td>\n",
       "      <td>Alarm Testing</td>\n",
       "      <td>2020-10-05 15:20:00</td>\n",
       "      <td>completed</td>\n",
       "      <td>2020-10</td>\n",
       "      <td>2020-10-05</td>\n",
       "      <td>M</td>\n",
       "      <td>1972-01-19</td>\n",
       "      <td>48</td>\n",
       "      <td>Cancer</td>\n",
       "      <td>40~49</td>\n",
       "    </tr>\n",
       "    <tr>\n",
       "      <th>53927</th>\n",
       "      <td>8949</td>\n",
       "      <td>Alarm</td>\n",
       "      <td>2020-10-05 15:20:00</td>\n",
       "      <td>completed</td>\n",
       "      <td>2020-10</td>\n",
       "      <td>2020-10-05</td>\n",
       "      <td>M</td>\n",
       "      <td>1972-01-19</td>\n",
       "      <td>48</td>\n",
       "      <td>Cancer</td>\n",
       "      <td>40~49</td>\n",
       "    </tr>\n",
       "  </tbody>\n",
       "</table>\n",
       "<p>53928 rows × 11 columns</p>\n",
       "</div>"
      ],
      "text/plain": [
       "      ExternalID                             ServiceName           StartTime  \\\n",
       "0           5283                         Pull Cord Alarm 2018-10-29 00:15:00   \n",
       "1           5283                         Pull Cord Alarm 2018-10-29 03:05:00   \n",
       "2           5283                         Pull Cord Alarm 2018-10-29 03:25:00   \n",
       "3           5283                         Pull Cord Alarm 2018-10-29 03:41:00   \n",
       "4           5283                         Pull Cord Alarm 2018-10-29 03:59:00   \n",
       "...          ...                                     ...                 ...   \n",
       "53923       8866  ALARM - Physical Response NOT Required 2020-10-01 22:09:00   \n",
       "53924       8866  ALARM - Physical Response NOT Required 2020-10-03 23:22:00   \n",
       "53925       8866                                   Alarm 2020-10-03 23:22:00   \n",
       "53926       8949                           Alarm Testing 2020-10-05 15:20:00   \n",
       "53927       8949                                   Alarm 2020-10-05 15:20:00   \n",
       "\n",
       "          Status MonthYear DayMonthYear Gender DateOfBirth  Age  \\\n",
       "0      completed   2018-10   2018-10-29      F  1950-10-30   70   \n",
       "1      completed   2018-10   2018-10-29      F  1950-10-30   70   \n",
       "2      completed   2018-10   2018-10-29      F  1950-10-30   70   \n",
       "3      completed   2018-10   2018-10-29      F  1950-10-30   70   \n",
       "4      completed   2018-10   2018-10-29      F  1950-10-30   70   \n",
       "...          ...       ...          ...    ...         ...  ...   \n",
       "53923  completed   2020-10   2020-10-01      M  1966-02-27   54   \n",
       "53924  completed   2020-10   2020-10-03      M  1966-02-27   54   \n",
       "53925  completed   2020-10   2020-10-03      M  1966-02-27   54   \n",
       "53926  completed   2020-10   2020-10-05      M  1972-01-19   48   \n",
       "53927  completed   2020-10   2020-10-05      M  1972-01-19   48   \n",
       "\n",
       "      DisablingConditions AgeGroup  \n",
       "0                Epilepsy    70~79  \n",
       "1                Epilepsy    70~79  \n",
       "2                Epilepsy    70~79  \n",
       "3                Epilepsy    70~79  \n",
       "4                Epilepsy    70~79  \n",
       "...                   ...      ...  \n",
       "53923            Diabetes    50~59  \n",
       "53924            Diabetes    50~59  \n",
       "53925            Diabetes    50~59  \n",
       "53926              Cancer    40~49  \n",
       "53927              Cancer    40~49  \n",
       "\n",
       "[53928 rows x 11 columns]"
      ]
     },
     "execution_count": 60,
     "metadata": {},
     "output_type": "execute_result"
    }
   ],
   "source": [
    "bins= [0, 30, 40, 50, 60, 70, 80, 90, 100]\n",
    "labels = ['<30', '30~39', '40~49', '50~59', '60~69', '70~79', '80~89', '>90']\n",
    "ACData['AgeGroup'] = pd.cut(ACData['Age'], bins=bins, labels=labels, right=False)\n",
    "ACData"
   ]
  },
  {
   "cell_type": "code",
   "execution_count": 61,
   "metadata": {},
   "outputs": [],
   "source": [
    "#ACData.info()"
   ]
  },
  {
   "cell_type": "code",
   "execution_count": 62,
   "metadata": {},
   "outputs": [],
   "source": [
    "#ACData['ExternalID'].value_counts()"
   ]
  },
  {
   "cell_type": "markdown",
   "metadata": {},
   "source": [
    "Check to see if there are any null values in the up-to-date data table. The result is ‘No’."
   ]
  },
  {
   "cell_type": "code",
   "execution_count": 63,
   "metadata": {},
   "outputs": [
    {
     "data": {
      "text/plain": [
       "<matplotlib.axes._subplots.AxesSubplot at 0x7faa5921dfa0>"
      ]
     },
     "execution_count": 63,
     "metadata": {},
     "output_type": "execute_result"
    },
    {
     "data": {
      "image/png": "[encoded data removed]",
      "text/plain": [
       "<Figure size 432x288 with 1 Axes>"
      ]
     },
     "metadata": {
      "needs_background": "light"
     },
     "output_type": "display_data"
    }
   ],
   "source": [
    "sns.heatmap(ACData.isnull(), yticklabels=False, cbar=False)"
   ]
  },
  {
   "cell_type": "markdown",
   "metadata": {},
   "source": [
    "Plot the alarm count Box Plot based on age. We can see that there are two extreme outliers in the female customers."
   ]
  },
  {
   "cell_type": "code",
   "execution_count": 64,
   "metadata": {},
   "outputs": [
    {
     "data": {
      "image/png": "[encoded data removed]",
      "text/plain": [
       "<Figure size 576x432 with 1 Axes>"
      ]
     },
     "metadata": {
      "needs_background": "light"
     },
     "output_type": "display_data"
    }
   ],
   "source": [
    "ID_AlarmCounts = ACData.groupby(['ExternalID', 'Gender']).size().reset_index(name='AlarmCounts')\n",
    "\n",
    "plt.figure(figsize=(8,6))\n",
    "IDA_box = sns.boxplot(x='Gender', y='AlarmCounts', data=ID_AlarmCounts)\n",
    "IDA_box.set_title('Gender - Alarm Counts Box Plot')\n",
    "plt.show()\n",
    "\n",
    "#px.box(ID_AlarmCounts, x='Gender', y='AlarmCounts', color='Gender', title='Box Plot of Different Gender Alarm Counts')\n"
   ]
  },
  {
   "cell_type": "markdown",
   "metadata": {},
   "source": [
    "We show the ten with the highest alarm counts and can see that the two IDs with the highest alarm counts are 8734 and 8739."
   ]
  },
  {
   "cell_type": "code",
   "execution_count": 65,
   "metadata": {},
   "outputs": [
    {
     "data": {
      "text/html": [
       "<div>\n",
       "<style scoped>\n",
       "    .dataframe tbody tr th:only-of-type {\n",
       "        vertical-align: middle;\n",
       "    }\n",
       "\n",
       "    .dataframe tbody tr th {\n",
       "        vertical-align: top;\n",
       "    }\n",
       "\n",
       "    .dataframe thead th {\n",
       "        text-align: right;\n",
       "    }\n",
       "</style>\n",
       "<table border=\"1\" class=\"dataframe\">\n",
       "  <thead>\n",
       "    <tr style=\"text-align: right;\">\n",
       "      <th></th>\n",
       "      <th>ExternalID</th>\n",
       "      <th>Gender</th>\n",
       "      <th>AlarmCounts</th>\n",
       "    </tr>\n",
       "  </thead>\n",
       "  <tbody>\n",
       "    <tr>\n",
       "      <th>0</th>\n",
       "      <td>8734</td>\n",
       "      <td>F</td>\n",
       "      <td>15670</td>\n",
       "    </tr>\n",
       "    <tr>\n",
       "      <th>1</th>\n",
       "      <td>8739</td>\n",
       "      <td>F</td>\n",
       "      <td>9444</td>\n",
       "    </tr>\n",
       "    <tr>\n",
       "      <th>2</th>\n",
       "      <td>8731</td>\n",
       "      <td>M</td>\n",
       "      <td>2310</td>\n",
       "    </tr>\n",
       "    <tr>\n",
       "      <th>3</th>\n",
       "      <td>8729</td>\n",
       "      <td>M</td>\n",
       "      <td>1817</td>\n",
       "    </tr>\n",
       "    <tr>\n",
       "      <th>4</th>\n",
       "      <td>5283</td>\n",
       "      <td>F</td>\n",
       "      <td>1793</td>\n",
       "    </tr>\n",
       "    <tr>\n",
       "      <th>5</th>\n",
       "      <td>5347</td>\n",
       "      <td>M</td>\n",
       "      <td>1356</td>\n",
       "    </tr>\n",
       "    <tr>\n",
       "      <th>6</th>\n",
       "      <td>5319</td>\n",
       "      <td>F</td>\n",
       "      <td>1350</td>\n",
       "    </tr>\n",
       "    <tr>\n",
       "      <th>7</th>\n",
       "      <td>8736</td>\n",
       "      <td>F</td>\n",
       "      <td>1263</td>\n",
       "    </tr>\n",
       "    <tr>\n",
       "      <th>8</th>\n",
       "      <td>8639</td>\n",
       "      <td>M</td>\n",
       "      <td>1233</td>\n",
       "    </tr>\n",
       "    <tr>\n",
       "      <th>9</th>\n",
       "      <td>8643</td>\n",
       "      <td>F</td>\n",
       "      <td>1045</td>\n",
       "    </tr>\n",
       "  </tbody>\n",
       "</table>\n",
       "</div>"
      ],
      "text/plain": [
       "  ExternalID Gender  AlarmCounts\n",
       "0       8734      F        15670\n",
       "1       8739      F         9444\n",
       "2       8731      M         2310\n",
       "3       8729      M         1817\n",
       "4       5283      F         1793\n",
       "5       5347      M         1356\n",
       "6       5319      F         1350\n",
       "7       8736      F         1263\n",
       "8       8639      M         1233\n",
       "9       8643      F         1045"
      ]
     },
     "execution_count": 65,
     "metadata": {},
     "output_type": "execute_result"
    }
   ],
   "source": [
    "ID_AlarmCounts = ID_AlarmCounts.sort_values(by='AlarmCounts', ascending=False).reset_index(drop=True)\n",
    "ID_AlarmCounts.head(10)"
   ]
  },
  {
   "cell_type": "markdown",
   "metadata": {},
   "source": [
    "After temporarily removing the data for both IDs 8734 and 8739, and drawing the box plot again, we can see that the number and distribution of outliers for both males and females become more similar."
   ]
  },
  {
   "cell_type": "code",
   "execution_count": 66,
   "metadata": {},
   "outputs": [
    {
     "data": {
      "image/png": "[encoded data removed]",
      "text/plain": [
       "<Figure size 576x432 with 1 Axes>"
      ]
     },
     "metadata": {
      "needs_background": "light"
     },
     "output_type": "display_data"
    }
   ],
   "source": [
    "ID_AlarmCounts_new = ID_AlarmCounts.loc[~ID_AlarmCounts['ExternalID'].isin(['8734', '8739'])]\n",
    "\n",
    "plt.figure(figsize=(8,6))\n",
    "IDA_box_new = sns.boxplot(x='Gender', y='AlarmCounts', data=ID_AlarmCounts_new)\n",
    "IDA_box_new.set_title('Gender - Alarm Counts Box Plot - After Cleaning')\n",
    "plt.show()"
   ]
  },
  {
   "cell_type": "markdown",
   "metadata": {},
   "source": [
    "Since the alarm data for both ID 8734 and 8739 were too outlier and could have significantly affected the statistics, I decided to remove them."
   ]
  },
  {
   "cell_type": "code",
   "execution_count": 67,
   "metadata": {},
   "outputs": [],
   "source": [
    "ACData_cl = ACData.loc[~ACData['ExternalID'].isin(['8734', '8739'])]\n",
    "ACData_cl.to_csv('ACData_cl.csv',index=False,sep=',')"
   ]
  },
  {
   "cell_type": "markdown",
   "metadata": {},
   "source": [
    "Next, I briefly counted and analysed the alarm data related to gender and age and combined them with the time distribution to get some insights."
   ]
  },
  {
   "cell_type": "code",
   "execution_count": 68,
   "metadata": {},
   "outputs": [
    {
     "name": "stdout",
     "output_type": "stream",
     "text": [
      "Number of alarms from fmales is: 12469\n",
      "Number of alarms from males is: 16345\n",
      "Number of alarms from unknown gender is: 0\n"
     ]
    }
   ],
   "source": [
    "male_num = 0\n",
    "female_num = 0\n",
    "unknown_num = 0\n",
    "\n",
    "for s in ACData_cl['Gender']:\n",
    "    if s == 'F':\n",
    "        female_num += 1\n",
    "    elif s == 'M':\n",
    "        male_num += 1\n",
    "    elif s == 'U':\n",
    "        female_num += 1      \n",
    "    else:\n",
    "        print('check the data')\n",
    "        \n",
    "print('Number of alarms from fmales is:', female_num)\n",
    "print('Number of alarms from males is:', male_num)\n",
    "print('Number of alarms from unknown gender is:', unknown_num)"
   ]
  },
  {
   "cell_type": "code",
   "execution_count": 69,
   "metadata": {},
   "outputs": [
    {
     "data": {
      "image/png": "[encoded data removed]",
      "text/plain": [
       "<Figure size 864x432 with 2 Axes>"
      ]
     },
     "metadata": {
      "needs_background": "light"
     },
     "output_type": "display_data"
    }
   ],
   "source": [
    "f, axes = plt.subplots(1, 2, figsize=(12, 6))\n",
    "\n",
    "IDGender = ACData_cl[['ExternalID', 'Gender']]\n",
    "IDGender_cl = IDGender.drop_duplicates(subset='ExternalID', keep='last')\n",
    "\n",
    "GA = sns.countplot(x='Gender', data=ACData_cl, palette='Reds', ax=axes[0])\n",
    "G = sns.countplot(x='Gender', data=IDGender_cl, palette='magma_r', ax=axes[1])\n",
    "GA.set_title('Gender - Alarm Counts Bar Chart')\n",
    "G.set_title('Gender Distribution of Customers')\n",
    "plt.show()"
   ]
  },
  {
   "cell_type": "markdown",
   "metadata": {},
   "source": [
    "**Insights:** From the above comparison of the two bar charts, it is clear that the gender distribution of the number of alarms is almost identical to the gender distribution of customers, with males being higher than females. And from the graphical proportions of the two bar charts, the overall demand for alarm service is slightly higher for males than females."
   ]
  },
  {
   "cell_type": "code",
   "execution_count": 70,
   "metadata": {},
   "outputs": [
    {
     "data": {
      "image/png": "[encoded data removed]",
      "text/plain": [
       "<Figure size 864x432 with 2 Axes>"
      ]
     },
     "metadata": {
      "needs_background": "light"
     },
     "output_type": "display_data"
    }
   ],
   "source": [
    "f, axes = plt.subplots(1, 2, figsize=(12, 6))\n",
    "\n",
    "IDAge = ACData_cl[['ExternalID', 'AgeGroup']]\n",
    "IDAge_cl = IDAge.drop_duplicates(subset='ExternalID', keep='last')\n",
    "\n",
    "AA = sns.countplot(x='AgeGroup', data=ACData_cl, palette='Paired', ax=axes[0])\n",
    "A = sns.countplot(x='AgeGroup', data=IDAge_cl, palette='mako_r', ax=axes[1])\n",
    "AA.set_title('Age Group - Alarm Counts Bar Chart')\n",
    "A.set_title('Age Distribution of Customers')\n",
    "plt.show()"
   ]
  },
  {
   "cell_type": "markdown",
   "metadata": {},
   "source": [
    "**Insights:** 50-59 year old customers had the highest number, followed by 40-49 and 60-69 year olds. Age-alarm counts, however, tell us that 60-69 year olds have the highest number of alarms at over 8,000, followed by 50-59 and 40-49 year olds at around 6,000; and 70-79 year olds have the next highest number of alarms at less than 5,000."
   ]
  },
  {
   "cell_type": "code",
   "execution_count": 71,
   "metadata": {},
   "outputs": [
    {
     "data": {
      "image/png": "[encoded data removed]",
      "text/plain": [
       "<Figure size 1152x576 with 1 Axes>"
      ]
     },
     "metadata": {
      "needs_background": "light"
     },
     "output_type": "display_data"
    },
    {
     "data": {
      "image/png": "[encoded data removed]",
      "text/plain": [
       "<Figure size 1152x576 with 1 Axes>"
      ]
     },
     "metadata": {
      "needs_background": "light"
     },
     "output_type": "display_data"
    },
    {
     "data": {
      "image/png": "[encoded data removed]",
      "text/plain": [
       "<Figure size 1152x576 with 1 Axes>"
      ]
     },
     "metadata": {
      "needs_background": "light"
     },
     "output_type": "display_data"
    }
   ],
   "source": [
    "# Putting ACData in chronological order\n",
    "ACData_cl = ACData_cl.sort_values(by='StartTime').reset_index(drop=True)\n",
    "\n",
    "# Monthly distribution of the number of alarms\n",
    "plt.figure(figsize=(16,8))\n",
    "MY = sns.countplot(x='MonthYear', data=ACData_cl, palette='rocket_r')\n",
    "MY.set_xticklabels(MY.get_xticklabels(),rotation=45)\n",
    "MY.set_title('Months - Alarm Counts Bar Chart')\n",
    "plt.show(MY)\n",
    "\n",
    "# Monthly distribution of the number of alarms based on gender\n",
    "plt.figure(figsize=(16,8))\n",
    "MY_G = sns.countplot(x='MonthYear', hue='Gender', data=ACData_cl, palette='Reds')\n",
    "MY_G.set_xticklabels(MY_G.get_xticklabels(),rotation=45)\n",
    "MY_G.set_title('Temporal Distribution of the Number of Alarms by Gender')\n",
    "plt.show()\n",
    "\n",
    "# Monthly distribution of the number of alarms based on age group\n",
    "plt.figure(figsize=(16,8))\n",
    "MY_A = sns.countplot(x='MonthYear', hue='AgeGroup', data=ACData_cl, palette='Paired')\n",
    "MY_A.set_xticklabels(MY_A.get_xticklabels(),rotation=45)\n",
    "MY_A.set_title('Temporal Distribution of the Number of Alarms by Age')\n",
    "plt.show()\n"
   ]
  },
  {
   "cell_type": "markdown",
   "metadata": {},
   "source": [
    "**Insights:**\n",
    "\n",
    "Drawing a bar chat of the monthly distribution of the number of alarms and combining it with gender and age, we see that -\n",
    "1. the number of alarms fluctuates slightly but is generally stable from August 2019 to June 2020, but in the months of July, August and September 2020, the number of alarms rises significantly month by month, with September 2020 having the highest number of alarms for the entire time period included in the table.\n",
    "2. The number of females' alarms exceeded those of males in all months from July 202. In the vast majority of the previous months, the number of alarms for males significantly exceeded the number of alarms for females.\n",
    "3. the number of alarms for people aged 60-69 was the highest of all age groups in most months from March 2020, with only June 2020 ranking second. In contrast, in the vast majority of the previous months, it is usually the 50-59 and 70-79 year olds who have the highest number of alarms. In addition, July, August and September 2020 saw the most significant increase in the number of alarms for customers aged 60-69."
   ]
  },
  {
   "cell_type": "code",
   "execution_count": 72,
   "metadata": {},
   "outputs": [
    {
     "data": {
      "image/png": "[encoded data removed]",
      "text/plain": [
       "<Figure size 1152x576 with 1 Axes>"
      ]
     },
     "metadata": {
      "needs_background": "light"
     },
     "output_type": "display_data"
    },
    {
     "name": "stdout",
     "output_type": "stream",
     "text": [
      "                              ServiceName  AlarmCounts\n",
      "0                                   Alarm        11618\n",
      "1                             Wrist Alarm         7869\n",
      "2                         Pull Cord Alarm         4510\n",
      "3  ALARM - Physical Response NOT Required         3613\n",
      "4                              Fire Alarm          543\n",
      "5                        Footprint alarm           341\n",
      "6                           Alarm Testing          162\n",
      "7      ALARM - Physical Response Required           59\n",
      "8           Wifi Watch Alarm Low  Battery           25\n",
      "9                  Door Alarm Battery Low           24\n"
     ]
    }
   ],
   "source": [
    "ServiceCounts = ACData_cl['ServiceName'].value_counts().reset_index()\n",
    "ServiceCounts.columns = ['ServiceName', 'AlarmCounts']\n",
    "\n",
    "# Distribution of types of alarms\n",
    "plt.figure(figsize=(16,8))\n",
    "SC_bar = sns.barplot(x='ServiceName', y='AlarmCounts', data=ServiceCounts, palette='Spectral')\n",
    "SC_bar.set_xticklabels(SC_bar.get_xticklabels(), rotation=90)\n",
    "SC_bar.set_title('Alarm Service Counts Bar Chart')\n",
    "plt.show()\n",
    "\n",
    "print(ServiceCounts.head(10))"
   ]
  },
  {
   "cell_type": "markdown",
   "metadata": {},
   "source": [
    "**Insights:** The Alarm and Wrist Alarm types have the highest numbers of all alarm services, followed by Pull Cord Alarm and Alarm - Physical Response Not Requirements. The rest of the alarm types have very small percentages."
   ]
  },
  {
   "cell_type": "code",
   "execution_count": 73,
   "metadata": {},
   "outputs": [
    {
     "data": {
      "image/png": "[encoded data removed]",
      "text/plain": [
       "<Figure size 1152x576 with 1 Axes>"
      ]
     },
     "metadata": {
      "needs_background": "light"
     },
     "output_type": "display_data"
    },
    {
     "data": {
      "image/png": "[encoded data removed]",
      "text/plain": [
       "<Figure size 1152x576 with 1 Axes>"
      ]
     },
     "metadata": {
      "needs_background": "light"
     },
     "output_type": "display_data"
    }
   ],
   "source": [
    "# Month-based distribution of alarm types\n",
    "plt.figure(figsize=(16,8))\n",
    "SN_G = sns.countplot(x='ServiceName', hue='Gender', data=ACData_cl, palette='Reds')\n",
    "SN_G.set_xticklabels(SN_G.get_xticklabels(), rotation=90)\n",
    "SN_G.set_title('Gender - Alarm Service Counts')\n",
    "plt.show()\n",
    "\n",
    "# Age-based distribution of alarm types\n",
    "plt.figure(figsize=(16,8))\n",
    "SN_A = sns.countplot(x='ServiceName', hue='AgeGroup', data=ACData_cl, palette='Paired')\n",
    "SN_A.set_xticklabels(SN_G.get_xticklabels(), rotation=90)\n",
    "SN_A.set_title('Age - Alarm Service Counts')\n",
    "plt.show()"
   ]
  },
  {
   "cell_type": "markdown",
   "metadata": {},
   "source": [
    "**Insights:**\n",
    "1. In the two most numerous alarm service types, Alarm and Wrist Alarm, males had a higher number of alarms than females, but in the Alarm - Physical Response Not Requirements type, females slightly outnumbered males.\n",
    "2. In Alarm, the highest number of alarms were in the 60-69 age group and fewer in the 70-79 age group (less than 500 alarms). While in both Wrist Alarm and Pull Cord Alarm, the number of alarms in the 70-79 age group was high and the number of alarms in the 60-69 age group was relatively low."
   ]
  },
  {
   "cell_type": "code",
   "execution_count": 74,
   "metadata": {},
   "outputs": [
    {
     "data": {
      "image/png": "[encoded data removed]",
      "text/plain": [
       "<Figure size 1152x576 with 1 Axes>"
      ]
     },
     "metadata": {
      "needs_background": "light"
     },
     "output_type": "display_data"
    },
    {
     "data": {
      "image/png": "[encoded data removed]",
      "text/plain": [
       "<Figure size 1152x576 with 1 Axes>"
      ]
     },
     "metadata": {
      "needs_background": "light"
     },
     "output_type": "display_data"
    },
    {
     "data": {
      "image/png": "[encoded data removed]",
      "text/plain": [
       "<Figure size 1152x576 with 1 Axes>"
      ]
     },
     "metadata": {
      "needs_background": "light"
     },
     "output_type": "display_data"
    }
   ],
   "source": [
    "# Time distribution of the number of Alarm\n",
    "Alarm = ACData_cl.loc[(ACData_cl['ServiceName']=='Alarm')]\n",
    "plt.figure(figsize=(16,8))\n",
    "MY_Alarm = sns.countplot(x='MonthYear', data=Alarm, palette='ch:s=2.8,r=.1')\n",
    "MY_Alarm.set_xticklabels(MY_Alarm.get_xticklabels(), rotation=45)\n",
    "MY_Alarm.set_title('Temporal Distribution of the Number of Alarms')\n",
    "plt.show()\n",
    "\n",
    "# Time distribution of the number of Wrist Alarm\n",
    "WristAlarm = ACData_cl.loc[(ACData_cl['ServiceName']=='Wrist Alarm')]\n",
    "plt.figure(figsize=(16,8))\n",
    "MY_WristAlarm = sns.countplot(x='MonthYear', data=WristAlarm, palette='ch:s=-.2,r=.6')\n",
    "MY_WristAlarm.set_xticklabels(MY_WristAlarm.get_xticklabels(), rotation=45)\n",
    "MY_WristAlarm.set_title('Temporal Distribution of the Number of Wrist Alarms')\n",
    "plt.show()\n",
    "\n",
    "# Time distribution of the number of Other Alarm\n",
    "OtherAlarm = ACData_cl.loc[~(ACData_cl['ServiceName'].isin(['Alarm','Wrist Alarm']))]\n",
    "plt.figure(figsize=(16,8))\n",
    "MY_OtherAlarm = sns.countplot(x='MonthYear', data=OtherAlarm, palette='ch:s=.2,r=-.3')\n",
    "MY_OtherAlarm.set_xticklabels(MY_OtherAlarm.get_xticklabels(), rotation=45)\n",
    "MY_OtherAlarm.set_title('Temporal Distribution of the Number of Other Alarms')\n",
    "plt.show()"
   ]
  },
  {
   "cell_type": "markdown",
   "metadata": {},
   "source": [
    "**Insights:**\n",
    "1. the number of Alarms is stable and low throughout 2019; in the first half of 2020, their number rises slightly and then falls back, before rising sharply in July, August and September.\n",
    "2. the number of Wrist Alarms remains high until August 2019, but declines significantly from September 2019 onwards, and is almost infrequent in 2020.\n",
    "3. The monthly distribution of the number of other alarm types is more similar to the monthly distribution of the total number of alarms."
   ]
  },
  {
   "cell_type": "markdown",
   "metadata": {},
   "source": [
    "## Reflect and Hypothesise\n",
    "\n",
    "### Data Reflection\n",
    "\n",
    "#### What's my data? What do I focus on?\n",
    "Our group was given data from an agency that provides housing and care services for older and disabled people, and it mainly contains some of the basic information about customers (age, gender, health conditions, etc.) as well as data on various types of service requests. I mainly chose to explore the relationship between customers of different ages and genders and alarm services.\n",
    "#### What difficulties did I encounter?\n",
    "‘Real-world data is so confusing!’ This is the idea that came up most often when I was first trying to read the data and trying to clean it. I have so many confusing things: why are there so many null values, why do the same IDs have several lines of different information, what service types do these refer to specifically, what do the start time, end time, response time ...... mean respectively? I had to set aside the data that I was having trouble reading at the moment and start with some of the more understandable parts of the cleaning and analysis.\n",
    "\n",
    "Real data is also very tricky. For example, some columns had data types that were not suitable for subsequent analysis and had to be converted. Others are too fine-grained, such as time and date data that is accurate down to the minute, and in order to spot some patterns from a more macro perspective, I need to convert them again to month-based units. Outliers are also tricky to analyse, and I currently have no way of knowing or explaining why some customers have dozens or even hundreds of alarm requests per day that can only be deleted on the grounds that ‘If keeped it will affect the data analysis too much.’ This is likely to be unwise and I might have made a better decision if I had more time and had more background information relating to the data.\n",
    "#### What's the point of my analysis?\n",
    "Analysing this data has very important practical implications. First, by analysing the relationship between different characteristics and the number of alarm services, it can help Blackwood understand the specific service preferences of current customers of a certain type (e.g., a certain age group). Second, analysis in the time dimension can reflect the influence of specific factors (e.g., Covid-19 in this year) on the behavior of customers with different characteristics."
   ]
  },
  {
   "cell_type": "markdown",
   "metadata": {},
   "source": [
    "### Hypothesis\n",
    "\n",
    "#### Hypothesis 1: There is a stronger correlation between alarm requests and Covid-19 in 2020.\n",
    "By comparing the bar chart below for the post-March 2020 section with the bar chart for the UK Covid-19's tested positive cases https://coronavirus.data.gov.uk/details/cases , we can see that their data changes have a significant similarity, so I suspect that ‘There is a relatively strong correlation between alarm requests and Covid-19 in 2020 ’.\n",
    "\n",
    "For further validation, the correlation between the March-October 2020 alarm request data and the number of positive COVID-19 tested cases in the UK during March-October 2020 can be tested by T-Test. If the p-value is less than 0.05, the correlation is significant. However, prior to the T-Test, the Kolmogorov-Smirnov Test should be used to verify that the two datasets are normally distributed."
   ]
  },
  {
   "cell_type": "code",
   "execution_count": 75,
   "metadata": {},
   "outputs": [
    {
     "data": {
      "image/png": "[encoded data removed]",
      "text/plain": [
       "<Figure size 1152x576 with 1 Axes>"
      ]
     },
     "metadata": {
      "needs_background": "light"
     },
     "output_type": "display_data"
    }
   ],
   "source": [
    "plt.figure(figsize=(16,8))\n",
    "MY = sns.countplot(x='MonthYear', data=ACData_cl, palette='rocket_r')\n",
    "MY.set_xticklabels(MY.get_xticklabels(),rotation=45)\n",
    "MY.set_title('Months - Alarm Counts Bar Chart')\n",
    "plt.show(MY)"
   ]
  },
  {
   "cell_type": "markdown",
   "metadata": {},
   "source": [
    "#### Hypothesis 2: From July-September 2020, the group with the highest demand for alarms is females aged 60-69, based on age and gender.\n",
    "As you can see from the two bar charts below, July-September 2020 saw the most significant increase in both females and customers aged 60-69, so I hypothesize that the group with the highest demand for alarms during this time period is females aged 60-69."
   ]
  },
  {
   "cell_type": "code",
   "execution_count": 76,
   "metadata": {},
   "outputs": [
    {
     "data": {
      "image/png": "[encoded data removed]",
      "text/plain": [
       "<Figure size 1152x576 with 1 Axes>"
      ]
     },
     "metadata": {
      "needs_background": "light"
     },
     "output_type": "display_data"
    },
    {
     "data": {
      "image/png": "[encoded data removed]",
      "text/plain": [
       "<Figure size 1152x576 with 1 Axes>"
      ]
     },
     "metadata": {
      "needs_background": "light"
     },
     "output_type": "display_data"
    }
   ],
   "source": [
    "# Monthly distribution of the number of alarms based on gender\n",
    "plt.figure(figsize=(16,8))\n",
    "MY_G = sns.countplot(x='MonthYear', hue='Gender', data=ACData_cl, palette='Reds')\n",
    "MY_G.set_xticklabels(MY_G.get_xticklabels(),rotation=45)\n",
    "MY_G.set_title('Temporal Distribution of the Number of Alarms by Gender')\n",
    "plt.show()\n",
    "\n",
    "# Monthly distribution of the number of alarms based on age group\n",
    "plt.figure(figsize=(16,8))\n",
    "MY_A = sns.countplot(x='MonthYear', hue='AgeGroup', data=ACData_cl, palette='Paired')\n",
    "MY_A.set_xticklabels(MY_A.get_xticklabels(),rotation=45)\n",
    "MY_A.set_title('Temporal Distribution of the Number of Alarms by Age')\n",
    "plt.show()"
   ]
  },
  {
   "cell_type": "markdown",
   "metadata": {},
   "source": [
    "To test this hypothesis, I tried to extract the alarm data for all age groups of customers of different genders from July-September 2020 and show their distribution in a bar chart. As you can see, the number of alarms for females aged 60-69 years is 2251, which is the highest among all groups and therefore fits my conjecture. Combined with hypothesis 1, we can further conjecture that **females aged 60-69 are most affected by Covid-19 in July-September ...**"
   ]
  },
  {
   "cell_type": "code",
   "execution_count": 77,
   "metadata": {},
   "outputs": [
    {
     "name": "stdout",
     "output_type": "stream",
     "text": [
      "      ExternalID                             ServiceName           StartTime  \\\n",
      "21806       8724  ALARM - Physical Response NOT Required 2020-07-01 03:38:00   \n",
      "21807       8724                                   Alarm 2020-07-01 03:38:00   \n",
      "21825       5541                                   Alarm 2020-07-01 13:07:00   \n",
      "21830       5385                                   Alarm 2020-07-01 14:50:00   \n",
      "21831       5541                                   Alarm 2020-07-01 15:54:00   \n",
      "\n",
      "          Status MonthYear DayMonthYear Gender DateOfBirth  Age  \\\n",
      "21806  completed   2020-07   2020-07-01      F  1958-09-24   62   \n",
      "21807  completed   2020-07   2020-07-01      F  1958-09-24   62   \n",
      "21825  completed   2020-07   2020-07-01      M  1954-02-18   66   \n",
      "21830     active   2020-07   2020-07-01      M  1952-09-01   68   \n",
      "21831  completed   2020-07   2020-07-01      M  1954-02-18   66   \n",
      "\n",
      "                                     DisablingConditions AgeGroup  \n",
      "21806                                         Parkinsons    60~69  \n",
      "21807                                         Parkinsons    60~69  \n",
      "21825  Incontinence                                  ...    60~69  \n",
      "21830                                       Brain Injury    60~69  \n",
      "21831  Incontinence                                  ...    60~69  \n",
      "F    2251\n",
      "M    1282\n",
      "Name: Gender, dtype: int64\n"
     ]
    },
    {
     "data": {
      "image/png": "[encoded data removed]",
      "text/plain": [
       "<Figure size 1152x576 with 1 Axes>"
      ]
     },
     "metadata": {
      "needs_background": "light"
     },
     "output_type": "display_data"
    }
   ],
   "source": [
    "Months = ACData_cl.loc[ACData_cl['DayMonthYear'].between('2020-06-30','2020-10-01', inclusive=False)]\n",
    "MonthsAge = Months.loc[Months['AgeGroup'].isin(['60~69'])]\n",
    "print(MonthsAge.head())\n",
    "print(MonthsAge['Gender'].value_counts())\n",
    "\n",
    "plt.figure(figsize=(16,8))\n",
    "GMA = sns.countplot(x='Gender', hue='AgeGroup', data=Months, palette='Paired')\n",
    "plt.show()"
   ]
  },
  {
   "cell_type": "markdown",
   "metadata": {},
   "source": [
    "#### Hypothesis 3: Wrist Alarm is being phased out or replaced from September 2019 onwards.\n",
    "As you can see from the two bar chats below, the number of Wrist Alarms begins to decline significantly from September 2020 onwards, and by 2020 this alarm service is rare; whereas the number of Alarms is on a general upward trend from 2020 onwards, and rises significantly in July, August and September. These two seemingly opposing graphs lead me to hypothesize that the Wrist Alarm may be flawed and therefore gradually being phased out or replaced.\n",
    "\n",
    "To test this hypothesis, I would need to ask the data owner if they have plans to begin phasing out and replacing their Wrist Alarm Service in 2019."
   ]
  },
  {
   "cell_type": "code",
   "execution_count": 78,
   "metadata": {},
   "outputs": [
    {
     "data": {
      "image/png": "[encoded data removed]",
      "text/plain": [
       "<Figure size 1152x576 with 1 Axes>"
      ]
     },
     "metadata": {
      "needs_background": "light"
     },
     "output_type": "display_data"
    },
    {
     "data": {
      "image/png": "[encoded data removed]",
      "text/plain": [
       "<Figure size 1152x576 with 1 Axes>"
      ]
     },
     "metadata": {
      "needs_background": "light"
     },
     "output_type": "display_data"
    }
   ],
   "source": [
    "# Time distribution of number of alarms\n",
    "Alarm = ACData_cl.loc[(ACData_cl['ServiceName']=='Alarm')]\n",
    "plt.figure(figsize=(16,8))\n",
    "MY_Alarm = sns.countplot(x='MonthYear', data=Alarm, palette='ch:s=2.8,r=.1')\n",
    "MY_Alarm.set_xticklabels(MY_Alarm.get_xticklabels(), rotation=45)\n",
    "MY_Alarm.set_title('Temporal Distribution of the Number of Alarms')\n",
    "plt.show()\n",
    "\n",
    "# Time distribution of number of wrist alarms\n",
    "WristAlarm = ACData_cl.loc[(ACData_cl['ServiceName']=='Wrist Alarm')]\n",
    "plt.figure(figsize=(16,8))\n",
    "MY_WristAlarm = sns.countplot(x='MonthYear', data=WristAlarm, palette='ch:s=-.2,r=.6')\n",
    "MY_WristAlarm.set_xticklabels(MY_WristAlarm.get_xticklabels(), rotation=45)\n",
    "MY_WristAlarm.set_title('Temporal Distribution of the Number of Wrist Alarms')\n",
    "plt.show()"
   ]
  },
  {
   "cell_type": "code",
   "execution_count": null,
   "metadata": {},
   "outputs": [],
   "source": []
  },
  {
   "cell_type": "code",
   "execution_count": null,
   "metadata": {},
   "outputs": [],
   "source": []
  }
 ],
 "metadata": {
  "kernelspec": {
   "display_name": "Python 3",
   "language": "python",
   "name": "python3"
  },
  "language_info": {
   "codemirror_mode": {
    "name": "ipython",
    "version": 3
   },
   "file_extension": ".py",
   "mimetype": "text/x-python",
   "name": "python",
   "nbconvert_exporter": "python",
   "pygments_lexer": "ipython3",
   "version": "3.8.3"
  }
 },
 "nbformat": 4,
 "nbformat_minor": 4
}
